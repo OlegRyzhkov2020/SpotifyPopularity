{
 "cells": [
  {
   "cell_type": "markdown",
   "metadata": {},
   "source": [
    "---\n",
    "title: \"Spotify Project\"\n",
    "subtitle: \"EDA and features selection\"\n",
    "author: \"Oleg Ryzhkov (oryzhkov@chicagobooth.edu)\"\n",
    "date: February 12, 2021\n",
    "output: target dataset with selected features\n",
    "    csv_file: \n",
    "---"
   ]
  },
  {
   "cell_type": "markdown",
   "metadata": {},
   "source": [
    "### Popularity Ranking\n",
    "* The goal is to build a model for prediction of popularity ranking"
   ]
  },
  {
   "cell_type": "code",
   "execution_count": 1,
   "metadata": {},
   "outputs": [],
   "source": [
    "# install.packages(\"textcat\")  "
   ]
  },
  {
   "cell_type": "code",
   "execution_count": 2,
   "metadata": {},
   "outputs": [],
   "source": [
    "library(textcat)"
   ]
  },
  {
   "cell_type": "code",
   "execution_count": 4,
   "metadata": {},
   "outputs": [],
   "source": [
    "# Load relevant libraries \n",
    "library(Boruta)\n",
    "library(caret)\n",
    "library(randomForest)\n",
    "library(mlbench)\n",
    "library(tidyverse)\n",
    "library(hrbrthemes)\n",
    "library(ggplot2)\n",
    "library(grid)\n",
    "library(gridExtra)"
   ]
  },
  {
   "cell_type": "code",
   "execution_count": 6,
   "metadata": {},
   "outputs": [],
   "source": [
    "library(dplyr)\n",
    "library(glmnet)\n",
    "library(ROCR)\n",
    "library(tree)\n",
    "library(ranger)\n",
    "library(xgboost)\n",
    "library(rpart)\n",
    "library(rpart.plot)\n",
    "library(corrplot)\n",
    "library(stringr)  \n",
    "library(lubridate)"
   ]
  },
  {
   "cell_type": "markdown",
   "metadata": {},
   "source": [
    "* Functions"
   ]
  },
  {
   "cell_type": "code",
   "execution_count": 7,
   "metadata": {},
   "outputs": [],
   "source": [
    "# Set plot display parameters \n",
    "fig <- function(width, heigth){\n",
    "     options(repr.plot.width = width, repr.plot.height = heigth)\n",
    "}\n",
    "# Calculate RMSE\n",
    "rmse = function(predict, output){\n",
    "  sqrt(mean((predict - output)^2))\n",
    "}\n",
    "draw_corr <- function(df, cols, sort_col, threshold) {\n",
    "  \n",
    "  all_num_values <- df[, cols]\n",
    "  cor_mtx <- cor(all_num_values, use=\"pairwise.complete.obs\")\n",
    "  \n",
    "  cor_sorted <- as.matrix(sort(cor_mtx[, sort_col], decreasing = TRUE))\n",
    "  \n",
    "  cor_threshold <- names(which(apply(cor_sorted, 1, function(x) abs(x)>threshold)))\n",
    "  cor_mtx <- cor_mtx[cor_threshold, cor_threshold]\n",
    "  corrplot.mixed(cor_mtx, tl.col=\"black\", tl.pos = \"lt\")\n",
    "}"
   ]
  },
  {
   "cell_type": "markdown",
   "metadata": {},
   "source": [
    "* LOAD DATA"
   ]
  },
  {
   "cell_type": "code",
   "execution_count": 8,
   "metadata": {},
   "outputs": [
    {
     "data": {
      "text/plain": [
       "   artists           popularity        track_count       \n",
       " Length:32539       Length:32539       Length:32539      \n",
       " Class :character   Class :character   Class :character  \n",
       " Mode  :character   Mode  :character   Mode  :character  "
      ]
     },
     "metadata": {},
     "output_type": "display_data"
    }
   ],
   "source": [
    "# Load the artists data\n",
    "artist.data<-read.csv('../data/data_by_artist.csv')\n",
    "artists.rank <- cbind(artists = artist.data$artists, popularity = artist.data$popularity, track_count = artist.data$count)\n",
    "summary(artists.rank)"
   ]
  },
  {
   "cell_type": "code",
   "execution_count": 9,
   "metadata": {},
   "outputs": [
    {
     "name": "stdout",
     "output_type": "stream",
     "text": [
      "'data.frame':\t32539 obs. of  3 variables:\n",
      " $ artists    : chr  \"\\\"Cats\\\" 1981 Original London Cast\" \"\\\"Cats\\\" 1983 Broadway Cast\" \"\\\"Fiddler On The Roof” Motion Picture Chorus\" \"\\\"Fiddler On The Roof” Motion Picture Orchestra\" ...\n",
      " $ popularity : int  38 31 34 34 42 33 0 3 32 0 ...\n",
      " $ track_count: int  10 26 7 27 7 24 2 2 106 2 ...\n"
     ]
    }
   ],
   "source": [
    "artists.rank_df <- as.data.frame(artists.rank) \n",
    "column.names.to.integer <- c('popularity', 'track_count')\n",
    "artists.rank_df <- mutate_at(artists.rank_df, column.names.to.integer, as.integer)\n",
    "str(artists.rank_df)"
   ]
  },
  {
   "cell_type": "code",
   "execution_count": 10,
   "metadata": {},
   "outputs": [
    {
     "data": {
      "text/html": [
       "<table>\n",
       "<caption>A data.frame: 6 × 3</caption>\n",
       "<thead>\n",
       "\t<tr><th></th><th scope=col>artists</th><th scope=col>popularity</th><th scope=col>track_count</th></tr>\n",
       "\t<tr><th></th><th scope=col>&lt;chr&gt;</th><th scope=col>&lt;int&gt;</th><th scope=col>&lt;int&gt;</th></tr>\n",
       "</thead>\n",
       "<tbody>\n",
       "\t<tr><th scope=row>9762</th><td>Francisco Canaro        </td><td> 0</td><td>3179</td></tr>\n",
       "\t<tr><th scope=row>27355</th><td>Tadeusz Dolega Mostowicz</td><td> 0</td><td>2562</td></tr>\n",
       "\t<tr><th scope=row>32375</th><td>Эрнест Хемингуэй        </td><td> 0</td><td>2350</td></tr>\n",
       "\t<tr><th scope=row>32374</th><td>Эрих Мария Ремарк       </td><td> 0</td><td>2124</td></tr>\n",
       "\t<tr><th scope=row>9833</th><td>Frank Sinatra           </td><td>28</td><td>1435</td></tr>\n",
       "\t<tr><th scope=row>12376</th><td>Ignacio Corsini         </td><td> 0</td><td>1248</td></tr>\n",
       "</tbody>\n",
       "</table>\n"
      ],
      "text/latex": [
       "A data.frame: 6 × 3\n",
       "\\begin{tabular}{r|lll}\n",
       "  & artists & popularity & track\\_count\\\\\n",
       "  & <chr> & <int> & <int>\\\\\n",
       "\\hline\n",
       "\t9762 & Francisco Canaro         &  0 & 3179\\\\\n",
       "\t27355 & Tadeusz Dolega Mostowicz &  0 & 2562\\\\\n",
       "\t32375 & Эрнест Хемингуэй         &  0 & 2350\\\\\n",
       "\t32374 & Эрих Мария Ремарк        &  0 & 2124\\\\\n",
       "\t9833 & Frank Sinatra            & 28 & 1435\\\\\n",
       "\t12376 & Ignacio Corsini          &  0 & 1248\\\\\n",
       "\\end{tabular}\n"
      ],
      "text/markdown": [
       "\n",
       "A data.frame: 6 × 3\n",
       "\n",
       "| <!--/--> | artists &lt;chr&gt; | popularity &lt;int&gt; | track_count &lt;int&gt; |\n",
       "|---|---|---|---|\n",
       "| 9762 | Francisco Canaro         |  0 | 3179 |\n",
       "| 27355 | Tadeusz Dolega Mostowicz |  0 | 2562 |\n",
       "| 32375 | Эрнест Хемингуэй         |  0 | 2350 |\n",
       "| 32374 | Эрих Мария Ремарк        |  0 | 2124 |\n",
       "| 9833 | Frank Sinatra            | 28 | 1435 |\n",
       "| 12376 | Ignacio Corsini          |  0 | 1248 |\n",
       "\n"
      ],
      "text/plain": [
       "      artists                  popularity track_count\n",
       "9762  Francisco Canaro          0         3179       \n",
       "27355 Tadeusz Dolega Mostowicz  0         2562       \n",
       "32375 Эрнест Хемингуэй          0         2350       \n",
       "32374 Эрих Мария Ремарк         0         2124       \n",
       "9833  Frank Sinatra            28         1435       \n",
       "12376 Ignacio Corsini           0         1248       "
      ]
     },
     "metadata": {},
     "output_type": "display_data"
    }
   ],
   "source": [
    "top_artists <- artists.rank_df[order(artists.rank_df$track_count, decreasing = TRUE),]\n",
    "head(top_artists)\n",
    "#artists.rank_df[artists.rank_df$track_count>900,]"
   ]
  },
  {
   "cell_type": "code",
   "execution_count": 11,
   "metadata": {},
   "outputs": [
    {
     "name": "stdout",
     "output_type": "stream",
     "text": [
      "'data.frame':\t174389 obs. of  19 variables:\n",
      " $ acousticness    : num  0.991 0.643 0.993 0.000173 0.295 0.996 0.992 0.996 0.996 0.00682 ...\n",
      " $ artists         : chr  \"['Mamie Smith']\" \"[\\\"Screamin' Jay Hawkins\\\"]\" \"['Mamie Smith']\" \"['Oscar Velazquez']\" ...\n",
      " $ danceability    : num  0.598 0.852 0.647 0.73 0.704 0.424 0.782 0.474 0.469 0.571 ...\n",
      " $ duration_ms     : int  168333 150200 163827 422087 165224 198627 195200 186173 146840 476304 ...\n",
      " $ energy          : num  0.224 0.517 0.186 0.798 0.707 0.245 0.0573 0.239 0.238 0.753 ...\n",
      " $ explicit        : int  0 0 0 0 1 0 0 0 0 0 ...\n",
      " $ id              : chr  \"0cS0A1fUEUd1EW3FcF8AEI\" \"0hbkKFIJm7Z05H8Zl9w30f\" \"11m7laMUgmOKqI3oYzuhne\" \"19Lc5SfJJ5O1oaxY0fpwfh\" ...\n",
      " $ instrumentalness: num  5.22e-04 2.64e-02 1.76e-05 8.01e-01 2.46e-04 7.99e-01 1.61e-06 1.86e-01 9.60e-01 8.73e-01 ...\n",
      " $ key             : int  5 5 0 2 10 5 5 9 8 8 ...\n",
      " $ liveness        : num  0.379 0.0809 0.519 0.128 0.402 0.235 0.176 0.195 0.149 0.092 ...\n",
      " $ loudness        : num  -12.63 -7.26 -12.1 -7.31 -6.04 ...\n",
      " $ mode            : int  0 0 1 1 0 1 1 1 1 1 ...\n",
      " $ name            : chr  \"Keep A Song In Your Soul\" \"I Put A Spell On You\" \"Golfing Papa\" \"True House Music - Xavier Santos & Carlos Gomix Remix\" ...\n",
      " $ popularity      : int  12 7 4 17 2 9 5 0 0 0 ...\n",
      " $ release_date    : chr  \"1920\" \"1920-01-05\" \"1920\" \"1920-01-01\" ...\n",
      " $ speechiness     : num  0.0936 0.0534 0.174 0.0425 0.0768 0.0397 0.0592 0.0289 0.0741 0.0446 ...\n",
      " $ tempo           : num  150 86.9 97.6 128 122.1 ...\n",
      " $ valence         : num  0.634 0.95 0.689 0.0422 0.299 0.477 0.487 0.366 0.621 0.119 ...\n",
      " $ year            : int  1920 1920 1920 1920 1920 1920 1920 1920 1920 1920 ...\n"
     ]
    }
   ],
   "source": [
    "# Load the data\n",
    "data<-read.csv('../data/data.csv')\n",
    "str(data)"
   ]
  },
  {
   "cell_type": "code",
   "execution_count": 12,
   "metadata": {},
   "outputs": [
    {
     "data": {
      "text/html": [
       "<style>\n",
       ".dl-inline {width: auto; margin:0; padding: 0}\n",
       ".dl-inline>dt, .dl-inline>dd {float: none; width: auto; display: inline-block}\n",
       ".dl-inline>dt::after {content: \":\\0020\"; padding-right: .5ex}\n",
       ".dl-inline>dt:not(:first-of-type) {padding-left: .5ex}\n",
       "</style><dl class=dl-inline><dt>acousticness</dt><dd>0</dd><dt>artists</dt><dd>0</dd><dt>danceability</dt><dd>0</dd><dt>duration_ms</dt><dd>0</dd><dt>energy</dt><dd>0</dd><dt>explicit</dt><dd>0</dd><dt>id</dt><dd>0</dd><dt>instrumentalness</dt><dd>0</dd><dt>key</dt><dd>0</dd><dt>liveness</dt><dd>0</dd><dt>loudness</dt><dd>0</dd><dt>mode</dt><dd>0</dd><dt>name</dt><dd>0</dd><dt>popularity</dt><dd>0</dd><dt>release_date</dt><dd>0</dd><dt>speechiness</dt><dd>0</dd><dt>tempo</dt><dd>0</dd><dt>valence</dt><dd>0</dd><dt>year</dt><dd>0</dd></dl>\n"
      ],
      "text/latex": [
       "\\begin{description*}\n",
       "\\item[acousticness] 0\n",
       "\\item[artists] 0\n",
       "\\item[danceability] 0\n",
       "\\item[duration\\textbackslash{}\\_ms] 0\n",
       "\\item[energy] 0\n",
       "\\item[explicit] 0\n",
       "\\item[id] 0\n",
       "\\item[instrumentalness] 0\n",
       "\\item[key] 0\n",
       "\\item[liveness] 0\n",
       "\\item[loudness] 0\n",
       "\\item[mode] 0\n",
       "\\item[name] 0\n",
       "\\item[popularity] 0\n",
       "\\item[release\\textbackslash{}\\_date] 0\n",
       "\\item[speechiness] 0\n",
       "\\item[tempo] 0\n",
       "\\item[valence] 0\n",
       "\\item[year] 0\n",
       "\\end{description*}\n"
      ],
      "text/markdown": [
       "acousticness\n",
       ":   0artists\n",
       ":   0danceability\n",
       ":   0duration_ms\n",
       ":   0energy\n",
       ":   0explicit\n",
       ":   0id\n",
       ":   0instrumentalness\n",
       ":   0key\n",
       ":   0liveness\n",
       ":   0loudness\n",
       ":   0mode\n",
       ":   0name\n",
       ":   0popularity\n",
       ":   0release_date\n",
       ":   0speechiness\n",
       ":   0tempo\n",
       ":   0valence\n",
       ":   0year\n",
       ":   0\n",
       "\n"
      ],
      "text/plain": [
       "    acousticness          artists     danceability      duration_ms \n",
       "               0                0                0                0 \n",
       "          energy         explicit               id instrumentalness \n",
       "               0                0                0                0 \n",
       "             key         liveness         loudness             mode \n",
       "               0                0                0                0 \n",
       "            name       popularity     release_date      speechiness \n",
       "               0                0                0                0 \n",
       "           tempo          valence             year \n",
       "               0                0                0 "
      ]
     },
     "metadata": {},
     "output_type": "display_data"
    }
   ],
   "source": [
    "# The following tells us the number of missing values in each column.\n",
    "sapply(data, function(x) sum(is.na(x)))"
   ]
  },
  {
   "cell_type": "markdown",
   "metadata": {},
   "source": [
    "#### Data Cleaning and Transformation"
   ]
  },
  {
   "cell_type": "code",
   "execution_count": 13,
   "metadata": {},
   "outputs": [
    {
     "data": {
      "text/html": [
       "<table>\n",
       "<caption>A data.frame: 6 × 18</caption>\n",
       "<thead>\n",
       "\t<tr><th></th><th scope=col>acousticness</th><th scope=col>artists</th><th scope=col>danceability</th><th scope=col>duration_ms</th><th scope=col>energy</th><th scope=col>explicit</th><th scope=col>instrumentalness</th><th scope=col>key</th><th scope=col>liveness</th><th scope=col>loudness</th><th scope=col>mode</th><th scope=col>name</th><th scope=col>popularity</th><th scope=col>release_date</th><th scope=col>speechiness</th><th scope=col>tempo</th><th scope=col>valence</th><th scope=col>year</th></tr>\n",
       "\t<tr><th></th><th scope=col>&lt;dbl&gt;</th><th scope=col>&lt;chr&gt;</th><th scope=col>&lt;dbl&gt;</th><th scope=col>&lt;int&gt;</th><th scope=col>&lt;dbl&gt;</th><th scope=col>&lt;int&gt;</th><th scope=col>&lt;dbl&gt;</th><th scope=col>&lt;int&gt;</th><th scope=col>&lt;dbl&gt;</th><th scope=col>&lt;dbl&gt;</th><th scope=col>&lt;int&gt;</th><th scope=col>&lt;chr&gt;</th><th scope=col>&lt;int&gt;</th><th scope=col>&lt;date&gt;</th><th scope=col>&lt;dbl&gt;</th><th scope=col>&lt;dbl&gt;</th><th scope=col>&lt;dbl&gt;</th><th scope=col>&lt;int&gt;</th></tr>\n",
       "</thead>\n",
       "<tbody>\n",
       "\t<tr><th scope=row>1</th><td>0.991000</td><td>['Mamie Smith']                  </td><td>0.598</td><td>168333</td><td>0.224</td><td>0</td><td>5.22e-04</td><td> 5</td><td>0.3790</td><td>-12.628</td><td>0</td><td>Keep A Song In Your Soul                             </td><td>12</td><td>1920-01-01</td><td>0.0936</td><td>149.976</td><td>0.6340</td><td>1920</td></tr>\n",
       "\t<tr><th scope=row>2</th><td>0.643000</td><td>[\"Screamin' Jay Hawkins\"]        </td><td>0.852</td><td>150200</td><td>0.517</td><td>0</td><td>2.64e-02</td><td> 5</td><td>0.0809</td><td> -7.261</td><td>0</td><td>I Put A Spell On You                                 </td><td> 7</td><td>1920-01-05</td><td>0.0534</td><td> 86.889</td><td>0.9500</td><td>1920</td></tr>\n",
       "\t<tr><th scope=row>3</th><td>0.993000</td><td>['Mamie Smith']                  </td><td>0.647</td><td>163827</td><td>0.186</td><td>0</td><td>1.76e-05</td><td> 0</td><td>0.5190</td><td>-12.098</td><td>1</td><td>Golfing Papa                                         </td><td> 4</td><td>1920-01-01</td><td>0.1740</td><td> 97.600</td><td>0.6890</td><td>1920</td></tr>\n",
       "\t<tr><th scope=row>4</th><td>0.000173</td><td><span style=white-space:pre-wrap>['Oscar Velazquez']              </span></td><td>0.730</td><td>422087</td><td>0.798</td><td>0</td><td>8.01e-01</td><td> 2</td><td>0.1280</td><td> -7.311</td><td>1</td><td>True House Music - Xavier Santos &amp; Carlos Gomix Remix</td><td>17</td><td>1920-01-01</td><td>0.0425</td><td>127.997</td><td>0.0422</td><td>1920</td></tr>\n",
       "\t<tr><th scope=row>5</th><td>0.295000</td><td>['Mixe']                         </td><td>0.704</td><td>165224</td><td>0.707</td><td>1</td><td>2.46e-04</td><td>10</td><td>0.4020</td><td> -6.036</td><td>0</td><td>Xuniverxe                                            </td><td> 2</td><td>1920-10-01</td><td>0.0768</td><td>122.076</td><td>0.2990</td><td>1920</td></tr>\n",
       "\t<tr><th scope=row>6</th><td>0.996000</td><td>['Mamie Smith &amp; Her Jazz Hounds']</td><td>0.424</td><td>198627</td><td>0.245</td><td>0</td><td>7.99e-01</td><td> 5</td><td>0.2350</td><td>-11.470</td><td>1</td><td><span style=white-space:pre-wrap>Crazy Blues - 78rpm Version                          </span></td><td> 9</td><td>1920-01-01</td><td>0.0397</td><td>103.870</td><td>0.4770</td><td>1920</td></tr>\n",
       "</tbody>\n",
       "</table>\n"
      ],
      "text/latex": [
       "A data.frame: 6 × 18\n",
       "\\begin{tabular}{r|llllllllllllllllll}\n",
       "  & acousticness & artists & danceability & duration\\_ms & energy & explicit & instrumentalness & key & liveness & loudness & mode & name & popularity & release\\_date & speechiness & tempo & valence & year\\\\\n",
       "  & <dbl> & <chr> & <dbl> & <int> & <dbl> & <int> & <dbl> & <int> & <dbl> & <dbl> & <int> & <chr> & <int> & <date> & <dbl> & <dbl> & <dbl> & <int>\\\\\n",
       "\\hline\n",
       "\t1 & 0.991000 & {[}'Mamie Smith'{]}                   & 0.598 & 168333 & 0.224 & 0 & 5.22e-04 &  5 & 0.3790 & -12.628 & 0 & Keep A Song In Your Soul                              & 12 & 1920-01-01 & 0.0936 & 149.976 & 0.6340 & 1920\\\\\n",
       "\t2 & 0.643000 & {[}\"Screamin' Jay Hawkins\"{]}         & 0.852 & 150200 & 0.517 & 0 & 2.64e-02 &  5 & 0.0809 &  -7.261 & 0 & I Put A Spell On You                                  &  7 & 1920-01-05 & 0.0534 &  86.889 & 0.9500 & 1920\\\\\n",
       "\t3 & 0.993000 & {[}'Mamie Smith'{]}                   & 0.647 & 163827 & 0.186 & 0 & 1.76e-05 &  0 & 0.5190 & -12.098 & 1 & Golfing Papa                                          &  4 & 1920-01-01 & 0.1740 &  97.600 & 0.6890 & 1920\\\\\n",
       "\t4 & 0.000173 & {[}'Oscar Velazquez'{]}               & 0.730 & 422087 & 0.798 & 0 & 8.01e-01 &  2 & 0.1280 &  -7.311 & 1 & True House Music - Xavier Santos \\& Carlos Gomix Remix & 17 & 1920-01-01 & 0.0425 & 127.997 & 0.0422 & 1920\\\\\n",
       "\t5 & 0.295000 & {[}'Mixe'{]}                          & 0.704 & 165224 & 0.707 & 1 & 2.46e-04 & 10 & 0.4020 &  -6.036 & 0 & Xuniverxe                                             &  2 & 1920-10-01 & 0.0768 & 122.076 & 0.2990 & 1920\\\\\n",
       "\t6 & 0.996000 & {[}'Mamie Smith \\& Her Jazz Hounds'{]} & 0.424 & 198627 & 0.245 & 0 & 7.99e-01 &  5 & 0.2350 & -11.470 & 1 & Crazy Blues - 78rpm Version                           &  9 & 1920-01-01 & 0.0397 & 103.870 & 0.4770 & 1920\\\\\n",
       "\\end{tabular}\n"
      ],
      "text/markdown": [
       "\n",
       "A data.frame: 6 × 18\n",
       "\n",
       "| <!--/--> | acousticness &lt;dbl&gt; | artists &lt;chr&gt; | danceability &lt;dbl&gt; | duration_ms &lt;int&gt; | energy &lt;dbl&gt; | explicit &lt;int&gt; | instrumentalness &lt;dbl&gt; | key &lt;int&gt; | liveness &lt;dbl&gt; | loudness &lt;dbl&gt; | mode &lt;int&gt; | name &lt;chr&gt; | popularity &lt;int&gt; | release_date &lt;date&gt; | speechiness &lt;dbl&gt; | tempo &lt;dbl&gt; | valence &lt;dbl&gt; | year &lt;int&gt; |\n",
       "|---|---|---|---|---|---|---|---|---|---|---|---|---|---|---|---|---|---|---|\n",
       "| 1 | 0.991000 | ['Mamie Smith']                   | 0.598 | 168333 | 0.224 | 0 | 5.22e-04 |  5 | 0.3790 | -12.628 | 0 | Keep A Song In Your Soul                              | 12 | 1920-01-01 | 0.0936 | 149.976 | 0.6340 | 1920 |\n",
       "| 2 | 0.643000 | [\"Screamin' Jay Hawkins\"]         | 0.852 | 150200 | 0.517 | 0 | 2.64e-02 |  5 | 0.0809 |  -7.261 | 0 | I Put A Spell On You                                  |  7 | 1920-01-05 | 0.0534 |  86.889 | 0.9500 | 1920 |\n",
       "| 3 | 0.993000 | ['Mamie Smith']                   | 0.647 | 163827 | 0.186 | 0 | 1.76e-05 |  0 | 0.5190 | -12.098 | 1 | Golfing Papa                                          |  4 | 1920-01-01 | 0.1740 |  97.600 | 0.6890 | 1920 |\n",
       "| 4 | 0.000173 | ['Oscar Velazquez']               | 0.730 | 422087 | 0.798 | 0 | 8.01e-01 |  2 | 0.1280 |  -7.311 | 1 | True House Music - Xavier Santos &amp; Carlos Gomix Remix | 17 | 1920-01-01 | 0.0425 | 127.997 | 0.0422 | 1920 |\n",
       "| 5 | 0.295000 | ['Mixe']                          | 0.704 | 165224 | 0.707 | 1 | 2.46e-04 | 10 | 0.4020 |  -6.036 | 0 | Xuniverxe                                             |  2 | 1920-10-01 | 0.0768 | 122.076 | 0.2990 | 1920 |\n",
       "| 6 | 0.996000 | ['Mamie Smith &amp; Her Jazz Hounds'] | 0.424 | 198627 | 0.245 | 0 | 7.99e-01 |  5 | 0.2350 | -11.470 | 1 | Crazy Blues - 78rpm Version                           |  9 | 1920-01-01 | 0.0397 | 103.870 | 0.4770 | 1920 |\n",
       "\n"
      ],
      "text/plain": [
       "  acousticness artists                           danceability duration_ms\n",
       "1 0.991000     ['Mamie Smith']                   0.598        168333     \n",
       "2 0.643000     [\"Screamin' Jay Hawkins\"]         0.852        150200     \n",
       "3 0.993000     ['Mamie Smith']                   0.647        163827     \n",
       "4 0.000173     ['Oscar Velazquez']               0.730        422087     \n",
       "5 0.295000     ['Mixe']                          0.704        165224     \n",
       "6 0.996000     ['Mamie Smith & Her Jazz Hounds'] 0.424        198627     \n",
       "  energy explicit instrumentalness key liveness loudness mode\n",
       "1 0.224  0        5.22e-04          5  0.3790   -12.628  0   \n",
       "2 0.517  0        2.64e-02          5  0.0809    -7.261  0   \n",
       "3 0.186  0        1.76e-05          0  0.5190   -12.098  1   \n",
       "4 0.798  0        8.01e-01          2  0.1280    -7.311  1   \n",
       "5 0.707  1        2.46e-04         10  0.4020    -6.036  0   \n",
       "6 0.245  0        7.99e-01          5  0.2350   -11.470  1   \n",
       "  name                                                  popularity release_date\n",
       "1 Keep A Song In Your Soul                              12         1920-01-01  \n",
       "2 I Put A Spell On You                                   7         1920-01-05  \n",
       "3 Golfing Papa                                           4         1920-01-01  \n",
       "4 True House Music - Xavier Santos & Carlos Gomix Remix 17         1920-01-01  \n",
       "5 Xuniverxe                                              2         1920-10-01  \n",
       "6 Crazy Blues - 78rpm Version                            9         1920-01-01  \n",
       "  speechiness tempo   valence year\n",
       "1 0.0936      149.976 0.6340  1920\n",
       "2 0.0534       86.889 0.9500  1920\n",
       "3 0.1740       97.600 0.6890  1920\n",
       "4 0.0425      127.997 0.0422  1920\n",
       "5 0.0768      122.076 0.2990  1920\n",
       "6 0.0397      103.870 0.4770  1920"
      ]
     },
     "metadata": {},
     "output_type": "display_data"
    }
   ],
   "source": [
    "# vars to delete\n",
    "var.in<-c(\"id\")\n",
    "# what I'm keeping\n",
    "var.out<-setdiff(names(data),var.in)\n",
    "data_clean <- data[var.out]\n",
    "data_clean$release_date <- ymd(data_clean$release_date, truncated = 2L)\n",
    "# cyear <- ymd(data_clean$year, truncated = 2L)\n",
    "head(data_clean)"
   ]
  },
  {
   "cell_type": "code",
   "execution_count": 14,
   "metadata": {},
   "outputs": [],
   "source": [
    "# (trans <- bc$x[which.max(bc$y)])\n",
    "# [1] 0.4242424\n",
    "# # re-run with transformation\n",
    "# mnew <- lm(((y^trans-1)/trans) ~ x) # Instead of mnew <- lm(y^trans ~ x) "
   ]
  },
  {
   "cell_type": "markdown",
   "metadata": {},
   "source": [
    "#### Features Engineering"
   ]
  },
  {
   "cell_type": "code",
   "execution_count": 15,
   "metadata": {},
   "outputs": [],
   "source": [
    "data_clean$log_popularity <- log(data_clean$popularity+1)"
   ]
  },
  {
   "cell_type": "code",
   "execution_count": 16,
   "metadata": {},
   "outputs": [
    {
     "data": {
      "text/plain": [
       "   Min. 1st Qu.  Median    Mean 3rd Qu.    Max. \n",
       "   0.00    1.00   25.00   25.69   42.00  100.00 "
      ]
     },
     "metadata": {},
     "output_type": "display_data"
    },
    {
     "data": {
      "image/png": "[encoded data removed]",
      "text/plain": [
       "Plot with title “Histogram of data_clean$popularity”"
      ]
     },
     "metadata": {
      "image/png": {
       "height": 420,
       "width": 420
      }
     },
     "output_type": "display_data"
    }
   ],
   "source": [
    "hist(data_clean$popularity,breaks = 12)\n",
    "summary(data_clean$popularity)"
   ]
  },
  {
   "cell_type": "code",
   "execution_count": 17,
   "metadata": {},
   "outputs": [
    {
     "data": {
      "image/png": "[encoded data removed]",
      "text/plain": [
       "plot without title"
      ]
     },
     "metadata": {
      "image/png": {
       "height": 480,
       "width": 900
      }
     },
     "output_type": "display_data"
    }
   ],
   "source": [
    "# Histograms\n",
    "fig(15,8)\n",
    "hist <- ggplot( data_clean, aes(x=popularity)) +\n",
    "            geom_histogram( binwidth=7, fill=\"#69b3a2\", color=\"#e9ecef\", alpha=0.9) +\n",
    "            ggtitle(\"Popularity distribution, bin size = 10000\")+\n",
    "            theme(\n",
    "            plot.title = element_text(color=\"darkblue\", size=14, face=\"bold.italic\", hjust=0.5),\n",
    "            axis.title.x = element_text(color=\"darkred\", size=14, face=\"bold\"),\n",
    "            axis.title.y = element_text(color=\"#993333\", size=14, face=\"bold\"))\n",
    "hist_log <- ggplot( data_clean, aes(x=log_popularity)) +\n",
    "            geom_histogram( binwidth=0.2, fill=\"#69b3a2\", color=\"#e9ecef\", alpha=0.9) +\n",
    "            ggtitle(\"Log popularity distribution, bin size = 0.5\")+\n",
    "            theme(\n",
    "            plot.title = element_text(color=\"darkblue\", size=14, face=\"bold.italic\", hjust=0.5),\n",
    "            axis.title.x = element_text(color=\"darkred\", size=14, face=\"bold\"),\n",
    "            axis.title.y = element_text(color=\"#993333\", size=14, face=\"bold\"))\n",
    "grid.arrange(hist, hist_log, nrow = 2)"
   ]
  },
  {
   "cell_type": "code",
   "execution_count": 18,
   "metadata": {},
   "outputs": [
    {
     "data": {
      "text/html": [
       "<table>\n",
       "<caption>A data.frame: 6 × 20</caption>\n",
       "<thead>\n",
       "\t<tr><th></th><th scope=col>acousticness</th><th scope=col>artists</th><th scope=col>danceability</th><th scope=col>duration_ms</th><th scope=col>energy</th><th scope=col>explicit</th><th scope=col>instrumentalness</th><th scope=col>key</th><th scope=col>liveness</th><th scope=col>loudness</th><th scope=col>mode</th><th scope=col>name</th><th scope=col>popularity</th><th scope=col>release_date</th><th scope=col>speechiness</th><th scope=col>tempo</th><th scope=col>valence</th><th scope=col>year</th><th scope=col>log_popularity</th><th scope=col>poprank</th></tr>\n",
       "\t<tr><th></th><th scope=col>&lt;dbl&gt;</th><th scope=col>&lt;chr&gt;</th><th scope=col>&lt;dbl&gt;</th><th scope=col>&lt;int&gt;</th><th scope=col>&lt;dbl&gt;</th><th scope=col>&lt;int&gt;</th><th scope=col>&lt;dbl&gt;</th><th scope=col>&lt;int&gt;</th><th scope=col>&lt;dbl&gt;</th><th scope=col>&lt;dbl&gt;</th><th scope=col>&lt;int&gt;</th><th scope=col>&lt;chr&gt;</th><th scope=col>&lt;int&gt;</th><th scope=col>&lt;date&gt;</th><th scope=col>&lt;dbl&gt;</th><th scope=col>&lt;dbl&gt;</th><th scope=col>&lt;dbl&gt;</th><th scope=col>&lt;int&gt;</th><th scope=col>&lt;dbl&gt;</th><th scope=col>&lt;chr&gt;</th></tr>\n",
       "</thead>\n",
       "<tbody>\n",
       "\t<tr><th scope=row>1</th><td>0.991000</td><td>['Mamie Smith']                  </td><td>0.598</td><td>168333</td><td>0.224</td><td>0</td><td>5.22e-04</td><td> 5</td><td>0.3790</td><td>-12.628</td><td>0</td><td>Keep A Song In Your Soul                             </td><td>12</td><td>1920-01-01</td><td>0.0936</td><td>149.976</td><td>0.6340</td><td>1920</td><td>2.564949</td><td>low_popularity</td></tr>\n",
       "\t<tr><th scope=row>2</th><td>0.643000</td><td>[\"Screamin' Jay Hawkins\"]        </td><td>0.852</td><td>150200</td><td>0.517</td><td>0</td><td>2.64e-02</td><td> 5</td><td>0.0809</td><td> -7.261</td><td>0</td><td>I Put A Spell On You                                 </td><td> 7</td><td>1920-01-05</td><td>0.0534</td><td> 86.889</td><td>0.9500</td><td>1920</td><td>2.079442</td><td>low_popularity</td></tr>\n",
       "\t<tr><th scope=row>3</th><td>0.993000</td><td>['Mamie Smith']                  </td><td>0.647</td><td>163827</td><td>0.186</td><td>0</td><td>1.76e-05</td><td> 0</td><td>0.5190</td><td>-12.098</td><td>1</td><td>Golfing Papa                                         </td><td> 4</td><td>1920-01-01</td><td>0.1740</td><td> 97.600</td><td>0.6890</td><td>1920</td><td>1.609438</td><td>low_popularity</td></tr>\n",
       "\t<tr><th scope=row>4</th><td>0.000173</td><td><span style=white-space:pre-wrap>['Oscar Velazquez']              </span></td><td>0.730</td><td>422087</td><td>0.798</td><td>0</td><td>8.01e-01</td><td> 2</td><td>0.1280</td><td> -7.311</td><td>1</td><td>True House Music - Xavier Santos &amp; Carlos Gomix Remix</td><td>17</td><td>1920-01-01</td><td>0.0425</td><td>127.997</td><td>0.0422</td><td>1920</td><td>2.890372</td><td>low_popularity</td></tr>\n",
       "\t<tr><th scope=row>5</th><td>0.295000</td><td>['Mixe']                         </td><td>0.704</td><td>165224</td><td>0.707</td><td>1</td><td>2.46e-04</td><td>10</td><td>0.4020</td><td> -6.036</td><td>0</td><td>Xuniverxe                                            </td><td> 2</td><td>1920-10-01</td><td>0.0768</td><td>122.076</td><td>0.2990</td><td>1920</td><td>1.098612</td><td>low_popularity</td></tr>\n",
       "\t<tr><th scope=row>6</th><td>0.996000</td><td>['Mamie Smith &amp; Her Jazz Hounds']</td><td>0.424</td><td>198627</td><td>0.245</td><td>0</td><td>7.99e-01</td><td> 5</td><td>0.2350</td><td>-11.470</td><td>1</td><td><span style=white-space:pre-wrap>Crazy Blues - 78rpm Version                          </span></td><td> 9</td><td>1920-01-01</td><td>0.0397</td><td>103.870</td><td>0.4770</td><td>1920</td><td>2.302585</td><td>low_popularity</td></tr>\n",
       "</tbody>\n",
       "</table>\n"
      ],
      "text/latex": [
       "A data.frame: 6 × 20\n",
       "\\begin{tabular}{r|llllllllllllllllllll}\n",
       "  & acousticness & artists & danceability & duration\\_ms & energy & explicit & instrumentalness & key & liveness & loudness & mode & name & popularity & release\\_date & speechiness & tempo & valence & year & log\\_popularity & poprank\\\\\n",
       "  & <dbl> & <chr> & <dbl> & <int> & <dbl> & <int> & <dbl> & <int> & <dbl> & <dbl> & <int> & <chr> & <int> & <date> & <dbl> & <dbl> & <dbl> & <int> & <dbl> & <chr>\\\\\n",
       "\\hline\n",
       "\t1 & 0.991000 & {[}'Mamie Smith'{]}                   & 0.598 & 168333 & 0.224 & 0 & 5.22e-04 &  5 & 0.3790 & -12.628 & 0 & Keep A Song In Your Soul                              & 12 & 1920-01-01 & 0.0936 & 149.976 & 0.6340 & 1920 & 2.564949 & low\\_popularity\\\\\n",
       "\t2 & 0.643000 & {[}\"Screamin' Jay Hawkins\"{]}         & 0.852 & 150200 & 0.517 & 0 & 2.64e-02 &  5 & 0.0809 &  -7.261 & 0 & I Put A Spell On You                                  &  7 & 1920-01-05 & 0.0534 &  86.889 & 0.9500 & 1920 & 2.079442 & low\\_popularity\\\\\n",
       "\t3 & 0.993000 & {[}'Mamie Smith'{]}                   & 0.647 & 163827 & 0.186 & 0 & 1.76e-05 &  0 & 0.5190 & -12.098 & 1 & Golfing Papa                                          &  4 & 1920-01-01 & 0.1740 &  97.600 & 0.6890 & 1920 & 1.609438 & low\\_popularity\\\\\n",
       "\t4 & 0.000173 & {[}'Oscar Velazquez'{]}               & 0.730 & 422087 & 0.798 & 0 & 8.01e-01 &  2 & 0.1280 &  -7.311 & 1 & True House Music - Xavier Santos \\& Carlos Gomix Remix & 17 & 1920-01-01 & 0.0425 & 127.997 & 0.0422 & 1920 & 2.890372 & low\\_popularity\\\\\n",
       "\t5 & 0.295000 & {[}'Mixe'{]}                          & 0.704 & 165224 & 0.707 & 1 & 2.46e-04 & 10 & 0.4020 &  -6.036 & 0 & Xuniverxe                                             &  2 & 1920-10-01 & 0.0768 & 122.076 & 0.2990 & 1920 & 1.098612 & low\\_popularity\\\\\n",
       "\t6 & 0.996000 & {[}'Mamie Smith \\& Her Jazz Hounds'{]} & 0.424 & 198627 & 0.245 & 0 & 7.99e-01 &  5 & 0.2350 & -11.470 & 1 & Crazy Blues - 78rpm Version                           &  9 & 1920-01-01 & 0.0397 & 103.870 & 0.4770 & 1920 & 2.302585 & low\\_popularity\\\\\n",
       "\\end{tabular}\n"
      ],
      "text/markdown": [
       "\n",
       "A data.frame: 6 × 20\n",
       "\n",
       "| <!--/--> | acousticness &lt;dbl&gt; | artists &lt;chr&gt; | danceability &lt;dbl&gt; | duration_ms &lt;int&gt; | energy &lt;dbl&gt; | explicit &lt;int&gt; | instrumentalness &lt;dbl&gt; | key &lt;int&gt; | liveness &lt;dbl&gt; | loudness &lt;dbl&gt; | mode &lt;int&gt; | name &lt;chr&gt; | popularity &lt;int&gt; | release_date &lt;date&gt; | speechiness &lt;dbl&gt; | tempo &lt;dbl&gt; | valence &lt;dbl&gt; | year &lt;int&gt; | log_popularity &lt;dbl&gt; | poprank &lt;chr&gt; |\n",
       "|---|---|---|---|---|---|---|---|---|---|---|---|---|---|---|---|---|---|---|---|---|\n",
       "| 1 | 0.991000 | ['Mamie Smith']                   | 0.598 | 168333 | 0.224 | 0 | 5.22e-04 |  5 | 0.3790 | -12.628 | 0 | Keep A Song In Your Soul                              | 12 | 1920-01-01 | 0.0936 | 149.976 | 0.6340 | 1920 | 2.564949 | low_popularity |\n",
       "| 2 | 0.643000 | [\"Screamin' Jay Hawkins\"]         | 0.852 | 150200 | 0.517 | 0 | 2.64e-02 |  5 | 0.0809 |  -7.261 | 0 | I Put A Spell On You                                  |  7 | 1920-01-05 | 0.0534 |  86.889 | 0.9500 | 1920 | 2.079442 | low_popularity |\n",
       "| 3 | 0.993000 | ['Mamie Smith']                   | 0.647 | 163827 | 0.186 | 0 | 1.76e-05 |  0 | 0.5190 | -12.098 | 1 | Golfing Papa                                          |  4 | 1920-01-01 | 0.1740 |  97.600 | 0.6890 | 1920 | 1.609438 | low_popularity |\n",
       "| 4 | 0.000173 | ['Oscar Velazquez']               | 0.730 | 422087 | 0.798 | 0 | 8.01e-01 |  2 | 0.1280 |  -7.311 | 1 | True House Music - Xavier Santos &amp; Carlos Gomix Remix | 17 | 1920-01-01 | 0.0425 | 127.997 | 0.0422 | 1920 | 2.890372 | low_popularity |\n",
       "| 5 | 0.295000 | ['Mixe']                          | 0.704 | 165224 | 0.707 | 1 | 2.46e-04 | 10 | 0.4020 |  -6.036 | 0 | Xuniverxe                                             |  2 | 1920-10-01 | 0.0768 | 122.076 | 0.2990 | 1920 | 1.098612 | low_popularity |\n",
       "| 6 | 0.996000 | ['Mamie Smith &amp; Her Jazz Hounds'] | 0.424 | 198627 | 0.245 | 0 | 7.99e-01 |  5 | 0.2350 | -11.470 | 1 | Crazy Blues - 78rpm Version                           |  9 | 1920-01-01 | 0.0397 | 103.870 | 0.4770 | 1920 | 2.302585 | low_popularity |\n",
       "\n"
      ],
      "text/plain": [
       "  acousticness artists                           danceability duration_ms\n",
       "1 0.991000     ['Mamie Smith']                   0.598        168333     \n",
       "2 0.643000     [\"Screamin' Jay Hawkins\"]         0.852        150200     \n",
       "3 0.993000     ['Mamie Smith']                   0.647        163827     \n",
       "4 0.000173     ['Oscar Velazquez']               0.730        422087     \n",
       "5 0.295000     ['Mixe']                          0.704        165224     \n",
       "6 0.996000     ['Mamie Smith & Her Jazz Hounds'] 0.424        198627     \n",
       "  energy explicit instrumentalness key liveness loudness mode\n",
       "1 0.224  0        5.22e-04          5  0.3790   -12.628  0   \n",
       "2 0.517  0        2.64e-02          5  0.0809    -7.261  0   \n",
       "3 0.186  0        1.76e-05          0  0.5190   -12.098  1   \n",
       "4 0.798  0        8.01e-01          2  0.1280    -7.311  1   \n",
       "5 0.707  1        2.46e-04         10  0.4020    -6.036  0   \n",
       "6 0.245  0        7.99e-01          5  0.2350   -11.470  1   \n",
       "  name                                                  popularity release_date\n",
       "1 Keep A Song In Your Soul                              12         1920-01-01  \n",
       "2 I Put A Spell On You                                   7         1920-01-05  \n",
       "3 Golfing Papa                                           4         1920-01-01  \n",
       "4 True House Music - Xavier Santos & Carlos Gomix Remix 17         1920-01-01  \n",
       "5 Xuniverxe                                              2         1920-10-01  \n",
       "6 Crazy Blues - 78rpm Version                            9         1920-01-01  \n",
       "  speechiness tempo   valence year log_popularity poprank       \n",
       "1 0.0936      149.976 0.6340  1920 2.564949       low_popularity\n",
       "2 0.0534       86.889 0.9500  1920 2.079442       low_popularity\n",
       "3 0.1740       97.600 0.6890  1920 1.609438       low_popularity\n",
       "4 0.0425      127.997 0.0422  1920 2.890372       low_popularity\n",
       "5 0.0768      122.076 0.2990  1920 1.098612       low_popularity\n",
       "6 0.0397      103.870 0.4770  1920 2.302585       low_popularity"
      ]
     },
     "metadata": {},
     "output_type": "display_data"
    }
   ],
   "source": [
    "#data_clean[,poprank:=factor(popularity>42,labels=c(\"not popular\",\"popular\"))]\n",
    "data_clean <- data_clean %>% \n",
    "                      mutate(poprank = case_when(\n",
    "                        between(popularity, 70, 100) ~ \"very popular\",\n",
    "                        between(popularity, 42, 69) ~ \"popular\",\n",
    "                        between(popularity, 1, 41) ~ \"low_popularity\",\n",
    "                        between(popularity, 0, 0) ~ \"zero_popularity\",\n",
    "                        TRUE ~ NA_character_\n",
    "                      ))\n",
    "head(data_clean)"
   ]
  },
  {
   "cell_type": "code",
   "execution_count": 19,
   "metadata": {},
   "outputs": [],
   "source": [
    "data_clean$poprank <- as.factor(data_clean$poprank)"
   ]
  },
  {
   "cell_type": "code",
   "execution_count": 20,
   "metadata": {},
   "outputs": [
    {
     "data": {
      "text/html": [
       "<style>\n",
       ".dl-inline {width: auto; margin:0; padding: 0}\n",
       ".dl-inline>dt, .dl-inline>dd {float: none; width: auto; display: inline-block}\n",
       ".dl-inline>dt::after {content: \":\\0020\"; padding-right: .5ex}\n",
       ".dl-inline>dt:not(:first-of-type) {padding-left: .5ex}\n",
       "</style><dl class=dl-inline><dt>low_popularity</dt><dd>88325</dd><dt>popular</dt><dd>40932</dd><dt>very popular</dt><dd>4227</dd><dt>zero_popularity</dt><dd>40905</dd></dl>\n"
      ],
      "text/latex": [
       "\\begin{description*}\n",
       "\\item[low\\textbackslash{}\\_popularity] 88325\n",
       "\\item[popular] 40932\n",
       "\\item[very popular] 4227\n",
       "\\item[zero\\textbackslash{}\\_popularity] 40905\n",
       "\\end{description*}\n"
      ],
      "text/markdown": [
       "low_popularity\n",
       ":   88325popular\n",
       ":   40932very popular\n",
       ":   4227zero_popularity\n",
       ":   40905\n",
       "\n"
      ],
      "text/plain": [
       " low_popularity         popular    very popular zero_popularity \n",
       "          88325           40932            4227           40905 "
      ]
     },
     "metadata": {},
     "output_type": "display_data"
    }
   ],
   "source": [
    "summary(data_clean$poprank)"
   ]
  },
  {
   "cell_type": "code",
   "execution_count": 21,
   "metadata": {},
   "outputs": [
    {
     "data": {
      "image/png": "[encoded data removed]",
      "text/plain": [
       "Plot with title “”"
      ]
     },
     "metadata": {
      "image/png": {
       "height": 480,
       "width": 900
      }
     },
     "output_type": "display_data"
    }
   ],
   "source": [
    "# features_cols <- c('valence', 'acousticness', 'danceability', 'energy', 'instrumentalness', 'key', 'liveness', 'loudness', 'speechiness', 'tempo', 'popularity')\n",
    "\n",
    "features_cols <- c('valence','year', 'acousticness', 'danceability', 'duration_ms', 'energy', 'explicit', 'instrumentalness', 'key', 'liveness', 'loudness', 'mode', 'popularity', 'speechiness', 'tempo')\n",
    "\n",
    "draw_corr(data_clean, features_cols, \"popularity\", 0.2)"
   ]
  },
  {
   "cell_type": "code",
   "execution_count": 22,
   "metadata": {},
   "outputs": [
    {
     "name": "stdout",
     "output_type": "stream",
     "text": [
      " Factor w/ 56 levels \"afrikaans\",\"albanian\",..: 24 24 53 36 11 8 32 24 50 14 ...\n"
     ]
    }
   ],
   "source": [
    "data_clean$language <- as.factor(textcat(data_clean$name))\n",
    "str(data_clean$language)"
   ]
  },
  {
   "cell_type": "code",
   "execution_count": 262,
   "metadata": {},
   "outputs": [
    {
     "name": "stderr",
     "output_type": "stream",
     "text": [
      "`summarise()` regrouping output by 'language' (override with `.groups` argument)\n",
      "\n"
     ]
    },
    {
     "data": {
      "text/html": [
       "<table>\n",
       "<caption>A grouped_df: 221 × 4</caption>\n",
       "<thead>\n",
       "\t<tr><th scope=col>language</th><th scope=col>poprank</th><th scope=col>n</th><th scope=col>freq</th></tr>\n",
       "\t<tr><th scope=col>&lt;fct&gt;</th><th scope=col>&lt;fct&gt;</th><th scope=col>&lt;int&gt;</th><th scope=col>&lt;dbl&gt;</th></tr>\n",
       "</thead>\n",
       "<tbody>\n",
       "\t<tr><td>afrikaans          </td><td>low_popularity </td><td> 541</td><td>58.74</td></tr>\n",
       "\t<tr><td>afrikaans          </td><td>popular        </td><td> 268</td><td>29.10</td></tr>\n",
       "\t<tr><td>afrikaans          </td><td>very popular   </td><td>  23</td><td> 2.50</td></tr>\n",
       "\t<tr><td>afrikaans          </td><td>zero_popularity</td><td>  89</td><td> 9.66</td></tr>\n",
       "\t<tr><td>albanian           </td><td>low_popularity </td><td> 142</td><td>52.59</td></tr>\n",
       "\t<tr><td>albanian           </td><td>popular        </td><td>  71</td><td>26.30</td></tr>\n",
       "\t<tr><td>albanian           </td><td>very popular   </td><td>  12</td><td> 4.44</td></tr>\n",
       "\t<tr><td>albanian           </td><td>zero_popularity</td><td>  45</td><td>16.67</td></tr>\n",
       "\t<tr><td>basque             </td><td>low_popularity </td><td> 879</td><td>38.40</td></tr>\n",
       "\t<tr><td>basque             </td><td>popular        </td><td> 434</td><td>18.96</td></tr>\n",
       "\t<tr><td>basque             </td><td>very popular   </td><td>  84</td><td> 3.67</td></tr>\n",
       "\t<tr><td>basque             </td><td>zero_popularity</td><td> 892</td><td>38.97</td></tr>\n",
       "\t<tr><td>belarus-windows1251</td><td>low_popularity </td><td>   2</td><td>28.57</td></tr>\n",
       "\t<tr><td>belarus-windows1251</td><td>popular        </td><td>   3</td><td>42.86</td></tr>\n",
       "\t<tr><td>belarus-windows1251</td><td>zero_popularity</td><td>   2</td><td>28.57</td></tr>\n",
       "\t<tr><td>bosnian            </td><td>low_popularity </td><td>  96</td><td>51.34</td></tr>\n",
       "\t<tr><td>bosnian            </td><td>popular        </td><td>  44</td><td>23.53</td></tr>\n",
       "\t<tr><td>bosnian            </td><td>very popular   </td><td>   4</td><td> 2.14</td></tr>\n",
       "\t<tr><td>bosnian            </td><td>zero_popularity</td><td>  43</td><td>22.99</td></tr>\n",
       "\t<tr><td>breton             </td><td>low_popularity </td><td>1074</td><td>52.03</td></tr>\n",
       "\t<tr><td>breton             </td><td>popular        </td><td> 610</td><td>29.55</td></tr>\n",
       "\t<tr><td>breton             </td><td>very popular   </td><td>  54</td><td> 2.62</td></tr>\n",
       "\t<tr><td>breton             </td><td>zero_popularity</td><td> 326</td><td>15.79</td></tr>\n",
       "\t<tr><td>bulgarian-iso8859_5</td><td>low_popularity </td><td>   3</td><td>25.00</td></tr>\n",
       "\t<tr><td>bulgarian-iso8859_5</td><td>popular        </td><td>   3</td><td>25.00</td></tr>\n",
       "\t<tr><td>bulgarian-iso8859_5</td><td>very popular   </td><td>   1</td><td> 8.33</td></tr>\n",
       "\t<tr><td>bulgarian-iso8859_5</td><td>zero_popularity</td><td>   5</td><td>41.67</td></tr>\n",
       "\t<tr><td>catalan            </td><td>low_popularity </td><td>6260</td><td>48.72</td></tr>\n",
       "\t<tr><td>catalan            </td><td>popular        </td><td>3387</td><td>26.36</td></tr>\n",
       "\t<tr><td>catalan            </td><td>very popular   </td><td> 325</td><td> 2.53</td></tr>\n",
       "\t<tr><td>⋮</td><td>⋮</td><td>⋮</td><td>⋮</td></tr>\n",
       "\t<tr><td>spanish         </td><td>popular        </td><td>1057</td><td>28.53</td></tr>\n",
       "\t<tr><td>spanish         </td><td>very popular   </td><td>  49</td><td> 1.32</td></tr>\n",
       "\t<tr><td>spanish         </td><td>zero_popularity</td><td>1396</td><td>37.68</td></tr>\n",
       "\t<tr><td>swahili         </td><td>low_popularity </td><td> 680</td><td>36.94</td></tr>\n",
       "\t<tr><td>swahili         </td><td>popular        </td><td> 312</td><td>16.95</td></tr>\n",
       "\t<tr><td>swahili         </td><td>very popular   </td><td>  53</td><td> 2.88</td></tr>\n",
       "\t<tr><td>swahili         </td><td>zero_popularity</td><td> 796</td><td>43.24</td></tr>\n",
       "\t<tr><td>swedish         </td><td>low_popularity </td><td> 632</td><td>57.56</td></tr>\n",
       "\t<tr><td>swedish         </td><td>popular        </td><td> 266</td><td>24.23</td></tr>\n",
       "\t<tr><td>swedish         </td><td>very popular   </td><td>  36</td><td> 3.28</td></tr>\n",
       "\t<tr><td>swedish         </td><td>zero_popularity</td><td> 164</td><td>14.94</td></tr>\n",
       "\t<tr><td>tagalog         </td><td>low_popularity </td><td>1848</td><td>41.94</td></tr>\n",
       "\t<tr><td>tagalog         </td><td>popular        </td><td>1021</td><td>23.17</td></tr>\n",
       "\t<tr><td>tagalog         </td><td>very popular   </td><td> 111</td><td> 2.52</td></tr>\n",
       "\t<tr><td>tagalog         </td><td>zero_popularity</td><td>1426</td><td>32.36</td></tr>\n",
       "\t<tr><td>turkish         </td><td>low_popularity </td><td>  51</td><td>47.22</td></tr>\n",
       "\t<tr><td>turkish         </td><td>popular        </td><td>  29</td><td>26.85</td></tr>\n",
       "\t<tr><td>turkish         </td><td>very popular   </td><td>   1</td><td> 0.93</td></tr>\n",
       "\t<tr><td>turkish         </td><td>zero_popularity</td><td>  27</td><td>25.00</td></tr>\n",
       "\t<tr><td>ukrainian-koi8_r</td><td>low_popularity </td><td>   8</td><td>36.36</td></tr>\n",
       "\t<tr><td>ukrainian-koi8_r</td><td>popular        </td><td>   8</td><td>36.36</td></tr>\n",
       "\t<tr><td>ukrainian-koi8_r</td><td>zero_popularity</td><td>   6</td><td>27.27</td></tr>\n",
       "\t<tr><td>welsh           </td><td>low_popularity </td><td> 951</td><td>52.02</td></tr>\n",
       "\t<tr><td>welsh           </td><td>popular        </td><td> 606</td><td>33.15</td></tr>\n",
       "\t<tr><td>welsh           </td><td>very popular   </td><td>  82</td><td> 4.49</td></tr>\n",
       "\t<tr><td>welsh           </td><td>zero_popularity</td><td> 189</td><td>10.34</td></tr>\n",
       "\t<tr><td>NA              </td><td>low_popularity </td><td> 517</td><td>51.55</td></tr>\n",
       "\t<tr><td>NA              </td><td>popular        </td><td> 270</td><td>26.92</td></tr>\n",
       "\t<tr><td>NA              </td><td>very popular   </td><td>  27</td><td> 2.69</td></tr>\n",
       "\t<tr><td>NA              </td><td>zero_popularity</td><td> 189</td><td>18.84</td></tr>\n",
       "</tbody>\n",
       "</table>\n"
      ],
      "text/latex": [
       "A grouped\\_df: 221 × 4\n",
       "\\begin{tabular}{llll}\n",
       " language & poprank & n & freq\\\\\n",
       " <fct> & <fct> & <int> & <dbl>\\\\\n",
       "\\hline\n",
       "\t afrikaans           & low\\_popularity  &  541 & 58.74\\\\\n",
       "\t afrikaans           & popular         &  268 & 29.10\\\\\n",
       "\t afrikaans           & very popular    &   23 &  2.50\\\\\n",
       "\t afrikaans           & zero\\_popularity &   89 &  9.66\\\\\n",
       "\t albanian            & low\\_popularity  &  142 & 52.59\\\\\n",
       "\t albanian            & popular         &   71 & 26.30\\\\\n",
       "\t albanian            & very popular    &   12 &  4.44\\\\\n",
       "\t albanian            & zero\\_popularity &   45 & 16.67\\\\\n",
       "\t basque              & low\\_popularity  &  879 & 38.40\\\\\n",
       "\t basque              & popular         &  434 & 18.96\\\\\n",
       "\t basque              & very popular    &   84 &  3.67\\\\\n",
       "\t basque              & zero\\_popularity &  892 & 38.97\\\\\n",
       "\t belarus-windows1251 & low\\_popularity  &    2 & 28.57\\\\\n",
       "\t belarus-windows1251 & popular         &    3 & 42.86\\\\\n",
       "\t belarus-windows1251 & zero\\_popularity &    2 & 28.57\\\\\n",
       "\t bosnian             & low\\_popularity  &   96 & 51.34\\\\\n",
       "\t bosnian             & popular         &   44 & 23.53\\\\\n",
       "\t bosnian             & very popular    &    4 &  2.14\\\\\n",
       "\t bosnian             & zero\\_popularity &   43 & 22.99\\\\\n",
       "\t breton              & low\\_popularity  & 1074 & 52.03\\\\\n",
       "\t breton              & popular         &  610 & 29.55\\\\\n",
       "\t breton              & very popular    &   54 &  2.62\\\\\n",
       "\t breton              & zero\\_popularity &  326 & 15.79\\\\\n",
       "\t bulgarian-iso8859\\_5 & low\\_popularity  &    3 & 25.00\\\\\n",
       "\t bulgarian-iso8859\\_5 & popular         &    3 & 25.00\\\\\n",
       "\t bulgarian-iso8859\\_5 & very popular    &    1 &  8.33\\\\\n",
       "\t bulgarian-iso8859\\_5 & zero\\_popularity &    5 & 41.67\\\\\n",
       "\t catalan             & low\\_popularity  & 6260 & 48.72\\\\\n",
       "\t catalan             & popular         & 3387 & 26.36\\\\\n",
       "\t catalan             & very popular    &  325 &  2.53\\\\\n",
       "\t ⋮ & ⋮ & ⋮ & ⋮\\\\\n",
       "\t spanish          & popular         & 1057 & 28.53\\\\\n",
       "\t spanish          & very popular    &   49 &  1.32\\\\\n",
       "\t spanish          & zero\\_popularity & 1396 & 37.68\\\\\n",
       "\t swahili          & low\\_popularity  &  680 & 36.94\\\\\n",
       "\t swahili          & popular         &  312 & 16.95\\\\\n",
       "\t swahili          & very popular    &   53 &  2.88\\\\\n",
       "\t swahili          & zero\\_popularity &  796 & 43.24\\\\\n",
       "\t swedish          & low\\_popularity  &  632 & 57.56\\\\\n",
       "\t swedish          & popular         &  266 & 24.23\\\\\n",
       "\t swedish          & very popular    &   36 &  3.28\\\\\n",
       "\t swedish          & zero\\_popularity &  164 & 14.94\\\\\n",
       "\t tagalog          & low\\_popularity  & 1848 & 41.94\\\\\n",
       "\t tagalog          & popular         & 1021 & 23.17\\\\\n",
       "\t tagalog          & very popular    &  111 &  2.52\\\\\n",
       "\t tagalog          & zero\\_popularity & 1426 & 32.36\\\\\n",
       "\t turkish          & low\\_popularity  &   51 & 47.22\\\\\n",
       "\t turkish          & popular         &   29 & 26.85\\\\\n",
       "\t turkish          & very popular    &    1 &  0.93\\\\\n",
       "\t turkish          & zero\\_popularity &   27 & 25.00\\\\\n",
       "\t ukrainian-koi8\\_r & low\\_popularity  &    8 & 36.36\\\\\n",
       "\t ukrainian-koi8\\_r & popular         &    8 & 36.36\\\\\n",
       "\t ukrainian-koi8\\_r & zero\\_popularity &    6 & 27.27\\\\\n",
       "\t welsh            & low\\_popularity  &  951 & 52.02\\\\\n",
       "\t welsh            & popular         &  606 & 33.15\\\\\n",
       "\t welsh            & very popular    &   82 &  4.49\\\\\n",
       "\t welsh            & zero\\_popularity &  189 & 10.34\\\\\n",
       "\t NA               & low\\_popularity  &  517 & 51.55\\\\\n",
       "\t NA               & popular         &  270 & 26.92\\\\\n",
       "\t NA               & very popular    &   27 &  2.69\\\\\n",
       "\t NA               & zero\\_popularity &  189 & 18.84\\\\\n",
       "\\end{tabular}\n"
      ],
      "text/markdown": [
       "\n",
       "A grouped_df: 221 × 4\n",
       "\n",
       "| language &lt;fct&gt; | poprank &lt;fct&gt; | n &lt;int&gt; | freq &lt;dbl&gt; |\n",
       "|---|---|---|---|\n",
       "| afrikaans           | low_popularity  |  541 | 58.74 |\n",
       "| afrikaans           | popular         |  268 | 29.10 |\n",
       "| afrikaans           | very popular    |   23 |  2.50 |\n",
       "| afrikaans           | zero_popularity |   89 |  9.66 |\n",
       "| albanian            | low_popularity  |  142 | 52.59 |\n",
       "| albanian            | popular         |   71 | 26.30 |\n",
       "| albanian            | very popular    |   12 |  4.44 |\n",
       "| albanian            | zero_popularity |   45 | 16.67 |\n",
       "| basque              | low_popularity  |  879 | 38.40 |\n",
       "| basque              | popular         |  434 | 18.96 |\n",
       "| basque              | very popular    |   84 |  3.67 |\n",
       "| basque              | zero_popularity |  892 | 38.97 |\n",
       "| belarus-windows1251 | low_popularity  |    2 | 28.57 |\n",
       "| belarus-windows1251 | popular         |    3 | 42.86 |\n",
       "| belarus-windows1251 | zero_popularity |    2 | 28.57 |\n",
       "| bosnian             | low_popularity  |   96 | 51.34 |\n",
       "| bosnian             | popular         |   44 | 23.53 |\n",
       "| bosnian             | very popular    |    4 |  2.14 |\n",
       "| bosnian             | zero_popularity |   43 | 22.99 |\n",
       "| breton              | low_popularity  | 1074 | 52.03 |\n",
       "| breton              | popular         |  610 | 29.55 |\n",
       "| breton              | very popular    |   54 |  2.62 |\n",
       "| breton              | zero_popularity |  326 | 15.79 |\n",
       "| bulgarian-iso8859_5 | low_popularity  |    3 | 25.00 |\n",
       "| bulgarian-iso8859_5 | popular         |    3 | 25.00 |\n",
       "| bulgarian-iso8859_5 | very popular    |    1 |  8.33 |\n",
       "| bulgarian-iso8859_5 | zero_popularity |    5 | 41.67 |\n",
       "| catalan             | low_popularity  | 6260 | 48.72 |\n",
       "| catalan             | popular         | 3387 | 26.36 |\n",
       "| catalan             | very popular    |  325 |  2.53 |\n",
       "| ⋮ | ⋮ | ⋮ | ⋮ |\n",
       "| spanish          | popular         | 1057 | 28.53 |\n",
       "| spanish          | very popular    |   49 |  1.32 |\n",
       "| spanish          | zero_popularity | 1396 | 37.68 |\n",
       "| swahili          | low_popularity  |  680 | 36.94 |\n",
       "| swahili          | popular         |  312 | 16.95 |\n",
       "| swahili          | very popular    |   53 |  2.88 |\n",
       "| swahili          | zero_popularity |  796 | 43.24 |\n",
       "| swedish          | low_popularity  |  632 | 57.56 |\n",
       "| swedish          | popular         |  266 | 24.23 |\n",
       "| swedish          | very popular    |   36 |  3.28 |\n",
       "| swedish          | zero_popularity |  164 | 14.94 |\n",
       "| tagalog          | low_popularity  | 1848 | 41.94 |\n",
       "| tagalog          | popular         | 1021 | 23.17 |\n",
       "| tagalog          | very popular    |  111 |  2.52 |\n",
       "| tagalog          | zero_popularity | 1426 | 32.36 |\n",
       "| turkish          | low_popularity  |   51 | 47.22 |\n",
       "| turkish          | popular         |   29 | 26.85 |\n",
       "| turkish          | very popular    |    1 |  0.93 |\n",
       "| turkish          | zero_popularity |   27 | 25.00 |\n",
       "| ukrainian-koi8_r | low_popularity  |    8 | 36.36 |\n",
       "| ukrainian-koi8_r | popular         |    8 | 36.36 |\n",
       "| ukrainian-koi8_r | zero_popularity |    6 | 27.27 |\n",
       "| welsh            | low_popularity  |  951 | 52.02 |\n",
       "| welsh            | popular         |  606 | 33.15 |\n",
       "| welsh            | very popular    |   82 |  4.49 |\n",
       "| welsh            | zero_popularity |  189 | 10.34 |\n",
       "| NA               | low_popularity  |  517 | 51.55 |\n",
       "| NA               | popular         |  270 | 26.92 |\n",
       "| NA               | very popular    |   27 |  2.69 |\n",
       "| NA               | zero_popularity |  189 | 18.84 |\n",
       "\n"
      ],
      "text/plain": [
       "    language            poprank         n    freq \n",
       "1   afrikaans           low_popularity   541 58.74\n",
       "2   afrikaans           popular          268 29.10\n",
       "3   afrikaans           very popular      23  2.50\n",
       "4   afrikaans           zero_popularity   89  9.66\n",
       "5   albanian            low_popularity   142 52.59\n",
       "6   albanian            popular           71 26.30\n",
       "7   albanian            very popular      12  4.44\n",
       "8   albanian            zero_popularity   45 16.67\n",
       "9   basque              low_popularity   879 38.40\n",
       "10  basque              popular          434 18.96\n",
       "11  basque              very popular      84  3.67\n",
       "12  basque              zero_popularity  892 38.97\n",
       "13  belarus-windows1251 low_popularity     2 28.57\n",
       "14  belarus-windows1251 popular            3 42.86\n",
       "15  belarus-windows1251 zero_popularity    2 28.57\n",
       "16  bosnian             low_popularity    96 51.34\n",
       "17  bosnian             popular           44 23.53\n",
       "18  bosnian             very popular       4  2.14\n",
       "19  bosnian             zero_popularity   43 22.99\n",
       "20  breton              low_popularity  1074 52.03\n",
       "21  breton              popular          610 29.55\n",
       "22  breton              very popular      54  2.62\n",
       "23  breton              zero_popularity  326 15.79\n",
       "24  bulgarian-iso8859_5 low_popularity     3 25.00\n",
       "25  bulgarian-iso8859_5 popular            3 25.00\n",
       "26  bulgarian-iso8859_5 very popular       1  8.33\n",
       "27  bulgarian-iso8859_5 zero_popularity    5 41.67\n",
       "28  catalan             low_popularity  6260 48.72\n",
       "29  catalan             popular         3387 26.36\n",
       "30  catalan             very popular     325  2.53\n",
       "⋮   ⋮                   ⋮               ⋮    ⋮    \n",
       "192 spanish             popular         1057 28.53\n",
       "193 spanish             very popular      49  1.32\n",
       "194 spanish             zero_popularity 1396 37.68\n",
       "195 swahili             low_popularity   680 36.94\n",
       "196 swahili             popular          312 16.95\n",
       "197 swahili             very popular      53  2.88\n",
       "198 swahili             zero_popularity  796 43.24\n",
       "199 swedish             low_popularity   632 57.56\n",
       "200 swedish             popular          266 24.23\n",
       "201 swedish             very popular      36  3.28\n",
       "202 swedish             zero_popularity  164 14.94\n",
       "203 tagalog             low_popularity  1848 41.94\n",
       "204 tagalog             popular         1021 23.17\n",
       "205 tagalog             very popular     111  2.52\n",
       "206 tagalog             zero_popularity 1426 32.36\n",
       "207 turkish             low_popularity    51 47.22\n",
       "208 turkish             popular           29 26.85\n",
       "209 turkish             very popular       1  0.93\n",
       "210 turkish             zero_popularity   27 25.00\n",
       "211 ukrainian-koi8_r    low_popularity     8 36.36\n",
       "212 ukrainian-koi8_r    popular            8 36.36\n",
       "213 ukrainian-koi8_r    zero_popularity    6 27.27\n",
       "214 welsh               low_popularity   951 52.02\n",
       "215 welsh               popular          606 33.15\n",
       "216 welsh               very popular      82  4.49\n",
       "217 welsh               zero_popularity  189 10.34\n",
       "218 NA                  low_popularity   517 51.55\n",
       "219 NA                  popular          270 26.92\n",
       "220 NA                  very popular      27  2.69\n",
       "221 NA                  zero_popularity  189 18.84"
      ]
     },
     "metadata": {},
     "output_type": "display_data"
    }
   ],
   "source": [
    "# Summary dataframe\n",
    "language_sum <- data_clean %>%\n",
    "    group_by(language, poprank) %>% summarise(n = n()) %>% mutate(freq = round(n / sum(n)*100,2))\n",
    "language_sum"
   ]
  },
  {
   "cell_type": "code",
   "execution_count": 270,
   "metadata": {},
   "outputs": [
    {
     "data": {
      "text/html": [
       "<table>\n",
       "<caption>A grouped_df: 6 × 4</caption>\n",
       "<thead>\n",
       "\t<tr><th scope=col>language</th><th scope=col>poprank</th><th scope=col>n</th><th scope=col>freq</th></tr>\n",
       "\t<tr><th scope=col>&lt;fct&gt;</th><th scope=col>&lt;fct&gt;</th><th scope=col>&lt;int&gt;</th><th scope=col>&lt;dbl&gt;</th></tr>\n",
       "</thead>\n",
       "<tbody>\n",
       "\t<tr><td>nepali             </td><td>very popular</td><td>18</td><td>12.59</td></tr>\n",
       "\t<tr><td>bulgarian-iso8859_5</td><td>very popular</td><td> 1</td><td> 8.33</td></tr>\n",
       "\t<tr><td>hungarian          </td><td>very popular</td><td>29</td><td> 4.92</td></tr>\n",
       "\t<tr><td>polish             </td><td>very popular</td><td>30</td><td> 4.65</td></tr>\n",
       "\t<tr><td>welsh              </td><td>very popular</td><td>82</td><td> 4.49</td></tr>\n",
       "\t<tr><td>albanian           </td><td>very popular</td><td>12</td><td> 4.44</td></tr>\n",
       "</tbody>\n",
       "</table>\n"
      ],
      "text/latex": [
       "A grouped\\_df: 6 × 4\n",
       "\\begin{tabular}{llll}\n",
       " language & poprank & n & freq\\\\\n",
       " <fct> & <fct> & <int> & <dbl>\\\\\n",
       "\\hline\n",
       "\t nepali              & very popular & 18 & 12.59\\\\\n",
       "\t bulgarian-iso8859\\_5 & very popular &  1 &  8.33\\\\\n",
       "\t hungarian           & very popular & 29 &  4.92\\\\\n",
       "\t polish              & very popular & 30 &  4.65\\\\\n",
       "\t welsh               & very popular & 82 &  4.49\\\\\n",
       "\t albanian            & very popular & 12 &  4.44\\\\\n",
       "\\end{tabular}\n"
      ],
      "text/markdown": [
       "\n",
       "A grouped_df: 6 × 4\n",
       "\n",
       "| language &lt;fct&gt; | poprank &lt;fct&gt; | n &lt;int&gt; | freq &lt;dbl&gt; |\n",
       "|---|---|---|---|\n",
       "| nepali              | very popular | 18 | 12.59 |\n",
       "| bulgarian-iso8859_5 | very popular |  1 |  8.33 |\n",
       "| hungarian           | very popular | 29 |  4.92 |\n",
       "| polish              | very popular | 30 |  4.65 |\n",
       "| welsh               | very popular | 82 |  4.49 |\n",
       "| albanian            | very popular | 12 |  4.44 |\n",
       "\n"
      ],
      "text/plain": [
       "  language            poprank      n  freq \n",
       "1 nepali              very popular 18 12.59\n",
       "2 bulgarian-iso8859_5 very popular  1  8.33\n",
       "3 hungarian           very popular 29  4.92\n",
       "4 polish              very popular 30  4.65\n",
       "5 welsh               very popular 82  4.49\n",
       "6 albanian            very popular 12  4.44"
      ]
     },
     "metadata": {},
     "output_type": "display_data"
    }
   ],
   "source": [
    "very.popular_language <- language_sum[language_sum$poprank=='very popular',]\n",
    "very.popular_language <- very.popular_language[order(-very.popular_language$freq),]\n",
    "head(very.popular_language)"
   ]
  },
  {
   "cell_type": "code",
   "execution_count": 272,
   "metadata": {},
   "outputs": [
    {
     "data": {
      "text/html": [
       "<table>\n",
       "<caption>A grouped_df: 6 × 4</caption>\n",
       "<thead>\n",
       "\t<tr><th scope=col>language</th><th scope=col>poprank</th><th scope=col>n</th><th scope=col>freq</th></tr>\n",
       "\t<tr><th scope=col>&lt;fct&gt;</th><th scope=col>&lt;fct&gt;</th><th scope=col>&lt;int&gt;</th><th scope=col>&lt;dbl&gt;</th></tr>\n",
       "</thead>\n",
       "<tbody>\n",
       "\t<tr><td>english       </td><td>popular</td><td>7916</td><td>24.69</td></tr>\n",
       "\t<tr><td>middle_frisian</td><td>popular</td><td>4606</td><td>25.66</td></tr>\n",
       "\t<tr><td>german        </td><td>popular</td><td>3435</td><td>21.97</td></tr>\n",
       "\t<tr><td>catalan       </td><td>popular</td><td>3387</td><td>26.36</td></tr>\n",
       "\t<tr><td>scots         </td><td>popular</td><td>2499</td><td>25.07</td></tr>\n",
       "\t<tr><td>danish        </td><td>popular</td><td>1405</td><td>23.91</td></tr>\n",
       "</tbody>\n",
       "</table>\n"
      ],
      "text/latex": [
       "A grouped\\_df: 6 × 4\n",
       "\\begin{tabular}{llll}\n",
       " language & poprank & n & freq\\\\\n",
       " <fct> & <fct> & <int> & <dbl>\\\\\n",
       "\\hline\n",
       "\t english        & popular & 7916 & 24.69\\\\\n",
       "\t middle\\_frisian & popular & 4606 & 25.66\\\\\n",
       "\t german         & popular & 3435 & 21.97\\\\\n",
       "\t catalan        & popular & 3387 & 26.36\\\\\n",
       "\t scots          & popular & 2499 & 25.07\\\\\n",
       "\t danish         & popular & 1405 & 23.91\\\\\n",
       "\\end{tabular}\n"
      ],
      "text/markdown": [
       "\n",
       "A grouped_df: 6 × 4\n",
       "\n",
       "| language &lt;fct&gt; | poprank &lt;fct&gt; | n &lt;int&gt; | freq &lt;dbl&gt; |\n",
       "|---|---|---|---|\n",
       "| english        | popular | 7916 | 24.69 |\n",
       "| middle_frisian | popular | 4606 | 25.66 |\n",
       "| german         | popular | 3435 | 21.97 |\n",
       "| catalan        | popular | 3387 | 26.36 |\n",
       "| scots          | popular | 2499 | 25.07 |\n",
       "| danish         | popular | 1405 | 23.91 |\n",
       "\n"
      ],
      "text/plain": [
       "  language       poprank n    freq \n",
       "1 english        popular 7916 24.69\n",
       "2 middle_frisian popular 4606 25.66\n",
       "3 german         popular 3435 21.97\n",
       "4 catalan        popular 3387 26.36\n",
       "5 scots          popular 2499 25.07\n",
       "6 danish         popular 1405 23.91"
      ]
     },
     "metadata": {},
     "output_type": "display_data"
    }
   ],
   "source": [
    "popular_language <- language_sum[language_sum$poprank=='popular',]\n",
    "popular_language <- popular_language[order(-popular_language$n),]\n",
    "head(popular_language)"
   ]
  },
  {
   "cell_type": "code",
   "execution_count": 147,
   "metadata": {},
   "outputs": [
    {
     "data": {
      "text/html": [
       "<table>\n",
       "<caption>A grouped_df: 6 × 22</caption>\n",
       "<thead>\n",
       "\t<tr><th scope=col>acousticness</th><th scope=col>artists</th><th scope=col>danceability</th><th scope=col>duration_ms</th><th scope=col>energy</th><th scope=col>explicit</th><th scope=col>instrumentalness</th><th scope=col>key</th><th scope=col>liveness</th><th scope=col>loudness</th><th scope=col>⋯</th><th scope=col>popularity</th><th scope=col>release_date</th><th scope=col>speechiness</th><th scope=col>tempo</th><th scope=col>valence</th><th scope=col>year</th><th scope=col>log_popularity</th><th scope=col>poprank</th><th scope=col>language</th><th scope=col>rankmean</th></tr>\n",
       "\t<tr><th scope=col>&lt;dbl&gt;</th><th scope=col>&lt;chr&gt;</th><th scope=col>&lt;dbl&gt;</th><th scope=col>&lt;int&gt;</th><th scope=col>&lt;dbl&gt;</th><th scope=col>&lt;int&gt;</th><th scope=col>&lt;dbl&gt;</th><th scope=col>&lt;int&gt;</th><th scope=col>&lt;dbl&gt;</th><th scope=col>&lt;dbl&gt;</th><th scope=col>⋯</th><th scope=col>&lt;int&gt;</th><th scope=col>&lt;date&gt;</th><th scope=col>&lt;dbl&gt;</th><th scope=col>&lt;dbl&gt;</th><th scope=col>&lt;dbl&gt;</th><th scope=col>&lt;int&gt;</th><th scope=col>&lt;dbl&gt;</th><th scope=col>&lt;fct&gt;</th><th scope=col>&lt;fct&gt;</th><th scope=col>&lt;dbl&gt;</th></tr>\n",
       "</thead>\n",
       "<tbody>\n",
       "\t<tr><td>0.991000</td><td>['Mamie Smith']                  </td><td>0.598</td><td>168333</td><td>0.224</td><td>0</td><td>5.22e-04</td><td> 5</td><td>0.3790</td><td>-12.628</td><td>⋯</td><td>12</td><td>1920-01-01</td><td>0.0936</td><td>149.976</td><td>0.6340</td><td>1920</td><td>2.564949</td><td>low_popularity</td><td>indonesian</td><td>19.29</td></tr>\n",
       "\t<tr><td>0.643000</td><td>[\"Screamin' Jay Hawkins\"]        </td><td>0.852</td><td>150200</td><td>0.517</td><td>0</td><td>2.64e-02</td><td> 5</td><td>0.0809</td><td> -7.261</td><td>⋯</td><td> 7</td><td>1920-01-05</td><td>0.0534</td><td> 86.889</td><td>0.9500</td><td>1920</td><td>2.079442</td><td>low_popularity</td><td>indonesian</td><td>19.29</td></tr>\n",
       "\t<tr><td>0.993000</td><td>['Mamie Smith']                  </td><td>0.647</td><td>163827</td><td>0.186</td><td>0</td><td>1.76e-05</td><td> 0</td><td>0.5190</td><td>-12.098</td><td>⋯</td><td> 4</td><td>1920-01-01</td><td>0.1740</td><td> 97.600</td><td>0.6890</td><td>1920</td><td>1.609438</td><td>low_popularity</td><td>tagalog   </td><td>23.83</td></tr>\n",
       "\t<tr><td>0.000173</td><td>['Oscar Velazquez']              </td><td>0.730</td><td>422087</td><td>0.798</td><td>0</td><td>8.01e-01</td><td> 2</td><td>0.1280</td><td> -7.311</td><td>⋯</td><td>17</td><td>1920-01-01</td><td>0.0425</td><td>127.997</td><td>0.0422</td><td>1920</td><td>2.890372</td><td>low_popularity</td><td>portuguese</td><td>19.17</td></tr>\n",
       "\t<tr><td>0.295000</td><td>['Mixe']                         </td><td>0.704</td><td>165224</td><td>0.707</td><td>1</td><td>2.46e-04</td><td>10</td><td>0.4020</td><td> -6.036</td><td>⋯</td><td> 2</td><td>1920-10-01</td><td>0.0768</td><td>122.076</td><td>0.2990</td><td>1920</td><td>1.098612</td><td>low_popularity</td><td>danish    </td><td>28.13</td></tr>\n",
       "\t<tr><td>0.996000</td><td>['Mamie Smith &amp; Her Jazz Hounds']</td><td>0.424</td><td>198627</td><td>0.245</td><td>0</td><td>7.99e-01</td><td> 5</td><td>0.2350</td><td>-11.470</td><td>⋯</td><td> 9</td><td>1920-01-01</td><td>0.0397</td><td>103.870</td><td>0.4770</td><td>1920</td><td>2.302585</td><td>low_popularity</td><td><span style=white-space:pre-wrap>catalan   </span></td><td>27.00</td></tr>\n",
       "</tbody>\n",
       "</table>\n"
      ],
      "text/latex": [
       "A grouped\\_df: 6 × 22\n",
       "\\begin{tabular}{lllllllllllllllllllll}\n",
       " acousticness & artists & danceability & duration\\_ms & energy & explicit & instrumentalness & key & liveness & loudness & ⋯ & popularity & release\\_date & speechiness & tempo & valence & year & log\\_popularity & poprank & language & rankmean\\\\\n",
       " <dbl> & <chr> & <dbl> & <int> & <dbl> & <int> & <dbl> & <int> & <dbl> & <dbl> & ⋯ & <int> & <date> & <dbl> & <dbl> & <dbl> & <int> & <dbl> & <fct> & <fct> & <dbl>\\\\\n",
       "\\hline\n",
       "\t 0.991000 & {[}'Mamie Smith'{]}                   & 0.598 & 168333 & 0.224 & 0 & 5.22e-04 &  5 & 0.3790 & -12.628 & ⋯ & 12 & 1920-01-01 & 0.0936 & 149.976 & 0.6340 & 1920 & 2.564949 & low\\_popularity & indonesian & 19.29\\\\\n",
       "\t 0.643000 & {[}\"Screamin' Jay Hawkins\"{]}         & 0.852 & 150200 & 0.517 & 0 & 2.64e-02 &  5 & 0.0809 &  -7.261 & ⋯ &  7 & 1920-01-05 & 0.0534 &  86.889 & 0.9500 & 1920 & 2.079442 & low\\_popularity & indonesian & 19.29\\\\\n",
       "\t 0.993000 & {[}'Mamie Smith'{]}                   & 0.647 & 163827 & 0.186 & 0 & 1.76e-05 &  0 & 0.5190 & -12.098 & ⋯ &  4 & 1920-01-01 & 0.1740 &  97.600 & 0.6890 & 1920 & 1.609438 & low\\_popularity & tagalog    & 23.83\\\\\n",
       "\t 0.000173 & {[}'Oscar Velazquez'{]}               & 0.730 & 422087 & 0.798 & 0 & 8.01e-01 &  2 & 0.1280 &  -7.311 & ⋯ & 17 & 1920-01-01 & 0.0425 & 127.997 & 0.0422 & 1920 & 2.890372 & low\\_popularity & portuguese & 19.17\\\\\n",
       "\t 0.295000 & {[}'Mixe'{]}                          & 0.704 & 165224 & 0.707 & 1 & 2.46e-04 & 10 & 0.4020 &  -6.036 & ⋯ &  2 & 1920-10-01 & 0.0768 & 122.076 & 0.2990 & 1920 & 1.098612 & low\\_popularity & danish     & 28.13\\\\\n",
       "\t 0.996000 & {[}'Mamie Smith \\& Her Jazz Hounds'{]} & 0.424 & 198627 & 0.245 & 0 & 7.99e-01 &  5 & 0.2350 & -11.470 & ⋯ &  9 & 1920-01-01 & 0.0397 & 103.870 & 0.4770 & 1920 & 2.302585 & low\\_popularity & catalan    & 27.00\\\\\n",
       "\\end{tabular}\n"
      ],
      "text/markdown": [
       "\n",
       "A grouped_df: 6 × 22\n",
       "\n",
       "| acousticness &lt;dbl&gt; | artists &lt;chr&gt; | danceability &lt;dbl&gt; | duration_ms &lt;int&gt; | energy &lt;dbl&gt; | explicit &lt;int&gt; | instrumentalness &lt;dbl&gt; | key &lt;int&gt; | liveness &lt;dbl&gt; | loudness &lt;dbl&gt; | ⋯ ⋯ | popularity &lt;int&gt; | release_date &lt;date&gt; | speechiness &lt;dbl&gt; | tempo &lt;dbl&gt; | valence &lt;dbl&gt; | year &lt;int&gt; | log_popularity &lt;dbl&gt; | poprank &lt;fct&gt; | language &lt;fct&gt; | rankmean &lt;dbl&gt; |\n",
       "|---|---|---|---|---|---|---|---|---|---|---|---|---|---|---|---|---|---|---|---|---|\n",
       "| 0.991000 | ['Mamie Smith']                   | 0.598 | 168333 | 0.224 | 0 | 5.22e-04 |  5 | 0.3790 | -12.628 | ⋯ | 12 | 1920-01-01 | 0.0936 | 149.976 | 0.6340 | 1920 | 2.564949 | low_popularity | indonesian | 19.29 |\n",
       "| 0.643000 | [\"Screamin' Jay Hawkins\"]         | 0.852 | 150200 | 0.517 | 0 | 2.64e-02 |  5 | 0.0809 |  -7.261 | ⋯ |  7 | 1920-01-05 | 0.0534 |  86.889 | 0.9500 | 1920 | 2.079442 | low_popularity | indonesian | 19.29 |\n",
       "| 0.993000 | ['Mamie Smith']                   | 0.647 | 163827 | 0.186 | 0 | 1.76e-05 |  0 | 0.5190 | -12.098 | ⋯ |  4 | 1920-01-01 | 0.1740 |  97.600 | 0.6890 | 1920 | 1.609438 | low_popularity | tagalog    | 23.83 |\n",
       "| 0.000173 | ['Oscar Velazquez']               | 0.730 | 422087 | 0.798 | 0 | 8.01e-01 |  2 | 0.1280 |  -7.311 | ⋯ | 17 | 1920-01-01 | 0.0425 | 127.997 | 0.0422 | 1920 | 2.890372 | low_popularity | portuguese | 19.17 |\n",
       "| 0.295000 | ['Mixe']                          | 0.704 | 165224 | 0.707 | 1 | 2.46e-04 | 10 | 0.4020 |  -6.036 | ⋯ |  2 | 1920-10-01 | 0.0768 | 122.076 | 0.2990 | 1920 | 1.098612 | low_popularity | danish     | 28.13 |\n",
       "| 0.996000 | ['Mamie Smith &amp; Her Jazz Hounds'] | 0.424 | 198627 | 0.245 | 0 | 7.99e-01 |  5 | 0.2350 | -11.470 | ⋯ |  9 | 1920-01-01 | 0.0397 | 103.870 | 0.4770 | 1920 | 2.302585 | low_popularity | catalan    | 27.00 |\n",
       "\n"
      ],
      "text/plain": [
       "  acousticness artists                           danceability duration_ms\n",
       "1 0.991000     ['Mamie Smith']                   0.598        168333     \n",
       "2 0.643000     [\"Screamin' Jay Hawkins\"]         0.852        150200     \n",
       "3 0.993000     ['Mamie Smith']                   0.647        163827     \n",
       "4 0.000173     ['Oscar Velazquez']               0.730        422087     \n",
       "5 0.295000     ['Mixe']                          0.704        165224     \n",
       "6 0.996000     ['Mamie Smith & Her Jazz Hounds'] 0.424        198627     \n",
       "  energy explicit instrumentalness key liveness loudness ⋯ popularity\n",
       "1 0.224  0        5.22e-04          5  0.3790   -12.628  ⋯ 12        \n",
       "2 0.517  0        2.64e-02          5  0.0809    -7.261  ⋯  7        \n",
       "3 0.186  0        1.76e-05          0  0.5190   -12.098  ⋯  4        \n",
       "4 0.798  0        8.01e-01          2  0.1280    -7.311  ⋯ 17        \n",
       "5 0.707  1        2.46e-04         10  0.4020    -6.036  ⋯  2        \n",
       "6 0.245  0        7.99e-01          5  0.2350   -11.470  ⋯  9        \n",
       "  release_date speechiness tempo   valence year log_popularity poprank       \n",
       "1 1920-01-01   0.0936      149.976 0.6340  1920 2.564949       low_popularity\n",
       "2 1920-01-05   0.0534       86.889 0.9500  1920 2.079442       low_popularity\n",
       "3 1920-01-01   0.1740       97.600 0.6890  1920 1.609438       low_popularity\n",
       "4 1920-01-01   0.0425      127.997 0.0422  1920 2.890372       low_popularity\n",
       "5 1920-10-01   0.0768      122.076 0.2990  1920 1.098612       low_popularity\n",
       "6 1920-01-01   0.0397      103.870 0.4770  1920 2.302585       low_popularity\n",
       "  language   rankmean\n",
       "1 indonesian 19.29   \n",
       "2 indonesian 19.29   \n",
       "3 tagalog    23.83   \n",
       "4 portuguese 19.17   \n",
       "5 danish     28.13   \n",
       "6 catalan    27.00   "
      ]
     },
     "metadata": {},
     "output_type": "display_data"
    }
   ],
   "source": [
    "# Summary dataframe\n",
    "language_sum <- data_clean %>%\n",
    "    group_by(language) %>% mutate(rankmean = round(mean(popularity),2))\n",
    "head(language_sum)"
   ]
  },
  {
   "cell_type": "code",
   "execution_count": 149,
   "metadata": {},
   "outputs": [
    {
     "data": {
      "text/html": [
       "<table>\n",
       "<caption>A grouped_df: 6 × 2</caption>\n",
       "<thead>\n",
       "\t<tr><th scope=col>language</th><th scope=col>rankmean</th></tr>\n",
       "\t<tr><th scope=col>&lt;fct&gt;</th><th scope=col>&lt;dbl&gt;</th></tr>\n",
       "</thead>\n",
       "<tbody>\n",
       "\t<tr><td>indonesian</td><td>19.29</td></tr>\n",
       "\t<tr><td>indonesian</td><td>19.29</td></tr>\n",
       "\t<tr><td>tagalog   </td><td>23.83</td></tr>\n",
       "\t<tr><td>portuguese</td><td>19.17</td></tr>\n",
       "\t<tr><td>danish    </td><td>28.13</td></tr>\n",
       "\t<tr><td>catalan   </td><td>27.00</td></tr>\n",
       "</tbody>\n",
       "</table>\n"
      ],
      "text/latex": [
       "A grouped\\_df: 6 × 2\n",
       "\\begin{tabular}{ll}\n",
       " language & rankmean\\\\\n",
       " <fct> & <dbl>\\\\\n",
       "\\hline\n",
       "\t indonesian & 19.29\\\\\n",
       "\t indonesian & 19.29\\\\\n",
       "\t tagalog    & 23.83\\\\\n",
       "\t portuguese & 19.17\\\\\n",
       "\t danish     & 28.13\\\\\n",
       "\t catalan    & 27.00\\\\\n",
       "\\end{tabular}\n"
      ],
      "text/markdown": [
       "\n",
       "A grouped_df: 6 × 2\n",
       "\n",
       "| language &lt;fct&gt; | rankmean &lt;dbl&gt; |\n",
       "|---|---|\n",
       "| indonesian | 19.29 |\n",
       "| indonesian | 19.29 |\n",
       "| tagalog    | 23.83 |\n",
       "| portuguese | 19.17 |\n",
       "| danish     | 28.13 |\n",
       "| catalan    | 27.00 |\n",
       "\n"
      ],
      "text/plain": [
       "  language   rankmean\n",
       "1 indonesian 19.29   \n",
       "2 indonesian 19.29   \n",
       "3 tagalog    23.83   \n",
       "4 portuguese 19.17   \n",
       "5 danish     28.13   \n",
       "6 catalan    27.00   "
      ]
     },
     "metadata": {},
     "output_type": "display_data"
    }
   ],
   "source": [
    "select_columns <- c('language', 'rankmean')\n",
    "language_sum <- language_sum[, select_columns]\n",
    "head(language_sum)"
   ]
  },
  {
   "cell_type": "code",
   "execution_count": 152,
   "metadata": {},
   "outputs": [
    {
     "name": "stderr",
     "output_type": "stream",
     "text": [
      "Warning message in mean.default(X[[i]], ...):\n",
      "“argument is not numeric or logical: returning NA”\n",
      "Warning message in mean.default(X[[i]], ...):\n",
      "“argument is not numeric or logical: returning NA”\n",
      "Warning message in mean.default(X[[i]], ...):\n",
      "“argument is not numeric or logical: returning NA”\n",
      "Warning message in mean.default(X[[i]], ...):\n",
      "“argument is not numeric or logical: returning NA”\n",
      "Warning message in mean.default(X[[i]], ...):\n",
      "“argument is not numeric or logical: returning NA”\n",
      "Warning message in mean.default(X[[i]], ...):\n",
      "“argument is not numeric or logical: returning NA”\n",
      "Warning message in mean.default(X[[i]], ...):\n",
      "“argument is not numeric or logical: returning NA”\n",
      "Warning message in mean.default(X[[i]], ...):\n",
      "“argument is not numeric or logical: returning NA”\n",
      "Warning message in mean.default(X[[i]], ...):\n",
      "“argument is not numeric or logical: returning NA”\n",
      "Warning message in mean.default(X[[i]], ...):\n",
      "“argument is not numeric or logical: returning NA”\n",
      "Warning message in mean.default(X[[i]], ...):\n",
      "“argument is not numeric or logical: returning NA”\n",
      "Warning message in mean.default(X[[i]], ...):\n",
      "“argument is not numeric or logical: returning NA”\n",
      "Warning message in mean.default(X[[i]], ...):\n",
      "“argument is not numeric or logical: returning NA”\n",
      "Warning message in mean.default(X[[i]], ...):\n",
      "“argument is not numeric or logical: returning NA”\n",
      "Warning message in mean.default(X[[i]], ...):\n",
      "“argument is not numeric or logical: returning NA”\n",
      "Warning message in mean.default(X[[i]], ...):\n",
      "“argument is not numeric or logical: returning NA”\n",
      "Warning message in mean.default(X[[i]], ...):\n",
      "“argument is not numeric or logical: returning NA”\n",
      "Warning message in mean.default(X[[i]], ...):\n",
      "“argument is not numeric or logical: returning NA”\n",
      "Warning message in mean.default(X[[i]], ...):\n",
      "“argument is not numeric or logical: returning NA”\n",
      "Warning message in mean.default(X[[i]], ...):\n",
      "“argument is not numeric or logical: returning NA”\n",
      "Warning message in mean.default(X[[i]], ...):\n",
      "“argument is not numeric or logical: returning NA”\n",
      "Warning message in mean.default(X[[i]], ...):\n",
      "“argument is not numeric or logical: returning NA”\n",
      "Warning message in mean.default(X[[i]], ...):\n",
      "“argument is not numeric or logical: returning NA”\n",
      "Warning message in mean.default(X[[i]], ...):\n",
      "“argument is not numeric or logical: returning NA”\n",
      "Warning message in mean.default(X[[i]], ...):\n",
      "“argument is not numeric or logical: returning NA”\n",
      "Warning message in mean.default(X[[i]], ...):\n",
      "“argument is not numeric or logical: returning NA”\n",
      "Warning message in mean.default(X[[i]], ...):\n",
      "“argument is not numeric or logical: returning NA”\n",
      "Warning message in mean.default(X[[i]], ...):\n",
      "“argument is not numeric or logical: returning NA”\n",
      "Warning message in mean.default(X[[i]], ...):\n",
      "“argument is not numeric or logical: returning NA”\n",
      "Warning message in mean.default(X[[i]], ...):\n",
      "“argument is not numeric or logical: returning NA”\n",
      "Warning message in mean.default(X[[i]], ...):\n",
      "“argument is not numeric or logical: returning NA”\n",
      "Warning message in mean.default(X[[i]], ...):\n",
      "“argument is not numeric or logical: returning NA”\n",
      "Warning message in mean.default(X[[i]], ...):\n",
      "“argument is not numeric or logical: returning NA”\n",
      "Warning message in mean.default(X[[i]], ...):\n",
      "“argument is not numeric or logical: returning NA”\n",
      "Warning message in mean.default(X[[i]], ...):\n",
      "“argument is not numeric or logical: returning NA”\n",
      "Warning message in mean.default(X[[i]], ...):\n",
      "“argument is not numeric or logical: returning NA”\n",
      "Warning message in mean.default(X[[i]], ...):\n",
      "“argument is not numeric or logical: returning NA”\n",
      "Warning message in mean.default(X[[i]], ...):\n",
      "“argument is not numeric or logical: returning NA”\n",
      "Warning message in mean.default(X[[i]], ...):\n",
      "“argument is not numeric or logical: returning NA”\n",
      "Warning message in mean.default(X[[i]], ...):\n",
      "“argument is not numeric or logical: returning NA”\n",
      "Warning message in mean.default(X[[i]], ...):\n",
      "“argument is not numeric or logical: returning NA”\n",
      "Warning message in mean.default(X[[i]], ...):\n",
      "“argument is not numeric or logical: returning NA”\n",
      "Warning message in mean.default(X[[i]], ...):\n",
      "“argument is not numeric or logical: returning NA”\n",
      "Warning message in mean.default(X[[i]], ...):\n",
      "“argument is not numeric or logical: returning NA”\n",
      "Warning message in mean.default(X[[i]], ...):\n",
      "“argument is not numeric or logical: returning NA”\n",
      "Warning message in mean.default(X[[i]], ...):\n",
      "“argument is not numeric or logical: returning NA”\n",
      "Warning message in mean.default(X[[i]], ...):\n",
      "“argument is not numeric or logical: returning NA”\n",
      "Warning message in mean.default(X[[i]], ...):\n",
      "“argument is not numeric or logical: returning NA”\n",
      "Warning message in mean.default(X[[i]], ...):\n",
      "“argument is not numeric or logical: returning NA”\n",
      "Warning message in mean.default(X[[i]], ...):\n",
      "“argument is not numeric or logical: returning NA”\n",
      "Warning message in mean.default(X[[i]], ...):\n",
      "“argument is not numeric or logical: returning NA”\n",
      "Warning message in mean.default(X[[i]], ...):\n",
      "“argument is not numeric or logical: returning NA”\n",
      "Warning message in mean.default(X[[i]], ...):\n",
      "“argument is not numeric or logical: returning NA”\n",
      "Warning message in mean.default(X[[i]], ...):\n",
      "“argument is not numeric or logical: returning NA”\n",
      "Warning message in mean.default(X[[i]], ...):\n",
      "“argument is not numeric or logical: returning NA”\n",
      "Warning message in mean.default(X[[i]], ...):\n",
      "“argument is not numeric or logical: returning NA”\n"
     ]
    },
    {
     "data": {
      "text/html": [
       "<table>\n",
       "<caption>A data.frame: 56 × 2</caption>\n",
       "<thead>\n",
       "\t<tr><th></th><th scope=col>lang</th><th scope=col>rankmean</th></tr>\n",
       "\t<tr><th></th><th scope=col>&lt;fct&gt;</th><th scope=col>&lt;dbl&gt;</th></tr>\n",
       "</thead>\n",
       "<tbody>\n",
       "\t<tr><th scope=row>33</th><td>nepali             </td><td>41.28</td></tr>\n",
       "\t<tr><th scope=row>21</th><td>hebrew-iso8859_8   </td><td>36.82</td></tr>\n",
       "\t<tr><th scope=row>56</th><td>welsh              </td><td>33.83</td></tr>\n",
       "\t<tr><th scope=row>31</th><td>manx               </td><td>32.77</td></tr>\n",
       "\t<tr><th scope=row>4</th><td>belarus-windows1251</td><td>32.43</td></tr>\n",
       "\t<tr><th scope=row>10</th><td>czech-iso8859_2    </td><td>32.39</td></tr>\n",
       "\t<tr><th scope=row>22</th><td>hungarian          </td><td>31.68</td></tr>\n",
       "\t<tr><th scope=row>55</th><td>ukrainian-koi8_r   </td><td>31.45</td></tr>\n",
       "\t<tr><th scope=row>1</th><td>afrikaans          </td><td>31.34</td></tr>\n",
       "\t<tr><th scope=row>12</th><td>dutch              </td><td>30.74</td></tr>\n",
       "\t<tr><th scope=row>2</th><td>albanian           </td><td>30.66</td></tr>\n",
       "\t<tr><th scope=row>28</th><td>latvian            </td><td>30.46</td></tr>\n",
       "\t<tr><th scope=row>6</th><td>breton             </td><td>30.24</td></tr>\n",
       "\t<tr><th scope=row>44</th><td>scots_gaelic       </td><td>29.48</td></tr>\n",
       "\t<tr><th scope=row>25</th><td>irish              </td><td>29.40</td></tr>\n",
       "\t<tr><th scope=row>43</th><td>scots              </td><td>29.37</td></tr>\n",
       "\t<tr><th scope=row>32</th><td>middle_frisian     </td><td>28.67</td></tr>\n",
       "\t<tr><th scope=row>13</th><td>english            </td><td>28.24</td></tr>\n",
       "\t<tr><th scope=row>34</th><td>norwegian          </td><td>28.23</td></tr>\n",
       "\t<tr><th scope=row>11</th><td>danish             </td><td>28.13</td></tr>\n",
       "\t<tr><th scope=row>15</th><td>estonian           </td><td>28.11</td></tr>\n",
       "\t<tr><th scope=row>18</th><td>frisian            </td><td>28.03</td></tr>\n",
       "\t<tr><th scope=row>52</th><td>swedish            </td><td>27.77</td></tr>\n",
       "\t<tr><th scope=row>35</th><td>polish             </td><td>27.47</td></tr>\n",
       "\t<tr><th scope=row>47</th><td>slovak-windows1250 </td><td>27.11</td></tr>\n",
       "\t<tr><th scope=row>8</th><td>catalan            </td><td>27.00</td></tr>\n",
       "\t<tr><th scope=row>23</th><td>icelandic          </td><td>26.10</td></tr>\n",
       "\t<tr><th scope=row>54</th><td>turkish            </td><td>26.03</td></tr>\n",
       "\t<tr><th scope=row>27</th><td>latin              </td><td>25.94</td></tr>\n",
       "\t<tr><th scope=row>7</th><td>bulgarian-iso8859_5</td><td>25.92</td></tr>\n",
       "\t<tr><th scope=row>45</th><td>serbian-ascii      </td><td>25.88</td></tr>\n",
       "\t<tr><th scope=row>19</th><td>german             </td><td>25.87</td></tr>\n",
       "\t<tr><th scope=row>49</th><td>slovenian-iso8859_2</td><td>25.84</td></tr>\n",
       "\t<tr><th scope=row>5</th><td>bosnian            </td><td>25.29</td></tr>\n",
       "\t<tr><th scope=row>16</th><td>finnish            </td><td>24.60</td></tr>\n",
       "\t<tr><th scope=row>50</th><td>spanish            </td><td>24.28</td></tr>\n",
       "\t<tr><th scope=row>53</th><td>tagalog            </td><td>23.83</td></tr>\n",
       "\t<tr><th scope=row>37</th><td>romanian           </td><td>23.72</td></tr>\n",
       "\t<tr><th scope=row>17</th><td>french             </td><td>23.41</td></tr>\n",
       "\t<tr><th scope=row>38</th><td>rumantsch          </td><td>23.31</td></tr>\n",
       "\t<tr><th scope=row>9</th><td>croatian-ascii     </td><td>22.14</td></tr>\n",
       "\t<tr><th scope=row>29</th><td>lithuanian         </td><td>21.10</td></tr>\n",
       "\t<tr><th scope=row>48</th><td>slovenian-ascii    </td><td>20.47</td></tr>\n",
       "\t<tr><th scope=row>3</th><td>basque             </td><td>19.94</td></tr>\n",
       "\t<tr><th scope=row>51</th><td>swahili            </td><td>19.44</td></tr>\n",
       "\t<tr><th scope=row>24</th><td>indonesian         </td><td>19.29</td></tr>\n",
       "\t<tr><th scope=row>36</th><td>portuguese         </td><td>19.17</td></tr>\n",
       "\t<tr><th scope=row>30</th><td>malay              </td><td>18.97</td></tr>\n",
       "\t<tr><th scope=row>46</th><td>slovak-ascii       </td><td>17.15</td></tr>\n",
       "\t<tr><th scope=row>26</th><td>italian            </td><td>16.71</td></tr>\n",
       "\t<tr><th scope=row>42</th><td>sanskrit           </td><td>14.79</td></tr>\n",
       "\t<tr><th scope=row>14</th><td>esperanto          </td><td>14.61</td></tr>\n",
       "\t<tr><th scope=row>41</th><td>russian-windows1251</td><td> 8.33</td></tr>\n",
       "\t<tr><th scope=row>40</th><td>russian-koi8_r     </td><td> 2.40</td></tr>\n",
       "\t<tr><th scope=row>39</th><td>russian-iso8859_5  </td><td> 1.05</td></tr>\n",
       "\t<tr><th scope=row>20</th><td>greek-iso8859-7    </td><td> 0.04</td></tr>\n",
       "</tbody>\n",
       "</table>\n"
      ],
      "text/latex": [
       "A data.frame: 56 × 2\n",
       "\\begin{tabular}{r|ll}\n",
       "  & lang & rankmean\\\\\n",
       "  & <fct> & <dbl>\\\\\n",
       "\\hline\n",
       "\t33 & nepali              & 41.28\\\\\n",
       "\t21 & hebrew-iso8859\\_8    & 36.82\\\\\n",
       "\t56 & welsh               & 33.83\\\\\n",
       "\t31 & manx                & 32.77\\\\\n",
       "\t4 & belarus-windows1251 & 32.43\\\\\n",
       "\t10 & czech-iso8859\\_2     & 32.39\\\\\n",
       "\t22 & hungarian           & 31.68\\\\\n",
       "\t55 & ukrainian-koi8\\_r    & 31.45\\\\\n",
       "\t1 & afrikaans           & 31.34\\\\\n",
       "\t12 & dutch               & 30.74\\\\\n",
       "\t2 & albanian            & 30.66\\\\\n",
       "\t28 & latvian             & 30.46\\\\\n",
       "\t6 & breton              & 30.24\\\\\n",
       "\t44 & scots\\_gaelic        & 29.48\\\\\n",
       "\t25 & irish               & 29.40\\\\\n",
       "\t43 & scots               & 29.37\\\\\n",
       "\t32 & middle\\_frisian      & 28.67\\\\\n",
       "\t13 & english             & 28.24\\\\\n",
       "\t34 & norwegian           & 28.23\\\\\n",
       "\t11 & danish              & 28.13\\\\\n",
       "\t15 & estonian            & 28.11\\\\\n",
       "\t18 & frisian             & 28.03\\\\\n",
       "\t52 & swedish             & 27.77\\\\\n",
       "\t35 & polish              & 27.47\\\\\n",
       "\t47 & slovak-windows1250  & 27.11\\\\\n",
       "\t8 & catalan             & 27.00\\\\\n",
       "\t23 & icelandic           & 26.10\\\\\n",
       "\t54 & turkish             & 26.03\\\\\n",
       "\t27 & latin               & 25.94\\\\\n",
       "\t7 & bulgarian-iso8859\\_5 & 25.92\\\\\n",
       "\t45 & serbian-ascii       & 25.88\\\\\n",
       "\t19 & german              & 25.87\\\\\n",
       "\t49 & slovenian-iso8859\\_2 & 25.84\\\\\n",
       "\t5 & bosnian             & 25.29\\\\\n",
       "\t16 & finnish             & 24.60\\\\\n",
       "\t50 & spanish             & 24.28\\\\\n",
       "\t53 & tagalog             & 23.83\\\\\n",
       "\t37 & romanian            & 23.72\\\\\n",
       "\t17 & french              & 23.41\\\\\n",
       "\t38 & rumantsch           & 23.31\\\\\n",
       "\t9 & croatian-ascii      & 22.14\\\\\n",
       "\t29 & lithuanian          & 21.10\\\\\n",
       "\t48 & slovenian-ascii     & 20.47\\\\\n",
       "\t3 & basque              & 19.94\\\\\n",
       "\t51 & swahili             & 19.44\\\\\n",
       "\t24 & indonesian          & 19.29\\\\\n",
       "\t36 & portuguese          & 19.17\\\\\n",
       "\t30 & malay               & 18.97\\\\\n",
       "\t46 & slovak-ascii        & 17.15\\\\\n",
       "\t26 & italian             & 16.71\\\\\n",
       "\t42 & sanskrit            & 14.79\\\\\n",
       "\t14 & esperanto           & 14.61\\\\\n",
       "\t41 & russian-windows1251 &  8.33\\\\\n",
       "\t40 & russian-koi8\\_r      &  2.40\\\\\n",
       "\t39 & russian-iso8859\\_5   &  1.05\\\\\n",
       "\t20 & greek-iso8859-7     &  0.04\\\\\n",
       "\\end{tabular}\n"
      ],
      "text/markdown": [
       "\n",
       "A data.frame: 56 × 2\n",
       "\n",
       "| <!--/--> | lang &lt;fct&gt; | rankmean &lt;dbl&gt; |\n",
       "|---|---|---|\n",
       "| 33 | nepali              | 41.28 |\n",
       "| 21 | hebrew-iso8859_8    | 36.82 |\n",
       "| 56 | welsh               | 33.83 |\n",
       "| 31 | manx                | 32.77 |\n",
       "| 4 | belarus-windows1251 | 32.43 |\n",
       "| 10 | czech-iso8859_2     | 32.39 |\n",
       "| 22 | hungarian           | 31.68 |\n",
       "| 55 | ukrainian-koi8_r    | 31.45 |\n",
       "| 1 | afrikaans           | 31.34 |\n",
       "| 12 | dutch               | 30.74 |\n",
       "| 2 | albanian            | 30.66 |\n",
       "| 28 | latvian             | 30.46 |\n",
       "| 6 | breton              | 30.24 |\n",
       "| 44 | scots_gaelic        | 29.48 |\n",
       "| 25 | irish               | 29.40 |\n",
       "| 43 | scots               | 29.37 |\n",
       "| 32 | middle_frisian      | 28.67 |\n",
       "| 13 | english             | 28.24 |\n",
       "| 34 | norwegian           | 28.23 |\n",
       "| 11 | danish              | 28.13 |\n",
       "| 15 | estonian            | 28.11 |\n",
       "| 18 | frisian             | 28.03 |\n",
       "| 52 | swedish             | 27.77 |\n",
       "| 35 | polish              | 27.47 |\n",
       "| 47 | slovak-windows1250  | 27.11 |\n",
       "| 8 | catalan             | 27.00 |\n",
       "| 23 | icelandic           | 26.10 |\n",
       "| 54 | turkish             | 26.03 |\n",
       "| 27 | latin               | 25.94 |\n",
       "| 7 | bulgarian-iso8859_5 | 25.92 |\n",
       "| 45 | serbian-ascii       | 25.88 |\n",
       "| 19 | german              | 25.87 |\n",
       "| 49 | slovenian-iso8859_2 | 25.84 |\n",
       "| 5 | bosnian             | 25.29 |\n",
       "| 16 | finnish             | 24.60 |\n",
       "| 50 | spanish             | 24.28 |\n",
       "| 53 | tagalog             | 23.83 |\n",
       "| 37 | romanian            | 23.72 |\n",
       "| 17 | french              | 23.41 |\n",
       "| 38 | rumantsch           | 23.31 |\n",
       "| 9 | croatian-ascii      | 22.14 |\n",
       "| 29 | lithuanian          | 21.10 |\n",
       "| 48 | slovenian-ascii     | 20.47 |\n",
       "| 3 | basque              | 19.94 |\n",
       "| 51 | swahili             | 19.44 |\n",
       "| 24 | indonesian          | 19.29 |\n",
       "| 36 | portuguese          | 19.17 |\n",
       "| 30 | malay               | 18.97 |\n",
       "| 46 | slovak-ascii        | 17.15 |\n",
       "| 26 | italian             | 16.71 |\n",
       "| 42 | sanskrit            | 14.79 |\n",
       "| 14 | esperanto           | 14.61 |\n",
       "| 41 | russian-windows1251 |  8.33 |\n",
       "| 40 | russian-koi8_r      |  2.40 |\n",
       "| 39 | russian-iso8859_5   |  1.05 |\n",
       "| 20 | greek-iso8859-7     |  0.04 |\n",
       "\n"
      ],
      "text/plain": [
       "   lang                rankmean\n",
       "33 nepali              41.28   \n",
       "21 hebrew-iso8859_8    36.82   \n",
       "56 welsh               33.83   \n",
       "31 manx                32.77   \n",
       "4  belarus-windows1251 32.43   \n",
       "10 czech-iso8859_2     32.39   \n",
       "22 hungarian           31.68   \n",
       "55 ukrainian-koi8_r    31.45   \n",
       "1  afrikaans           31.34   \n",
       "12 dutch               30.74   \n",
       "2  albanian            30.66   \n",
       "28 latvian             30.46   \n",
       "6  breton              30.24   \n",
       "44 scots_gaelic        29.48   \n",
       "25 irish               29.40   \n",
       "43 scots               29.37   \n",
       "32 middle_frisian      28.67   \n",
       "13 english             28.24   \n",
       "34 norwegian           28.23   \n",
       "11 danish              28.13   \n",
       "15 estonian            28.11   \n",
       "18 frisian             28.03   \n",
       "52 swedish             27.77   \n",
       "35 polish              27.47   \n",
       "47 slovak-windows1250  27.11   \n",
       "8  catalan             27.00   \n",
       "23 icelandic           26.10   \n",
       "54 turkish             26.03   \n",
       "27 latin               25.94   \n",
       "7  bulgarian-iso8859_5 25.92   \n",
       "45 serbian-ascii       25.88   \n",
       "19 german              25.87   \n",
       "49 slovenian-iso8859_2 25.84   \n",
       "5  bosnian             25.29   \n",
       "16 finnish             24.60   \n",
       "50 spanish             24.28   \n",
       "53 tagalog             23.83   \n",
       "37 romanian            23.72   \n",
       "17 french              23.41   \n",
       "38 rumantsch           23.31   \n",
       "9  croatian-ascii      22.14   \n",
       "29 lithuanian          21.10   \n",
       "48 slovenian-ascii     20.47   \n",
       "3  basque              19.94   \n",
       "51 swahili             19.44   \n",
       "24 indonesian          19.29   \n",
       "36 portuguese          19.17   \n",
       "30 malay               18.97   \n",
       "46 slovak-ascii        17.15   \n",
       "26 italian             16.71   \n",
       "42 sanskrit            14.79   \n",
       "14 esperanto           14.61   \n",
       "41 russian-windows1251  8.33   \n",
       "40 russian-koi8_r       2.40   \n",
       "39 russian-iso8859_5    1.05   \n",
       "20 greek-iso8859-7      0.04   "
      ]
     },
     "metadata": {},
     "output_type": "display_data"
    }
   ],
   "source": [
    "lang_sum <- aggregate(language_sum, by=list(lang=language_sum$language), mean)\n",
    "lang_sum[order(-lang_sum$rankmean),-2]\n",
    "# colnames(language_sum)"
   ]
  },
  {
   "cell_type": "code",
   "execution_count": null,
   "metadata": {},
   "outputs": [],
   "source": [
    "plot(data_clean$language)"
   ]
  },
  {
   "cell_type": "code",
   "execution_count": 33,
   "metadata": {},
   "outputs": [
    {
     "data": {
      "text/html": [
       "<table>\n",
       "<caption>A data.frame: 6 × 2</caption>\n",
       "<thead>\n",
       "\t<tr><th></th><th scope=col>Var1</th><th scope=col>Freq</th></tr>\n",
       "\t<tr><th></th><th scope=col>&lt;fct&gt;</th><th scope=col>&lt;int&gt;</th></tr>\n",
       "</thead>\n",
       "<tbody>\n",
       "\t<tr><th scope=row>13</th><td>english       </td><td>32057</td></tr>\n",
       "\t<tr><th scope=row>32</th><td>middle_frisian</td><td>17949</td></tr>\n",
       "\t<tr><th scope=row>19</th><td>german        </td><td>15635</td></tr>\n",
       "\t<tr><th scope=row>8</th><td>catalan       </td><td>12849</td></tr>\n",
       "\t<tr><th scope=row>43</th><td>scots         </td><td> 9969</td></tr>\n",
       "\t<tr><th scope=row>11</th><td>danish        </td><td> 5875</td></tr>\n",
       "</tbody>\n",
       "</table>\n"
      ],
      "text/latex": [
       "A data.frame: 6 × 2\n",
       "\\begin{tabular}{r|ll}\n",
       "  & Var1 & Freq\\\\\n",
       "  & <fct> & <int>\\\\\n",
       "\\hline\n",
       "\t13 & english        & 32057\\\\\n",
       "\t32 & middle\\_frisian & 17949\\\\\n",
       "\t19 & german         & 15635\\\\\n",
       "\t8 & catalan        & 12849\\\\\n",
       "\t43 & scots          &  9969\\\\\n",
       "\t11 & danish         &  5875\\\\\n",
       "\\end{tabular}\n"
      ],
      "text/markdown": [
       "\n",
       "A data.frame: 6 × 2\n",
       "\n",
       "| <!--/--> | Var1 &lt;fct&gt; | Freq &lt;int&gt; |\n",
       "|---|---|---|\n",
       "| 13 | english        | 32057 |\n",
       "| 32 | middle_frisian | 17949 |\n",
       "| 19 | german         | 15635 |\n",
       "| 8 | catalan        | 12849 |\n",
       "| 43 | scots          |  9969 |\n",
       "| 11 | danish         |  5875 |\n",
       "\n"
      ],
      "text/plain": [
       "   Var1           Freq \n",
       "13 english        32057\n",
       "32 middle_frisian 17949\n",
       "19 german         15635\n",
       "8  catalan        12849\n",
       "43 scots           9969\n",
       "11 danish          5875"
      ]
     },
     "metadata": {},
     "output_type": "display_data"
    }
   ],
   "source": [
    "language.df <- as.data.frame(table(data_clean$language))\n",
    "language.df <- language.df[order(-language.df$Freq),]\n",
    "head(language.df)"
   ]
  },
  {
   "cell_type": "code",
   "execution_count": 34,
   "metadata": {},
   "outputs": [
    {
     "name": "stdout",
     "output_type": "stream",
     "text": [
      "'data.frame':\t37706 obs. of  21 variables:\n",
      " $ acousticness    : num  9.84e-01 3.81e-01 9.96e-01 3.97e-03 7.90e-01 9.86e-01 1.75e-05 3.67e-01 9.96e-01 9.89e-01 ...\n",
      " $ artists         : chr  \"['Dick Haymes']\" \"['ST']\" \"['Maurice Chevalier']\" \"['Ron van der Kraan']\" ...\n",
      " $ danceability    : num  0.269 0.936 0.613 0.641 0.745 0.641 0.49 0.716 0.679 0.623 ...\n",
      " $ duration_ms     : int  181200 166113 178133 257667 261013 179160 454776 264240 175200 180467 ...\n",
      " $ energy          : num  0.255 0.372 0.274 0.292 0.791 0.169 0.922 0.836 0.182 0.339 ...\n",
      " $ explicit        : int  0 1 0 0 0 0 0 0 0 0 ...\n",
      " $ instrumentalness: num  2.63e-03 0.00 4.28e-01 1.21e-04 0.00 0.00 8.55e-01 5.81e-06 6.68e-01 0.00 ...\n",
      " $ key             : int  0 0 8 8 7 7 1 9 10 7 ...\n",
      " $ liveness        : num  0.178 0.083 0.172 0.356 0.102 0.0706 0.123 0.191 0.47 0.155 ...\n",
      " $ loudness        : num  -9.04 -11.63 -14.88 -22.97 -8.58 ...\n",
      " $ mode            : int  1 1 1 1 1 1 1 1 1 1 ...\n",
      " $ name            : chr  \"Serenade of the Bells\" \"Comme à l'époque\" \"Oh Maurice\" \"Dancehall Good To Me\" ...\n",
      " $ popularity      : int  0 0 0 1 0 0 0 0 0 0 ...\n",
      " $ release_date    : Date, format: \"1920-01-01\" \"1920-01-01\" ...\n",
      " $ speechiness     : num  0.0536 0.455 0.225 0.0571 0.0595 0.13 0.0771 0.0451 0.0693 0.121 ...\n",
      " $ tempo           : num  79.2 133 64.8 180 120.2 ...\n",
      " $ valence         : num  0.154 0.222 0.769 0.752 0.658 0.687 0.264 0.635 0.754 0.701 ...\n",
      " $ year            : int  1920 1920 1920 1920 1920 1920 1920 1920 1920 1920 ...\n",
      " $ log_popularity  : num  0 0 0 0.693 0 ...\n",
      " $ poprank         : Factor w/ 4 levels \"low_popularity\",..: 4 4 4 1 4 4 4 4 4 4 ...\n",
      " $ language        : Factor w/ 56 levels \"afrikaans\",\"albanian\",..: 13 17 17 13 13 17 17 13 13 17 ...\n"
     ]
    }
   ],
   "source": [
    "# colnames(data_clean)[which(names(data_clean) == \"langauge\")] <- \"language\"\n",
    "data_eng <- data_clean[(data_clean$language== 'english') | (data_clean$language== 'french'),]\n",
    "str(data_eng)"
   ]
  },
  {
   "cell_type": "code",
   "execution_count": 35,
   "metadata": {},
   "outputs": [
    {
     "data": {
      "text/html": [
       "<table>\n",
       "<caption>A data.frame: 6 × 21</caption>\n",
       "<thead>\n",
       "\t<tr><th></th><th scope=col>acousticness</th><th scope=col>artists</th><th scope=col>danceability</th><th scope=col>duration_ms</th><th scope=col>energy</th><th scope=col>explicit</th><th scope=col>instrumentalness</th><th scope=col>key</th><th scope=col>liveness</th><th scope=col>loudness</th><th scope=col>⋯</th><th scope=col>name</th><th scope=col>popularity</th><th scope=col>release_date</th><th scope=col>speechiness</th><th scope=col>tempo</th><th scope=col>valence</th><th scope=col>year</th><th scope=col>log_popularity</th><th scope=col>poprank</th><th scope=col>language</th></tr>\n",
       "\t<tr><th></th><th scope=col>&lt;dbl&gt;</th><th scope=col>&lt;chr&gt;</th><th scope=col>&lt;dbl&gt;</th><th scope=col>&lt;int&gt;</th><th scope=col>&lt;dbl&gt;</th><th scope=col>&lt;int&gt;</th><th scope=col>&lt;dbl&gt;</th><th scope=col>&lt;int&gt;</th><th scope=col>&lt;dbl&gt;</th><th scope=col>&lt;dbl&gt;</th><th scope=col>⋯</th><th scope=col>&lt;chr&gt;</th><th scope=col>&lt;int&gt;</th><th scope=col>&lt;date&gt;</th><th scope=col>&lt;dbl&gt;</th><th scope=col>&lt;dbl&gt;</th><th scope=col>&lt;dbl&gt;</th><th scope=col>&lt;int&gt;</th><th scope=col>&lt;dbl&gt;</th><th scope=col>&lt;fct&gt;</th><th scope=col>&lt;fct&gt;</th></tr>\n",
       "</thead>\n",
       "<tbody>\n",
       "\t<tr><th scope=row>28</th><td>0.98400</td><td>['Dick Haymes']           </td><td>0.269</td><td>181200</td><td>0.255</td><td>0</td><td>0.002630</td><td>0</td><td>0.1780</td><td> -9.041</td><td>⋯</td><td>Serenade of the Bells</td><td>0</td><td>1920-01-01</td><td>0.0536</td><td> 79.186</td><td>0.154</td><td>1920</td><td>0.0000000</td><td>zero_popularity</td><td>english</td></tr>\n",
       "\t<tr><th scope=row>29</th><td>0.38100</td><td>['ST']                    </td><td>0.936</td><td>166113</td><td>0.372</td><td>1</td><td>0.000000</td><td>0</td><td>0.0830</td><td>-11.634</td><td>⋯</td><td>Comme à l'époque     </td><td>0</td><td>1920-01-01</td><td>0.4550</td><td>133.047</td><td>0.222</td><td>1920</td><td>0.0000000</td><td>zero_popularity</td><td>french </td></tr>\n",
       "\t<tr><th scope=row>33</th><td>0.99600</td><td>['Maurice Chevalier']     </td><td>0.613</td><td>178133</td><td>0.274</td><td>0</td><td>0.428000</td><td>8</td><td>0.1720</td><td>-14.884</td><td>⋯</td><td>Oh Maurice           </td><td>0</td><td>1920-01-01</td><td>0.2250</td><td> 64.750</td><td>0.769</td><td>1920</td><td>0.0000000</td><td>zero_popularity</td><td>french </td></tr>\n",
       "\t<tr><th scope=row>36</th><td>0.00397</td><td>['Ron van der Kraan']     </td><td>0.641</td><td>257667</td><td>0.292</td><td>0</td><td>0.000121</td><td>8</td><td>0.3560</td><td>-22.969</td><td>⋯</td><td>Dancehall Good To Me </td><td>1</td><td>1920-01-03</td><td>0.0571</td><td>179.967</td><td>0.752</td><td>1920</td><td>0.6931472</td><td>low_popularity </td><td>english</td></tr>\n",
       "\t<tr><th scope=row>37</th><td>0.79000</td><td>[\"The Swingin' Bachelors\"]</td><td>0.745</td><td>261013</td><td>0.791</td><td>0</td><td>0.000000</td><td>7</td><td>0.1020</td><td> -8.584</td><td>⋯</td><td>Penticton Kitty      </td><td>0</td><td>1920-02-29</td><td>0.0595</td><td>120.169</td><td>0.658</td><td>1920</td><td>0.0000000</td><td>zero_popularity</td><td>english</td></tr>\n",
       "\t<tr><th scope=row>42</th><td>0.98600</td><td>['Esther Lekain']         </td><td>0.641</td><td>179160</td><td>0.169</td><td>0</td><td>0.000000</td><td>7</td><td>0.0706</td><td>-13.139</td><td>⋯</td><td>Ca N'vaut Pas L'amour</td><td>0</td><td>1920-01-01</td><td>0.1300</td><td>116.249</td><td>0.687</td><td>1920</td><td>0.0000000</td><td>zero_popularity</td><td>french </td></tr>\n",
       "</tbody>\n",
       "</table>\n"
      ],
      "text/latex": [
       "A data.frame: 6 × 21\n",
       "\\begin{tabular}{r|lllllllllllllllllllll}\n",
       "  & acousticness & artists & danceability & duration\\_ms & energy & explicit & instrumentalness & key & liveness & loudness & ⋯ & name & popularity & release\\_date & speechiness & tempo & valence & year & log\\_popularity & poprank & language\\\\\n",
       "  & <dbl> & <chr> & <dbl> & <int> & <dbl> & <int> & <dbl> & <int> & <dbl> & <dbl> & ⋯ & <chr> & <int> & <date> & <dbl> & <dbl> & <dbl> & <int> & <dbl> & <fct> & <fct>\\\\\n",
       "\\hline\n",
       "\t28 & 0.98400 & {[}'Dick Haymes'{]}            & 0.269 & 181200 & 0.255 & 0 & 0.002630 & 0 & 0.1780 &  -9.041 & ⋯ & Serenade of the Bells & 0 & 1920-01-01 & 0.0536 &  79.186 & 0.154 & 1920 & 0.0000000 & zero\\_popularity & english\\\\\n",
       "\t29 & 0.38100 & {[}'ST'{]}                     & 0.936 & 166113 & 0.372 & 1 & 0.000000 & 0 & 0.0830 & -11.634 & ⋯ & Comme à l'époque      & 0 & 1920-01-01 & 0.4550 & 133.047 & 0.222 & 1920 & 0.0000000 & zero\\_popularity & french \\\\\n",
       "\t33 & 0.99600 & {[}'Maurice Chevalier'{]}      & 0.613 & 178133 & 0.274 & 0 & 0.428000 & 8 & 0.1720 & -14.884 & ⋯ & Oh Maurice            & 0 & 1920-01-01 & 0.2250 &  64.750 & 0.769 & 1920 & 0.0000000 & zero\\_popularity & french \\\\\n",
       "\t36 & 0.00397 & {[}'Ron van der Kraan'{]}      & 0.641 & 257667 & 0.292 & 0 & 0.000121 & 8 & 0.3560 & -22.969 & ⋯ & Dancehall Good To Me  & 1 & 1920-01-03 & 0.0571 & 179.967 & 0.752 & 1920 & 0.6931472 & low\\_popularity  & english\\\\\n",
       "\t37 & 0.79000 & {[}\"The Swingin' Bachelors\"{]} & 0.745 & 261013 & 0.791 & 0 & 0.000000 & 7 & 0.1020 &  -8.584 & ⋯ & Penticton Kitty       & 0 & 1920-02-29 & 0.0595 & 120.169 & 0.658 & 1920 & 0.0000000 & zero\\_popularity & english\\\\\n",
       "\t42 & 0.98600 & {[}'Esther Lekain'{]}          & 0.641 & 179160 & 0.169 & 0 & 0.000000 & 7 & 0.0706 & -13.139 & ⋯ & Ca N'vaut Pas L'amour & 0 & 1920-01-01 & 0.1300 & 116.249 & 0.687 & 1920 & 0.0000000 & zero\\_popularity & french \\\\\n",
       "\\end{tabular}\n"
      ],
      "text/markdown": [
       "\n",
       "A data.frame: 6 × 21\n",
       "\n",
       "| <!--/--> | acousticness &lt;dbl&gt; | artists &lt;chr&gt; | danceability &lt;dbl&gt; | duration_ms &lt;int&gt; | energy &lt;dbl&gt; | explicit &lt;int&gt; | instrumentalness &lt;dbl&gt; | key &lt;int&gt; | liveness &lt;dbl&gt; | loudness &lt;dbl&gt; | ⋯ ⋯ | name &lt;chr&gt; | popularity &lt;int&gt; | release_date &lt;date&gt; | speechiness &lt;dbl&gt; | tempo &lt;dbl&gt; | valence &lt;dbl&gt; | year &lt;int&gt; | log_popularity &lt;dbl&gt; | poprank &lt;fct&gt; | language &lt;fct&gt; |\n",
       "|---|---|---|---|---|---|---|---|---|---|---|---|---|---|---|---|---|---|---|---|---|---|\n",
       "| 28 | 0.98400 | ['Dick Haymes']            | 0.269 | 181200 | 0.255 | 0 | 0.002630 | 0 | 0.1780 |  -9.041 | ⋯ | Serenade of the Bells | 0 | 1920-01-01 | 0.0536 |  79.186 | 0.154 | 1920 | 0.0000000 | zero_popularity | english |\n",
       "| 29 | 0.38100 | ['ST']                     | 0.936 | 166113 | 0.372 | 1 | 0.000000 | 0 | 0.0830 | -11.634 | ⋯ | Comme à l'époque      | 0 | 1920-01-01 | 0.4550 | 133.047 | 0.222 | 1920 | 0.0000000 | zero_popularity | french  |\n",
       "| 33 | 0.99600 | ['Maurice Chevalier']      | 0.613 | 178133 | 0.274 | 0 | 0.428000 | 8 | 0.1720 | -14.884 | ⋯ | Oh Maurice            | 0 | 1920-01-01 | 0.2250 |  64.750 | 0.769 | 1920 | 0.0000000 | zero_popularity | french  |\n",
       "| 36 | 0.00397 | ['Ron van der Kraan']      | 0.641 | 257667 | 0.292 | 0 | 0.000121 | 8 | 0.3560 | -22.969 | ⋯ | Dancehall Good To Me  | 1 | 1920-01-03 | 0.0571 | 179.967 | 0.752 | 1920 | 0.6931472 | low_popularity  | english |\n",
       "| 37 | 0.79000 | [\"The Swingin' Bachelors\"] | 0.745 | 261013 | 0.791 | 0 | 0.000000 | 7 | 0.1020 |  -8.584 | ⋯ | Penticton Kitty       | 0 | 1920-02-29 | 0.0595 | 120.169 | 0.658 | 1920 | 0.0000000 | zero_popularity | english |\n",
       "| 42 | 0.98600 | ['Esther Lekain']          | 0.641 | 179160 | 0.169 | 0 | 0.000000 | 7 | 0.0706 | -13.139 | ⋯ | Ca N'vaut Pas L'amour | 0 | 1920-01-01 | 0.1300 | 116.249 | 0.687 | 1920 | 0.0000000 | zero_popularity | french  |\n",
       "\n"
      ],
      "text/plain": [
       "   acousticness artists                    danceability duration_ms energy\n",
       "28 0.98400      ['Dick Haymes']            0.269        181200      0.255 \n",
       "29 0.38100      ['ST']                     0.936        166113      0.372 \n",
       "33 0.99600      ['Maurice Chevalier']      0.613        178133      0.274 \n",
       "36 0.00397      ['Ron van der Kraan']      0.641        257667      0.292 \n",
       "37 0.79000      [\"The Swingin' Bachelors\"] 0.745        261013      0.791 \n",
       "42 0.98600      ['Esther Lekain']          0.641        179160      0.169 \n",
       "   explicit instrumentalness key liveness loudness ⋯ name                 \n",
       "28 0        0.002630         0   0.1780    -9.041  ⋯ Serenade of the Bells\n",
       "29 1        0.000000         0   0.0830   -11.634  ⋯ Comme à l'époque     \n",
       "33 0        0.428000         8   0.1720   -14.884  ⋯ Oh Maurice           \n",
       "36 0        0.000121         8   0.3560   -22.969  ⋯ Dancehall Good To Me \n",
       "37 0        0.000000         7   0.1020    -8.584  ⋯ Penticton Kitty      \n",
       "42 0        0.000000         7   0.0706   -13.139  ⋯ Ca N'vaut Pas L'amour\n",
       "   popularity release_date speechiness tempo   valence year log_popularity\n",
       "28 0          1920-01-01   0.0536       79.186 0.154   1920 0.0000000     \n",
       "29 0          1920-01-01   0.4550      133.047 0.222   1920 0.0000000     \n",
       "33 0          1920-01-01   0.2250       64.750 0.769   1920 0.0000000     \n",
       "36 1          1920-01-03   0.0571      179.967 0.752   1920 0.6931472     \n",
       "37 0          1920-02-29   0.0595      120.169 0.658   1920 0.0000000     \n",
       "42 0          1920-01-01   0.1300      116.249 0.687   1920 0.0000000     \n",
       "   poprank         language\n",
       "28 zero_popularity english \n",
       "29 zero_popularity french  \n",
       "33 zero_popularity french  \n",
       "36 low_popularity  english \n",
       "37 zero_popularity english \n",
       "42 zero_popularity french  "
      ]
     },
     "metadata": {},
     "output_type": "display_data"
    }
   ],
   "source": [
    "head(data_eng)"
   ]
  },
  {
   "cell_type": "code",
   "execution_count": null,
   "metadata": {},
   "outputs": [],
   "source": [
    "# Change the color of the bars\n",
    "# ggplot(data_eng, aes(x = language), fill = mode) +\n",
    "#     geom_bar() +\n",
    "#     theme(\n",
    "#             plot.title = element_text(color=\"darkblue\", size=14, face=\"bold.italic\", hjust=0.5),\n",
    "#             axis.title.x = element_text(color=\"darkred\", size=14, face=\"bold\"),\n",
    "#             axis.title.y = element_text(color=\"#993333\", size=14, face=\"bold\"))"
   ]
  },
  {
   "cell_type": "code",
   "execution_count": 71,
   "metadata": {},
   "outputs": [],
   "source": [
    "# Create artists list with rating track count\n",
    "artists <- data_clean$artists\n",
    "nrow <- length(artists)\n",
    "artist.list <- c()\n",
    "artist.number <- c()\n",
    "for(i in 1:nrow) {\n",
    "    list.full <- artists[i]\n",
    "    list.split <- strsplit(list.full,split=',', fixed=TRUE)[[1]]\n",
    "    artist.onesong <- c()\n",
    "    for (j in 1:length(list.split)) {\n",
    "        value <- str_replace_all(list.split[j], \"[^[:alnum:]]\", \"\")    # Delete non-alphanumeric\n",
    "        list.split[j] = gsub(\"([a-z])([A-Z])\", \"\\\\1 \\\\2\", value)\n",
    "        artist.onesong <- c(artist.onesong, list.split[j])\n",
    "        }\n",
    "    artist.number <- c(artist.number, length(artist.onesong))\n",
    "    for (artist in artist.onesong) {\n",
    "            if (is.element(artist, artist.list)) {} else {\n",
    "        artist.list <- c(artist.list, artist)}\n",
    "                                }\n",
    "    }"
   ]
  },
  {
   "cell_type": "code",
   "execution_count": 72,
   "metadata": {},
   "outputs": [
    {
     "name": "stdout",
     "output_type": "stream",
     "text": [
      " chr [1:32634] \"Mamie Smith\" \"Screamin Jay Hawkins\" \"Oscar Velazquez\" ...\n",
      " int [1:174389] 1 1 1 1 1 1 1 1 1 1 ...\n"
     ]
    }
   ],
   "source": [
    "str(artist.list)\n",
    "str(artist.number)"
   ]
  },
  {
   "cell_type": "code",
   "execution_count": 102,
   "metadata": {},
   "outputs": [
    {
     "data": {
      "text/html": [
       "<table>\n",
       "<caption>A data.frame: 6 × 5</caption>\n",
       "<thead>\n",
       "\t<tr><th></th><th scope=col>artist.list</th><th scope=col>artist.rank_sum</th><th scope=col>artist.rank_mean</th><th scope=col>artist.trackcount</th><th scope=col>artist.trackrankedcount</th></tr>\n",
       "\t<tr><th></th><th scope=col>&lt;chr&gt;</th><th scope=col>&lt;dbl&gt;</th><th scope=col>&lt;dbl&gt;</th><th scope=col>&lt;dbl&gt;</th><th scope=col>&lt;dbl&gt;</th></tr>\n",
       "</thead>\n",
       "<tbody>\n",
       "\t<tr><th scope=row>1</th><td>Mamie Smith                </td><td>0</td><td>0</td><td>0</td><td>0</td></tr>\n",
       "\t<tr><th scope=row>2</th><td>Screamin Jay Hawkins       </td><td>0</td><td>0</td><td>0</td><td>0</td></tr>\n",
       "\t<tr><th scope=row>3</th><td>Oscar Velazquez            </td><td>0</td><td>0</td><td>0</td><td>0</td></tr>\n",
       "\t<tr><th scope=row>4</th><td>Mixe                       </td><td>0</td><td>0</td><td>0</td><td>0</td></tr>\n",
       "\t<tr><th scope=row>5</th><td>Mamie Smith Her Jazz Hounds</td><td>0</td><td>0</td><td>0</td><td>0</td></tr>\n",
       "\t<tr><th scope=row>6</th><td>Francisco Canaro           </td><td>0</td><td>0</td><td>0</td><td>0</td></tr>\n",
       "</tbody>\n",
       "</table>\n"
      ],
      "text/latex": [
       "A data.frame: 6 × 5\n",
       "\\begin{tabular}{r|lllll}\n",
       "  & artist.list & artist.rank\\_sum & artist.rank\\_mean & artist.trackcount & artist.trackrankedcount\\\\\n",
       "  & <chr> & <dbl> & <dbl> & <dbl> & <dbl>\\\\\n",
       "\\hline\n",
       "\t1 & Mamie Smith                 & 0 & 0 & 0 & 0\\\\\n",
       "\t2 & Screamin Jay Hawkins        & 0 & 0 & 0 & 0\\\\\n",
       "\t3 & Oscar Velazquez             & 0 & 0 & 0 & 0\\\\\n",
       "\t4 & Mixe                        & 0 & 0 & 0 & 0\\\\\n",
       "\t5 & Mamie Smith Her Jazz Hounds & 0 & 0 & 0 & 0\\\\\n",
       "\t6 & Francisco Canaro            & 0 & 0 & 0 & 0\\\\\n",
       "\\end{tabular}\n"
      ],
      "text/markdown": [
       "\n",
       "A data.frame: 6 × 5\n",
       "\n",
       "| <!--/--> | artist.list &lt;chr&gt; | artist.rank_sum &lt;dbl&gt; | artist.rank_mean &lt;dbl&gt; | artist.trackcount &lt;dbl&gt; | artist.trackrankedcount &lt;dbl&gt; |\n",
       "|---|---|---|---|---|---|\n",
       "| 1 | Mamie Smith                 | 0 | 0 | 0 | 0 |\n",
       "| 2 | Screamin Jay Hawkins        | 0 | 0 | 0 | 0 |\n",
       "| 3 | Oscar Velazquez             | 0 | 0 | 0 | 0 |\n",
       "| 4 | Mixe                        | 0 | 0 | 0 | 0 |\n",
       "| 5 | Mamie Smith Her Jazz Hounds | 0 | 0 | 0 | 0 |\n",
       "| 6 | Francisco Canaro            | 0 | 0 | 0 | 0 |\n",
       "\n"
      ],
      "text/plain": [
       "  artist.list                 artist.rank_sum artist.rank_mean\n",
       "1 Mamie Smith                 0               0               \n",
       "2 Screamin Jay Hawkins        0               0               \n",
       "3 Oscar Velazquez             0               0               \n",
       "4 Mixe                        0               0               \n",
       "5 Mamie Smith Her Jazz Hounds 0               0               \n",
       "6 Francisco Canaro            0               0               \n",
       "  artist.trackcount artist.trackrankedcount\n",
       "1 0                 0                      \n",
       "2 0                 0                      \n",
       "3 0                 0                      \n",
       "4 0                 0                      \n",
       "5 0                 0                      \n",
       "6 0                 0                      "
      ]
     },
     "metadata": {},
     "output_type": "display_data"
    }
   ],
   "source": [
    "artist.df <- as.data.frame(artist.list)\n",
    "artist.df$artist.rank_sum = 0\n",
    "artist.df$artist.rank_mean = 0\n",
    "artist.df$artist.trackcount = 0 \n",
    "artist.df$artist.trackrankedcount = 0 \n",
    "head(artist.df)"
   ]
  },
  {
   "cell_type": "code",
   "execution_count": 103,
   "metadata": {},
   "outputs": [],
   "source": [
    "popularity_rank <- data_clean$popularity\n",
    "for(i in 1:nrow) {\n",
    "    list.full <- artists[i]\n",
    "    list.split <- strsplit(list.full,split=',', fixed=TRUE)[[1]]\n",
    "    artist.onesong <- c()\n",
    "    for (j in 1:length(list.split)) {\n",
    "        value <- str_replace_all(list.split[j], \"[^[:alnum:]]\", \"\")    # Delete non-alphanumeric\n",
    "        list.split[j] = gsub(\"([a-z])([A-Z])\", \"\\\\1 \\\\2\", value)\n",
    "        artist.onesong <- c(artist.onesong, list.split[j])\n",
    "        }\n",
    "    rank = popularity_rank[i]\n",
    "    for (artist in artist.onesong) {\n",
    "            if (rank>0) {\n",
    "            artist.df[artist.df$artist.list==artist,]$artist.rank_sum <- artist.df[artist.df$artist.list==artist,]$artist.rank_sum + rank\n",
    "            artist.df[artist.df$artist.list==artist,]$artist.trackrankedcount <- artist.df[artist.df$artist.list==artist,]$artist.trackrankedcount + 1    \n",
    "            }\n",
    "            artist.df[artist.df$artist.list==artist,]$artist.trackcount <- artist.df[artist.df$artist.list==artist,]$artist.trackcount + 1\n",
    "    }\n",
    "}"
   ]
  },
  {
   "cell_type": "code",
   "execution_count": 365,
   "metadata": {},
   "outputs": [
    {
     "data": {
      "text/html": [
       "<table>\n",
       "<caption>A data.frame: 6 × 5</caption>\n",
       "<thead>\n",
       "\t<tr><th></th><th scope=col>artist.list</th><th scope=col>artist.rank_sum</th><th scope=col>artist.rank_mean</th><th scope=col>artist.trackcount</th><th scope=col>artist.trackrankedcount</th></tr>\n",
       "\t<tr><th></th><th scope=col>&lt;chr&gt;</th><th scope=col>&lt;dbl&gt;</th><th scope=col>&lt;dbl&gt;</th><th scope=col>&lt;dbl&gt;</th><th scope=col>&lt;dbl&gt;</th></tr>\n",
       "</thead>\n",
       "<tbody>\n",
       "\t<tr><th scope=row>19759</th><td>Camilo        </td><td>349</td><td>87.25</td><td> 6</td><td> 4</td></tr>\n",
       "\t<tr><th scope=row>10444</th><td>Myke Towers   </td><td>993</td><td>82.75</td><td>13</td><td>12</td></tr>\n",
       "\t<tr><th scope=row>10442</th><td>Manuel Turizo </td><td>164</td><td>82.00</td><td> 6</td><td> 2</td></tr>\n",
       "\t<tr><th scope=row>6184</th><td>Skepta        </td><td>245</td><td>81.67</td><td> 3</td><td> 3</td></tr>\n",
       "\t<tr><th scope=row>10443</th><td>Rauw Alejandro</td><td>816</td><td>81.60</td><td>14</td><td>10</td></tr>\n",
       "\t<tr><th scope=row>6153</th><td>ROSALÍA       </td><td>567</td><td>81.00</td><td> 8</td><td> 7</td></tr>\n",
       "</tbody>\n",
       "</table>\n"
      ],
      "text/latex": [
       "A data.frame: 6 × 5\n",
       "\\begin{tabular}{r|lllll}\n",
       "  & artist.list & artist.rank\\_sum & artist.rank\\_mean & artist.trackcount & artist.trackrankedcount\\\\\n",
       "  & <chr> & <dbl> & <dbl> & <dbl> & <dbl>\\\\\n",
       "\\hline\n",
       "\t19759 & Camilo         & 349 & 87.25 &  6 &  4\\\\\n",
       "\t10444 & Myke Towers    & 993 & 82.75 & 13 & 12\\\\\n",
       "\t10442 & Manuel Turizo  & 164 & 82.00 &  6 &  2\\\\\n",
       "\t6184 & Skepta         & 245 & 81.67 &  3 &  3\\\\\n",
       "\t10443 & Rauw Alejandro & 816 & 81.60 & 14 & 10\\\\\n",
       "\t6153 & ROSALÍA        & 567 & 81.00 &  8 &  7\\\\\n",
       "\\end{tabular}\n"
      ],
      "text/markdown": [
       "\n",
       "A data.frame: 6 × 5\n",
       "\n",
       "| <!--/--> | artist.list &lt;chr&gt; | artist.rank_sum &lt;dbl&gt; | artist.rank_mean &lt;dbl&gt; | artist.trackcount &lt;dbl&gt; | artist.trackrankedcount &lt;dbl&gt; |\n",
       "|---|---|---|---|---|---|\n",
       "| 19759 | Camilo         | 349 | 87.25 |  6 |  4 |\n",
       "| 10444 | Myke Towers    | 993 | 82.75 | 13 | 12 |\n",
       "| 10442 | Manuel Turizo  | 164 | 82.00 |  6 |  2 |\n",
       "| 6184 | Skepta         | 245 | 81.67 |  3 |  3 |\n",
       "| 10443 | Rauw Alejandro | 816 | 81.60 | 14 | 10 |\n",
       "| 6153 | ROSALÍA        | 567 | 81.00 |  8 |  7 |\n",
       "\n"
      ],
      "text/plain": [
       "      artist.list    artist.rank_sum artist.rank_mean artist.trackcount\n",
       "19759 Camilo         349             87.25             6               \n",
       "10444 Myke Towers    993             82.75            13               \n",
       "10442 Manuel Turizo  164             82.00             6               \n",
       "6184  Skepta         245             81.67             3               \n",
       "10443 Rauw Alejandro 816             81.60            14               \n",
       "6153  ROSALÍA        567             81.00             8               \n",
       "      artist.trackrankedcount\n",
       "19759  4                     \n",
       "10444 12                     \n",
       "10442  2                     \n",
       "6184   3                     \n",
       "10443 10                     \n",
       "6153   7                     "
      ]
     },
     "metadata": {},
     "output_type": "display_data"
    }
   ],
   "source": [
    "artist.df$artist.rank_mean = round(artist.df$artist.rank_sum/artist.df$artist.trackrankedcount,2)\n",
    "artist.df <- artist.df[order(-artist.df$artist.rank_mean),]\n",
    "head(artist.df[artist.df$artist.trackcount>2,])"
   ]
  },
  {
   "cell_type": "code",
   "execution_count": 367,
   "metadata": {},
   "outputs": [
    {
     "data": {
      "text/html": [
       "<table>\n",
       "<caption>A data.frame: 6 × 5</caption>\n",
       "<thead>\n",
       "\t<tr><th></th><th scope=col>artist.list</th><th scope=col>artist.rank_sum</th><th scope=col>artist.rank_mean</th><th scope=col>artist.trackcount</th><th scope=col>artist.trackrankedcount</th></tr>\n",
       "\t<tr><th></th><th scope=col>&lt;chr&gt;</th><th scope=col>&lt;dbl&gt;</th><th scope=col>&lt;dbl&gt;</th><th scope=col>&lt;dbl&gt;</th><th scope=col>&lt;dbl&gt;</th></tr>\n",
       "</thead>\n",
       "<tbody>\n",
       "\t<tr><th scope=row>6</th><td>Francisco Canaro        </td><td>  112</td><td> 2.11</td><td>2228</td><td> 53</td></tr>\n",
       "\t<tr><th scope=row>626</th><td>Tadeusz Dolega Mostowicz</td><td>    0</td><td>  NaN</td><td>1281</td><td>  0</td></tr>\n",
       "\t<tr><th scope=row>308</th><td>ЭрнестХемингуэй         </td><td>   42</td><td> 1.24</td><td>1175</td><td> 34</td></tr>\n",
       "\t<tr><th scope=row>428</th><td>ЭрихМарияРемарк         </td><td>    1</td><td> 1.00</td><td>1062</td><td>  1</td></tr>\n",
       "\t<tr><th scope=row>375</th><td>Frédéric Chopin         </td><td> 5421</td><td>12.58</td><td>1013</td><td>431</td></tr>\n",
       "\t<tr><th scope=row>218</th><td>Johann Sebastian Bach   </td><td>12600</td><td>19.84</td><td> 936</td><td>635</td></tr>\n",
       "</tbody>\n",
       "</table>\n"
      ],
      "text/latex": [
       "A data.frame: 6 × 5\n",
       "\\begin{tabular}{r|lllll}\n",
       "  & artist.list & artist.rank\\_sum & artist.rank\\_mean & artist.trackcount & artist.trackrankedcount\\\\\n",
       "  & <chr> & <dbl> & <dbl> & <dbl> & <dbl>\\\\\n",
       "\\hline\n",
       "\t6 & Francisco Canaro         &   112 &  2.11 & 2228 &  53\\\\\n",
       "\t626 & Tadeusz Dolega Mostowicz &     0 &   NaN & 1281 &   0\\\\\n",
       "\t308 & ЭрнестХемингуэй          &    42 &  1.24 & 1175 &  34\\\\\n",
       "\t428 & ЭрихМарияРемарк          &     1 &  1.00 & 1062 &   1\\\\\n",
       "\t375 & Frédéric Chopin          &  5421 & 12.58 & 1013 & 431\\\\\n",
       "\t218 & Johann Sebastian Bach    & 12600 & 19.84 &  936 & 635\\\\\n",
       "\\end{tabular}\n"
      ],
      "text/markdown": [
       "\n",
       "A data.frame: 6 × 5\n",
       "\n",
       "| <!--/--> | artist.list &lt;chr&gt; | artist.rank_sum &lt;dbl&gt; | artist.rank_mean &lt;dbl&gt; | artist.trackcount &lt;dbl&gt; | artist.trackrankedcount &lt;dbl&gt; |\n",
       "|---|---|---|---|---|---|\n",
       "| 6 | Francisco Canaro         |   112 |  2.11 | 2228 |  53 |\n",
       "| 626 | Tadeusz Dolega Mostowicz |     0 |   NaN | 1281 |   0 |\n",
       "| 308 | ЭрнестХемингуэй          |    42 |  1.24 | 1175 |  34 |\n",
       "| 428 | ЭрихМарияРемарк          |     1 |  1.00 | 1062 |   1 |\n",
       "| 375 | Frédéric Chopin          |  5421 | 12.58 | 1013 | 431 |\n",
       "| 218 | Johann Sebastian Bach    | 12600 | 19.84 |  936 | 635 |\n",
       "\n"
      ],
      "text/plain": [
       "    artist.list              artist.rank_sum artist.rank_mean artist.trackcount\n",
       "6   Francisco Canaro           112            2.11            2228             \n",
       "626 Tadeusz Dolega Mostowicz     0             NaN            1281             \n",
       "308 ЭрнестХемингуэй             42            1.24            1175             \n",
       "428 ЭрихМарияРемарк              1            1.00            1062             \n",
       "375 Frédéric Chopin           5421           12.58            1013             \n",
       "218 Johann Sebastian Bach    12600           19.84             936             \n",
       "    artist.trackrankedcount\n",
       "6    53                    \n",
       "626   0                    \n",
       "308  34                    \n",
       "428   1                    \n",
       "375 431                    \n",
       "218 635                    "
      ]
     },
     "metadata": {},
     "output_type": "display_data"
    }
   ],
   "source": [
    "artist.df <- artist.df[order(-artist.df$artist.trackcount),]\n",
    "head(artist.df)"
   ]
  },
  {
   "cell_type": "code",
   "execution_count": 153,
   "metadata": {},
   "outputs": [
    {
     "name": "stderr",
     "output_type": "stream",
     "text": [
      "`summarise()` ungrouping output (override with `.groups` argument)\n",
      "\n"
     ]
    }
   ],
   "source": [
    "artist.trackrankedcount.df <- artist.df %>%\n",
    "    group_by(artist.trackrankedcount) %>% summarise(n = n())"
   ]
  },
  {
   "cell_type": "code",
   "execution_count": 122,
   "metadata": {},
   "outputs": [
    {
     "data": {
      "text/plain": [
       " artist.list        artist.rank_sum artist.rank_mean artist.trackcount \n",
       " Length:32634       Min.   :    0   Min.   : 1.00    Min.   :   1.000  \n",
       " Class :character   1st Qu.:    0   1st Qu.:16.26    1st Qu.:   1.000  \n",
       " Mode  :character   Median :   36   Median :35.50    Median :   2.000  \n",
       "                    Mean   :  170   Mean   :33.94    Mean   :   7.222  \n",
       "                    3rd Qu.:   98   3rd Qu.:49.22    3rd Qu.:   4.000  \n",
       "                    Max.   :22115   Max.   :94.00    Max.   :2228.000  \n",
       "                                    NA's   :8744                       \n",
       " artist.trackrankedcount\n",
       " Min.   :  0.000        \n",
       " 1st Qu.:  0.000        \n",
       " Median :  1.000        \n",
       " Mean   :  5.253        \n",
       " 3rd Qu.:  3.000        \n",
       " Max.   :773.000        \n",
       "                        "
      ]
     },
     "metadata": {},
     "output_type": "display_data"
    }
   ],
   "source": [
    "summary(artist.df)"
   ]
  },
  {
   "cell_type": "code",
   "execution_count": 200,
   "metadata": {},
   "outputs": [],
   "source": [
    "artist.trackcount <- c()\n",
    "artist.ranksum <- c()\n",
    "artist.trackrankedcount <- c()\n",
    "artist.rankmean <- c()\n",
    "for(i in 1:nrow) {\n",
    "    list.full <- artists[i]\n",
    "    list.split <- strsplit(list.full,split=',', fixed=TRUE)[[1]]\n",
    "    artist.onesong <- c()\n",
    "    for (j in 1:length(list.split)) {\n",
    "        value <- str_replace_all(list.split[j], \"[^[:alnum:]]\", \"\")    # Delete non-alphanumeric\n",
    "        list.split[j] = gsub(\"([a-z])([A-Z])\", \"\\\\1 \\\\2\", value)\n",
    "        artist.onesong <- c(artist.onesong, list.split[j])\n",
    "        }\n",
    "    rank_sum = 0\n",
    "    trackrankedcount = 0\n",
    "    trackcount = 0\n",
    "    for (artist in artist.onesong) {\n",
    "           \n",
    "            rank_sum = rank_sum + artist.df[artist.df$artist.list==artist,]$artist.rank_sum \n",
    "            trackrankedcount = trackrankedcount + artist.df[artist.df$artist.list==artist,]$artist.trackrankedcount     \n",
    "            trackcount = trackcount + artist.df[artist.df$artist.list==artist,]$artist.trackcount\n",
    "    }\n",
    "    artist.ranksum <- c(artist.ranksum, rank_sum)\n",
    "    artist.trackcount <- c(artist.trackcount, trackcount)\n",
    "    artist.trackrankedcount <- c(artist.trackrankedcount, trackrankedcount)\n",
    "    \n",
    "}"
   ]
  },
  {
   "cell_type": "code",
   "execution_count": 276,
   "metadata": {},
   "outputs": [],
   "source": [
    "# Create copy of clean data and add the language indicator\n",
    "updated_data <- data_clean[,-2]\n",
    "# Get levels and add \"None\"\n",
    "levels <- levels(updated_data$language)\n",
    "levels[length(levels) + 1] <- \"None\"\n",
    "\n",
    "# refactor Species to include \"None\" as a factor level\n",
    "# and replace NA with \"None\"\n",
    "updated_data$language <- factor(updated_data$language, levels = levels)\n",
    "updated_data$language[is.na(updated_data$language)] <- \"None\""
   ]
  },
  {
   "cell_type": "code",
   "execution_count": 333,
   "metadata": {},
   "outputs": [
    {
     "name": "stdout",
     "output_type": "stream",
     "text": [
      "'data.frame':\t174389 obs. of  31 variables:\n",
      " $ acousticness           : num  0.991 0.643 0.993 0.000173 0.295 0.996 0.992 0.996 0.996 0.00682 ...\n",
      " $ danceability           : num  0.598 0.852 0.647 0.73 0.704 0.424 0.782 0.474 0.469 0.571 ...\n",
      " $ duration_ms            : int  168333 150200 163827 422087 165224 198627 195200 186173 146840 476304 ...\n",
      " $ energy                 : num  0.224 0.517 0.186 0.798 0.707 0.245 0.0573 0.239 0.238 0.753 ...\n",
      " $ explicit               : int  0 0 0 0 1 0 0 0 0 0 ...\n",
      " $ instrumentalness       : num  5.22e-04 2.64e-02 1.76e-05 8.01e-01 2.46e-04 7.99e-01 1.61e-06 1.86e-01 9.60e-01 8.73e-01 ...\n",
      " $ key                    : int  5 5 0 2 10 5 5 9 8 8 ...\n",
      " $ liveness               : num  0.379 0.0809 0.519 0.128 0.402 0.235 0.176 0.195 0.149 0.092 ...\n",
      " $ loudness               : num  -12.63 -7.26 -12.1 -7.31 -6.04 ...\n",
      " $ mode                   : int  0 0 1 1 0 1 1 1 1 1 ...\n",
      " $ name                   : Factor w/ 137013 levels \"________\",\"-\",..: 60708 51420 42793 120166 130020 25120 30949 8922 62596 16021 ...\n",
      " $ popularity             : int  12 7 4 17 2 9 5 0 0 0 ...\n",
      " $ release_date           : Date, format: \"1920-01-01\" \"1920-01-05\" ...\n",
      " $ speechiness            : num  0.0936 0.0534 0.174 0.0425 0.0768 0.0397 0.0592 0.0289 0.0741 0.0446 ...\n",
      " $ tempo                  : num  150 86.9 97.6 128 122.1 ...\n",
      " $ valence                : num  0.634 0.95 0.689 0.0422 0.299 0.477 0.487 0.366 0.621 0.119 ...\n",
      " $ year                   : int  1920 1920 1920 1920 1920 1920 1920 1920 1920 1920 ...\n",
      " $ log_popularity         : num  2.56 2.08 1.61 2.89 1.1 ...\n",
      " $ poprank                : Factor w/ 4 levels \"low_popularity\",..: 1 1 1 1 1 1 1 4 4 4 ...\n",
      " $ language               : Factor w/ 57 levels \"afrikaans\",\"albanian\",..: 24 24 53 36 11 8 32 24 50 14 ...\n",
      " $ language.english       : num  0 0 0 0 0 0 0 0 0 0 ...\n",
      " $ language.catalan       : num  0 0 0 0 0 1 0 0 0 0 ...\n",
      " $ language.german        : num  0 0 0 0 0 0 0 0 0 0 ...\n",
      " $ language.frisian       : num  0 0 0 0 0 0 0 0 0 0 ...\n",
      " $ language.welsh         : num  0 0 0 0 0 0 0 0 0 0 ...\n",
      " $ artist.number          : int  1 1 1 1 1 1 1 1 1 1 ...\n",
      " $ artist.rank_sum        : num  28 311 28 33 2 10 28 10 112 0 ...\n",
      " $ artist.trackcount      : num  9 16 9 3 1 ...\n",
      " $ artist.trackrankedcount: num  7 16 7 3 1 2 7 2 53 0 ...\n",
      " $ artist.rank_mean       : num  4 19.4 4 11 2 ...\n",
      " $ radio.hit              : num  0 0 0 0 0 0 0 0 0 0 ...\n"
     ]
    }
   ],
   "source": [
    "# Updated dataset with extracted new features\n",
    "updated_data$name <- as.factor(updated_data$name)\n",
    "updated_data$language.english <- ifelse(updated_data$language =='english', 1,0)\n",
    "updated_data$language.catalan <- ifelse(updated_data$language =='catalan', 1,0)\n",
    "updated_data$language.german <- ifelse(updated_data$language =='german', 1,0)\n",
    "updated_data$language.frisian <- ifelse(updated_data$language =='frisian', 1,0)\n",
    "updated_data$language.welsh <- ifelse(updated_data$language =='welsh', 1,0)\n",
    "updated_data$artist.number <- artist.number\n",
    "updated_data$artist.rank_sum <- artist.ranksum\n",
    "updated_data$artist.trackcount <- artist.trackcount\n",
    "updated_data$artist.trackrankedcount <- artist.trackrankedcount\n",
    "updated_data$artist.rank_mean = round(updated_data$artist.rank_sum/updated_data$artist.trackrankedcount,2)\n",
    "updated_data$artist.rank_mean[is.na(updated_data$artist.rank_mean)] = 0\n",
    "updated_data$radio.hit <- ifelse(updated_data$popularity >= 85, 1,0)\n",
    "str(updated_data)"
   ]
  },
  {
   "cell_type": "code",
   "execution_count": 334,
   "metadata": {},
   "outputs": [
    {
     "data": {
      "text/plain": [
       "  acousticness     danceability     duration_ms          energy      \n",
       " Min.   :0.0000   Min.   :0.0000   Min.   :   4937   Min.   :0.0000  \n",
       " 1st Qu.:0.0877   1st Qu.:0.4140   1st Qu.: 166133   1st Qu.:0.2490  \n",
       " Median :0.5170   Median :0.5480   Median : 205787   Median :0.4650  \n",
       " Mean   :0.4992   Mean   :0.5368   Mean   : 232810   Mean   :0.4827  \n",
       " 3rd Qu.:0.8950   3rd Qu.:0.6690   3rd Qu.: 265720   3rd Qu.:0.7110  \n",
       " Max.   :0.9960   Max.   :0.9880   Max.   :5338302   Max.   :1.0000  \n",
       "                                                                     \n",
       "    explicit       instrumentalness        key            liveness     \n",
       " Min.   :0.00000   Min.   :0.000000   Min.   : 0.000   Min.   :0.0000  \n",
       " 1st Qu.:0.00000   1st Qu.:0.000000   1st Qu.: 2.000   1st Qu.:0.0992  \n",
       " Median :0.00000   Median :0.000524   Median : 5.000   Median :0.1380  \n",
       " Mean   :0.06814   Mean   :0.197252   Mean   : 5.205   Mean   :0.2111  \n",
       " 3rd Qu.:0.00000   3rd Qu.:0.252000   3rd Qu.: 8.000   3rd Qu.:0.2700  \n",
       " Max.   :1.00000   Max.   :1.000000   Max.   :11.000   Max.   :1.0000  \n",
       "                                                                       \n",
       "    loudness            mode                       name          popularity    \n",
       " Min.   :-60.000   Min.   :0.0000   White Christmas  :   103   Min.   :  0.00  \n",
       " 1st Qu.:-14.908   1st Qu.:0.0000   Winter Wonderland:    88   1st Qu.:  1.00  \n",
       " Median :-10.836   Median :1.0000   Silent Night     :    81   Median : 25.00  \n",
       " Mean   :-11.751   Mean   :0.7024   Jingle Bells     :    71   Mean   : 25.69  \n",
       " 3rd Qu.: -7.499   3rd Qu.:1.0000   2000 Years       :    70   3rd Qu.: 42.00  \n",
       " Max.   :  3.855   Max.   :1.0000   Happy New Year   :    57   Max.   :100.00  \n",
       "                                    (Other)          :173919                   \n",
       "  release_date         speechiness         tempo           valence      \n",
       " Min.   :1920-01-01   Min.   :0.0000   Min.   :  0.00   Min.   :0.0000  \n",
       " 1st Qu.:1955-06-06   1st Qu.:0.0352   1st Qu.: 93.93   1st Qu.:0.3110  \n",
       " Median :1977-09-13   Median :0.0455   Median :115.82   Median :0.5360  \n",
       " Mean   :1977-05-11   Mean   :0.1057   Mean   :117.01   Mean   :0.5245  \n",
       " 3rd Qu.:1999-02-23   3rd Qu.:0.0763   3rd Qu.:135.01   3rd Qu.:0.7430  \n",
       " Max.   :2021-01-23   Max.   :0.9710   Max.   :243.51   Max.   :1.0000  \n",
       "                                                                        \n",
       "      year      log_popularity              poprank                language    \n",
       " Min.   :1920   Min.   :0.0000   low_popularity :88325   english       :32057  \n",
       " 1st Qu.:1955   1st Qu.:0.6931   popular        :40932   middle_frisian:17949  \n",
       " Median :1977   Median :3.2581   very popular   : 4227   german        :15635  \n",
       " Mean   :1977   Mean   :2.5234   zero_popularity:40905   catalan       :12849  \n",
       " 3rd Qu.:1999   3rd Qu.:3.7612                           scots         : 9969  \n",
       " Max.   :2021   Max.   :4.6151                           danish        : 5875  \n",
       "                                                         (Other)       :80055  \n",
       " language.english language.catalan  language.german   language.frisian \n",
       " Min.   :0.0000   Min.   :0.00000   Min.   :0.00000   Min.   :0.00000  \n",
       " 1st Qu.:0.0000   1st Qu.:0.00000   1st Qu.:0.00000   1st Qu.:0.00000  \n",
       " Median :0.0000   Median :0.00000   Median :0.00000   Median :0.00000  \n",
       " Mean   :0.1838   Mean   :0.07368   Mean   :0.08966   Mean   :0.02087  \n",
       " 3rd Qu.:0.0000   3rd Qu.:0.00000   3rd Qu.:0.00000   3rd Qu.:0.00000  \n",
       " Max.   :1.0000   Max.   :1.00000   Max.   :1.00000   Max.   :1.00000  \n",
       "                                                                       \n",
       " language.welsh    artist.number    artist.rank_sum artist.trackcount\n",
       " Min.   :0.00000   Min.   : 1.000   Min.   :    0   Min.   :   1.0   \n",
       " 1st Qu.:0.00000   1st Qu.: 1.000   1st Qu.:  112   1st Qu.:  12.0   \n",
       " Median :0.00000   Median : 1.000   Median :  872   Median :  46.0   \n",
       " Mean   :0.01048   Mean   : 1.351   Mean   : 2513   Mean   : 192.6   \n",
       " 3rd Qu.:0.00000   3rd Qu.: 1.000   3rd Qu.: 3186   3rd Qu.: 160.0   \n",
       " Max.   :1.00000   Max.   :28.000   Max.   :45676   Max.   :2710.0   \n",
       "                                                                     \n",
       " artist.trackrankedcount artist.rank_mean   radio.hit        \n",
       " Min.   :   0.00         Min.   : 0.00    Min.   :0.0000000  \n",
       " 1st Qu.:   6.00         1st Qu.:10.59    1st Qu.:0.0000000  \n",
       " Median :  33.00         Median :28.64    Median :0.0000000  \n",
       " Mean   :  96.95         Mean   :27.00    Mean   :0.0009462  \n",
       " 3rd Qu.: 106.00         3rd Qu.:39.76    3rd Qu.:0.0000000  \n",
       " Max.   :1488.00         Max.   :94.00    Max.   :1.0000000  \n",
       "                                                             "
      ]
     },
     "metadata": {},
     "output_type": "display_data"
    }
   ],
   "source": [
    "summary(updated_data)"
   ]
  },
  {
   "cell_type": "markdown",
   "metadata": {},
   "source": [
    "#### Radio Hits Analysis"
   ]
  },
  {
   "cell_type": "code",
   "execution_count": 335,
   "metadata": {},
   "outputs": [
    {
     "data": {
      "text/plain": [
       "\n",
       "     0      1 \n",
       "174224    165 "
      ]
     },
     "metadata": {},
     "output_type": "display_data"
    }
   ],
   "source": [
    "table(updated_data$radio.hit)"
   ]
  },
  {
   "cell_type": "code",
   "execution_count": 351,
   "metadata": {},
   "outputs": [],
   "source": [
    "radiohit_data <- updated_data[updated_data$radio.hit == 1,]"
   ]
  },
  {
   "cell_type": "code",
   "execution_count": 352,
   "metadata": {},
   "outputs": [
    {
     "data": {
      "text/html": [
       "<style>\n",
       ".list-inline {list-style: none; margin:0; padding: 0}\n",
       ".list-inline>li {display: inline-block}\n",
       ".list-inline>li:not(:last-child)::after {content: \"\\00b7\"; padding: 0 .5ex}\n",
       "</style>\n",
       "<ol class=list-inline><li>'acousticness'</li><li>'danceability'</li><li>'duration_ms'</li><li>'energy'</li><li>'explicit'</li><li>'instrumentalness'</li><li>'key'</li><li>'liveness'</li><li>'loudness'</li><li>'mode'</li><li>'name'</li><li>'popularity'</li><li>'release_date'</li><li>'speechiness'</li><li>'tempo'</li><li>'valence'</li><li>'year'</li><li>'log_popularity'</li><li>'poprank'</li><li>'language'</li><li>'language.english'</li><li>'language.catalan'</li><li>'language.german'</li><li>'language.frisian'</li><li>'language.welsh'</li><li>'artist.number'</li><li>'artist.rank_sum'</li><li>'artist.trackcount'</li><li>'artist.trackrankedcount'</li><li>'artist.rank_mean'</li><li>'radio.hit'</li></ol>\n"
      ],
      "text/latex": [
       "\\begin{enumerate*}\n",
       "\\item 'acousticness'\n",
       "\\item 'danceability'\n",
       "\\item 'duration\\_ms'\n",
       "\\item 'energy'\n",
       "\\item 'explicit'\n",
       "\\item 'instrumentalness'\n",
       "\\item 'key'\n",
       "\\item 'liveness'\n",
       "\\item 'loudness'\n",
       "\\item 'mode'\n",
       "\\item 'name'\n",
       "\\item 'popularity'\n",
       "\\item 'release\\_date'\n",
       "\\item 'speechiness'\n",
       "\\item 'tempo'\n",
       "\\item 'valence'\n",
       "\\item 'year'\n",
       "\\item 'log\\_popularity'\n",
       "\\item 'poprank'\n",
       "\\item 'language'\n",
       "\\item 'language.english'\n",
       "\\item 'language.catalan'\n",
       "\\item 'language.german'\n",
       "\\item 'language.frisian'\n",
       "\\item 'language.welsh'\n",
       "\\item 'artist.number'\n",
       "\\item 'artist.rank\\_sum'\n",
       "\\item 'artist.trackcount'\n",
       "\\item 'artist.trackrankedcount'\n",
       "\\item 'artist.rank\\_mean'\n",
       "\\item 'radio.hit'\n",
       "\\end{enumerate*}\n"
      ],
      "text/markdown": [
       "1. 'acousticness'\n",
       "2. 'danceability'\n",
       "3. 'duration_ms'\n",
       "4. 'energy'\n",
       "5. 'explicit'\n",
       "6. 'instrumentalness'\n",
       "7. 'key'\n",
       "8. 'liveness'\n",
       "9. 'loudness'\n",
       "10. 'mode'\n",
       "11. 'name'\n",
       "12. 'popularity'\n",
       "13. 'release_date'\n",
       "14. 'speechiness'\n",
       "15. 'tempo'\n",
       "16. 'valence'\n",
       "17. 'year'\n",
       "18. 'log_popularity'\n",
       "19. 'poprank'\n",
       "20. 'language'\n",
       "21. 'language.english'\n",
       "22. 'language.catalan'\n",
       "23. 'language.german'\n",
       "24. 'language.frisian'\n",
       "25. 'language.welsh'\n",
       "26. 'artist.number'\n",
       "27. 'artist.rank_sum'\n",
       "28. 'artist.trackcount'\n",
       "29. 'artist.trackrankedcount'\n",
       "30. 'artist.rank_mean'\n",
       "31. 'radio.hit'\n",
       "\n",
       "\n"
      ],
      "text/plain": [
       " [1] \"acousticness\"            \"danceability\"           \n",
       " [3] \"duration_ms\"             \"energy\"                 \n",
       " [5] \"explicit\"                \"instrumentalness\"       \n",
       " [7] \"key\"                     \"liveness\"               \n",
       " [9] \"loudness\"                \"mode\"                   \n",
       "[11] \"name\"                    \"popularity\"             \n",
       "[13] \"release_date\"            \"speechiness\"            \n",
       "[15] \"tempo\"                   \"valence\"                \n",
       "[17] \"year\"                    \"log_popularity\"         \n",
       "[19] \"poprank\"                 \"language\"               \n",
       "[21] \"language.english\"        \"language.catalan\"       \n",
       "[23] \"language.german\"         \"language.frisian\"       \n",
       "[25] \"language.welsh\"          \"artist.number\"          \n",
       "[27] \"artist.rank_sum\"         \"artist.trackcount\"      \n",
       "[29] \"artist.trackrankedcount\" \"artist.rank_mean\"       \n",
       "[31] \"radio.hit\"              "
      ]
     },
     "metadata": {},
     "output_type": "display_data"
    }
   ],
   "source": [
    "colnames(radiohit_data)"
   ]
  },
  {
   "cell_type": "code",
   "execution_count": 360,
   "metadata": {},
   "outputs": [
    {
     "data": {
      "text/html": [
       "<table>\n",
       "<caption>A data.frame: 5 × 9</caption>\n",
       "<thead>\n",
       "\t<tr><th></th><th scope=col>name</th><th scope=col>popularity</th><th scope=col>year</th><th scope=col>danceability</th><th scope=col>liveness</th><th scope=col>energy</th><th scope=col>artist.number</th><th scope=col>artist.trackcount</th><th scope=col>artist.trackrankedcount</th></tr>\n",
       "\t<tr><th></th><th scope=col>&lt;fct&gt;</th><th scope=col>&lt;int&gt;</th><th scope=col>&lt;int&gt;</th><th scope=col>&lt;dbl&gt;</th><th scope=col>&lt;dbl&gt;</th><th scope=col>&lt;dbl&gt;</th><th scope=col>&lt;int&gt;</th><th scope=col>&lt;dbl&gt;</th><th scope=col>&lt;dbl&gt;</th></tr>\n",
       "</thead>\n",
       "<tbody>\n",
       "\t<tr><th scope=row>14663</th><td>All I Want for Christmas Is You         </td><td>90</td><td>1994</td><td>0.336</td><td>0.0708</td><td>0.627</td><td>1</td><td>132</td><td>131</td></tr>\n",
       "\t<tr><th scope=row>8663</th><td>Rockin' Around The Christmas Tree       </td><td>87</td><td>1964</td><td>0.589</td><td>0.5050</td><td>0.472</td><td>1</td><td> 72</td><td> 72</td></tr>\n",
       "\t<tr><th scope=row>11263</th><td>Dreams - 2004 Remaster                  </td><td>86</td><td>1977</td><td>0.828</td><td>0.1280</td><td>0.492</td><td>1</td><td>451</td><td>451</td></tr>\n",
       "\t<tr><th scope=row>7263</th><td>Jingle Bell Rock                        </td><td>85</td><td>1957</td><td>0.754</td><td>0.0652</td><td>0.424</td><td>1</td><td> 12</td><td> 12</td></tr>\n",
       "\t<tr><th scope=row>8463</th><td>It's the Most Wonderful Time of the Year</td><td>85</td><td>1963</td><td>0.240</td><td>0.1170</td><td>0.598</td><td>1</td><td>118</td><td>118</td></tr>\n",
       "</tbody>\n",
       "</table>\n"
      ],
      "text/latex": [
       "A data.frame: 5 × 9\n",
       "\\begin{tabular}{r|lllllllll}\n",
       "  & name & popularity & year & danceability & liveness & energy & artist.number & artist.trackcount & artist.trackrankedcount\\\\\n",
       "  & <fct> & <int> & <int> & <dbl> & <dbl> & <dbl> & <int> & <dbl> & <dbl>\\\\\n",
       "\\hline\n",
       "\t14663 & All I Want for Christmas Is You          & 90 & 1994 & 0.336 & 0.0708 & 0.627 & 1 & 132 & 131\\\\\n",
       "\t8663 & Rockin' Around The Christmas Tree        & 87 & 1964 & 0.589 & 0.5050 & 0.472 & 1 &  72 &  72\\\\\n",
       "\t11263 & Dreams - 2004 Remaster                   & 86 & 1977 & 0.828 & 0.1280 & 0.492 & 1 & 451 & 451\\\\\n",
       "\t7263 & Jingle Bell Rock                         & 85 & 1957 & 0.754 & 0.0652 & 0.424 & 1 &  12 &  12\\\\\n",
       "\t8463 & It's the Most Wonderful Time of the Year & 85 & 1963 & 0.240 & 0.1170 & 0.598 & 1 & 118 & 118\\\\\n",
       "\\end{tabular}\n"
      ],
      "text/markdown": [
       "\n",
       "A data.frame: 5 × 9\n",
       "\n",
       "| <!--/--> | name &lt;fct&gt; | popularity &lt;int&gt; | year &lt;int&gt; | danceability &lt;dbl&gt; | liveness &lt;dbl&gt; | energy &lt;dbl&gt; | artist.number &lt;int&gt; | artist.trackcount &lt;dbl&gt; | artist.trackrankedcount &lt;dbl&gt; |\n",
       "|---|---|---|---|---|---|---|---|---|---|\n",
       "| 14663 | All I Want for Christmas Is You          | 90 | 1994 | 0.336 | 0.0708 | 0.627 | 1 | 132 | 131 |\n",
       "| 8663 | Rockin' Around The Christmas Tree        | 87 | 1964 | 0.589 | 0.5050 | 0.472 | 1 |  72 |  72 |\n",
       "| 11263 | Dreams - 2004 Remaster                   | 86 | 1977 | 0.828 | 0.1280 | 0.492 | 1 | 451 | 451 |\n",
       "| 7263 | Jingle Bell Rock                         | 85 | 1957 | 0.754 | 0.0652 | 0.424 | 1 |  12 |  12 |\n",
       "| 8463 | It's the Most Wonderful Time of the Year | 85 | 1963 | 0.240 | 0.1170 | 0.598 | 1 | 118 | 118 |\n",
       "\n"
      ],
      "text/plain": [
       "      name                                     popularity year danceability\n",
       "14663 All I Want for Christmas Is You          90         1994 0.336       \n",
       "8663  Rockin' Around The Christmas Tree        87         1964 0.589       \n",
       "11263 Dreams - 2004 Remaster                   86         1977 0.828       \n",
       "7263  Jingle Bell Rock                         85         1957 0.754       \n",
       "8463  It's the Most Wonderful Time of the Year 85         1963 0.240       \n",
       "      liveness energy artist.number artist.trackcount artist.trackrankedcount\n",
       "14663 0.0708   0.627  1             132               131                    \n",
       "8663  0.5050   0.472  1              72                72                    \n",
       "11263 0.1280   0.492  1             451               451                    \n",
       "7263  0.0652   0.424  1              12                12                    \n",
       "8463  0.1170   0.598  1             118               118                    "
      ]
     },
     "metadata": {},
     "output_type": "display_data"
    }
   ],
   "source": [
    "radiohit_data_subset0 <- radiohit_data[radiohit_data$year<2000,]\n",
    "radiohit_data_subset0 <- radiohit_data_subset0[,radiohit_columns]\n",
    "radiohit_data_subset0[order(-radiohit_data_subset0$popularity),] "
   ]
  },
  {
   "cell_type": "code",
   "execution_count": 357,
   "metadata": {},
   "outputs": [
    {
     "data": {
      "text/html": [
       "<table>\n",
       "<caption>A data.frame: 165 × 9</caption>\n",
       "<thead>\n",
       "\t<tr><th></th><th scope=col>name</th><th scope=col>popularity</th><th scope=col>year</th><th scope=col>danceability</th><th scope=col>liveness</th><th scope=col>energy</th><th scope=col>artist.number</th><th scope=col>artist.trackcount</th><th scope=col>artist.trackrankedcount</th></tr>\n",
       "\t<tr><th></th><th scope=col>&lt;fct&gt;</th><th scope=col>&lt;int&gt;</th><th scope=col>&lt;int&gt;</th><th scope=col>&lt;dbl&gt;</th><th scope=col>&lt;dbl&gt;</th><th scope=col>&lt;dbl&gt;</th><th scope=col>&lt;int&gt;</th><th scope=col>&lt;dbl&gt;</th><th scope=col>&lt;dbl&gt;</th></tr>\n",
       "</thead>\n",
       "<tbody>\n",
       "\t<tr><th scope=row>20063</th><td>drivers license                        </td><td>100</td><td>2021</td><td>0.585</td><td>0.1050</td><td>0.436</td><td>1</td><td>  5</td><td>  5</td></tr>\n",
       "\t<tr><th scope=row>19863</th><td>Mood (feat. iann dior)                 </td><td> 96</td><td>2020</td><td>0.700</td><td>0.2720</td><td>0.722</td><td>2</td><td> 22</td><td> 22</td></tr>\n",
       "\t<tr><th scope=row>19867</th><td>positions                              </td><td> 96</td><td>2020</td><td>0.737</td><td>0.0931</td><td>0.802</td><td>1</td><td> 95</td><td> 95</td></tr>\n",
       "\t<tr><th scope=row>19887</th><td>DÁKITI                                 </td><td> 95</td><td>2020</td><td>0.731</td><td>0.1130</td><td>0.573</td><td>2</td><td>128</td><td> 86</td></tr>\n",
       "\t<tr><th scope=row>19977</th><td>BICHOTA                                </td><td> 95</td><td>2020</td><td>0.863</td><td>0.1030</td><td>0.666</td><td>1</td><td> 77</td><td> 11</td></tr>\n",
       "\t<tr><th scope=row>19869</th><td>34+35                                  </td><td> 94</td><td>2020</td><td>0.830</td><td>0.2480</td><td>0.585</td><td>1</td><td> 95</td><td> 95</td></tr>\n",
       "\t<tr><th scope=row>19871</th><td>Whoopty                                </td><td> 94</td><td>2020</td><td>0.711</td><td>0.1500</td><td>0.598</td><td>1</td><td>  1</td><td>  1</td></tr>\n",
       "\t<tr><th scope=row>19873</th><td>WITHOUT YOU                            </td><td> 94</td><td>2020</td><td>0.662</td><td>0.1340</td><td>0.413</td><td>1</td><td> 23</td><td> 23</td></tr>\n",
       "\t<tr><th scope=row>19877</th><td>Therefore I Am                         </td><td> 94</td><td>2020</td><td>0.889</td><td>0.0550</td><td>0.340</td><td>1</td><td> 37</td><td> 37</td></tr>\n",
       "\t<tr><th scope=row>19929</th><td>LA NOCHE DE ANOCHE                     </td><td> 94</td><td>2020</td><td>0.856</td><td>0.0866</td><td>0.618</td><td>2</td><td>109</td><td> 86</td></tr>\n",
       "\t<tr><th scope=row>19879</th><td>What You Know Bout Love                </td><td> 93</td><td>2020</td><td>0.709</td><td>0.1330</td><td>0.548</td><td>1</td><td> 23</td><td> 23</td></tr>\n",
       "\t<tr><th scope=row>19901</th><td>you broke me first                     </td><td> 93</td><td>2020</td><td>0.642</td><td>0.0906</td><td>0.374</td><td>1</td><td>  7</td><td>  7</td></tr>\n",
       "\t<tr><th scope=row>19881</th><td>WAP (feat. Megan Thee Stallion)        </td><td> 92</td><td>2020</td><td>0.935</td><td>0.0824</td><td>0.454</td><td>2</td><td> 51</td><td> 51</td></tr>\n",
       "\t<tr><th scope=row>19885</th><td>HOLIDAY                                </td><td> 92</td><td>2020</td><td>0.810</td><td>0.0832</td><td>0.511</td><td>1</td><td>  6</td><td>  6</td></tr>\n",
       "\t<tr><th scope=row>19909</th><td>Lonely (with benny blanco)             </td><td> 92</td><td>2020</td><td>0.631</td><td>0.1160</td><td>0.239</td><td>2</td><td>102</td><td>102</td></tr>\n",
       "\t<tr><th scope=row>20069</th><td>Anyone                                 </td><td> 92</td><td>2021</td><td>0.686</td><td>0.1130</td><td>0.538</td><td>1</td><td> 95</td><td> 95</td></tr>\n",
       "\t<tr><th scope=row>39253</th><td>The Business                           </td><td> 92</td><td>2020</td><td>0.798</td><td>0.1120</td><td>0.620</td><td>1</td><td> 11</td><td> 10</td></tr>\n",
       "\t<tr><th scope=row>76407</th><td>Hecha Pa' Mi                           </td><td> 92</td><td>2020</td><td>0.725</td><td>0.1030</td><td>0.756</td><td>1</td><td>  1</td><td>  1</td></tr>\n",
       "\t<tr><th scope=row>19471</th><td>Snowman                                </td><td> 91</td><td>2018</td><td>0.716</td><td>0.0928</td><td>0.512</td><td>1</td><td> 40</td><td> 38</td></tr>\n",
       "\t<tr><th scope=row>19671</th><td>Watermelon Sugar                       </td><td> 91</td><td>2019</td><td>0.548</td><td>0.3350</td><td>0.816</td><td>1</td><td> 26</td><td> 26</td></tr>\n",
       "\t<tr><th scope=row>19865</th><td>Good Days                              </td><td> 91</td><td>2020</td><td>0.436</td><td>0.6880</td><td>0.655</td><td>1</td><td> 37</td><td> 37</td></tr>\n",
       "\t<tr><th scope=row>19875</th><td>For The Night (feat. Lil Baby &amp; DaBaby)</td><td> 91</td><td>2020</td><td>0.823</td><td>0.1930</td><td>0.586</td><td>3</td><td>120</td><td>120</td></tr>\n",
       "\t<tr><th scope=row>19893</th><td>ROCKSTAR (feat. Roddy Ricch)           </td><td> 91</td><td>2020</td><td>0.746</td><td>0.1010</td><td>0.690</td><td>2</td><td> 68</td><td> 64</td></tr>\n",
       "\t<tr><th scope=row>19897</th><td>Heather                                </td><td> 91</td><td>2020</td><td>0.357</td><td>0.3220</td><td>0.425</td><td>1</td><td>  8</td><td>  8</td></tr>\n",
       "\t<tr><th scope=row>19925</th><td>Monster (Shawn Mendes &amp; Justin Bieber) </td><td> 91</td><td>2020</td><td>0.652</td><td>0.0828</td><td>0.383</td><td>2</td><td>121</td><td>121</td></tr>\n",
       "\t<tr><th scope=row>19975</th><td>Life Goes On                           </td><td> 91</td><td>2020</td><td>0.566</td><td>0.3700</td><td>0.716</td><td>1</td><td> 63</td><td> 63</td></tr>\n",
       "\t<tr><th scope=row>19985</th><td>Dynamite                               </td><td> 91</td><td>2020</td><td>0.746</td><td>0.0936</td><td>0.765</td><td>1</td><td> 63</td><td> 63</td></tr>\n",
       "\t<tr><th scope=row>20019</th><td>DÁKITI                                 </td><td> 91</td><td>2020</td><td>0.731</td><td>0.1130</td><td>0.573</td><td>2</td><td>128</td><td> 86</td></tr>\n",
       "\t<tr><th scope=row>39237</th><td><span style=white-space:pre-wrap>Head &amp; Heart (feat. MNEK)              </span></td><td> 91</td><td>2020</td><td>0.734</td><td>0.0489</td><td>0.874</td><td>2</td><td><span style=white-space:pre-wrap>  3</span></td><td><span style=white-space:pre-wrap>  3</span></td></tr>\n",
       "\t<tr><th scope=row>39425</th><td>La Nota                                </td><td> 91</td><td>2020</td><td>0.736</td><td>0.3490</td><td>0.632</td><td>3</td><td> 33</td><td> 24</td></tr>\n",
       "\t<tr><th scope=row>⋮</th><td>⋮</td><td>⋮</td><td>⋮</td><td>⋮</td><td>⋮</td><td>⋮</td><td>⋮</td><td>⋮</td><td>⋮</td></tr>\n",
       "\t<tr><th scope=row>19491</th><td>Moonlight                                                  </td><td>85</td><td>2018</td><td>0.921</td><td>0.1020</td><td>0.537</td><td>1</td><td> 49</td><td> 49</td></tr>\n",
       "\t<tr><th scope=row>19493</th><td>rockstar (feat. 21 Savage)                                 </td><td>85</td><td>2018</td><td>0.585</td><td>0.1310</td><td>0.520</td><td>2</td><td> 91</td><td> 91</td></tr>\n",
       "\t<tr><th scope=row>19507</th><td>Falling                                                    </td><td>85</td><td>2018</td><td>0.785</td><td>0.0887</td><td>0.431</td><td>1</td><td>  4</td><td>  4</td></tr>\n",
       "\t<tr><th scope=row>19685</th><td>Streets                                                    </td><td>85</td><td>2019</td><td>0.749</td><td>0.3370</td><td>0.463</td><td>1</td><td> 22</td><td> 22</td></tr>\n",
       "\t<tr><th scope=row>19715</th><td>when the party's over                                      </td><td>85</td><td>2019</td><td>0.367</td><td>0.0897</td><td>0.111</td><td>1</td><td> 37</td><td> 37</td></tr>\n",
       "\t<tr><th scope=row>19723</th><td>Dior                                                       </td><td>85</td><td>2019</td><td>0.548</td><td>0.4080</td><td>0.805</td><td>1</td><td> 23</td><td> 23</td></tr>\n",
       "\t<tr><th scope=row>19777</th><td>Before You Go                                              </td><td>85</td><td>2019</td><td>0.459</td><td>0.0885</td><td>0.575</td><td>1</td><td> 17</td><td> 16</td></tr>\n",
       "\t<tr><th scope=row>19785</th><td>Don't Start Now                                            </td><td>85</td><td>2019</td><td>0.794</td><td>0.0952</td><td>0.793</td><td>1</td><td> 24</td><td> 23</td></tr>\n",
       "\t<tr><th scope=row>19917</th><td>Tyler Herro                                                </td><td>85</td><td>2020</td><td>0.794</td><td>0.2470</td><td>0.756</td><td>1</td><td> 14</td><td> 14</td></tr>\n",
       "\t<tr><th scope=row>19921</th><td>WHATS POPPIN (feat. DaBaby, Tory Lanez &amp; Lil Wayne) - Remix</td><td>85</td><td>2020</td><td>0.904</td><td>0.1850</td><td>0.723</td><td>4</td><td>229</td><td>226</td></tr>\n",
       "\t<tr><th scope=row>19923</th><td>champagne problems                                         </td><td>85</td><td>2020</td><td>0.462</td><td>0.1130</td><td>0.240</td><td>1</td><td>230</td><td>230</td></tr>\n",
       "\t<tr><th scope=row>19953</th><td>E-GIRLS ARE RUINING MY LIFE!                               </td><td>85</td><td>2020</td><td>0.614</td><td>0.1030</td><td>0.937</td><td>2</td><td>  9</td><td>  9</td></tr>\n",
       "\t<tr><th scope=row>19967</th><td>Go Crazy                                                   </td><td>85</td><td>2020</td><td>0.755</td><td>0.2500</td><td>0.578</td><td>2</td><td>135</td><td>132</td></tr>\n",
       "\t<tr><th scope=row>19973</th><td>hot girl bummer                                            </td><td>85</td><td>2020</td><td>0.782</td><td>0.3850</td><td>0.559</td><td>1</td><td> 31</td><td> 31</td></tr>\n",
       "\t<tr><th scope=row>20013</th><td>SO DONE                                                    </td><td>85</td><td>2020</td><td>0.719</td><td>0.1150</td><td>0.598</td><td>1</td><td> 23</td><td> 23</td></tr>\n",
       "\t<tr><th scope=row>20027</th><td>Maniac                                                     </td><td>85</td><td>2020</td><td>0.628</td><td>0.3540</td><td>0.639</td><td>1</td><td>  8</td><td>  8</td></tr>\n",
       "\t<tr><th scope=row>20031</th><td>Life Is Good (feat. Drake)                                 </td><td>85</td><td>2020</td><td>0.676</td><td>0.1520</td><td>0.609</td><td>2</td><td>314</td><td>314</td></tr>\n",
       "\t<tr><th scope=row>39279</th><td>Be Kind (with Halsey)                                      </td><td>85</td><td>2020</td><td>0.630</td><td>0.0541</td><td>0.633</td><td>2</td><td> 54</td><td> 54</td></tr>\n",
       "\t<tr><th scope=row>39351</th><td>HACIENDO QUE ME AMAS                                       </td><td>85</td><td>2020</td><td>0.584</td><td>0.0955</td><td>0.411</td><td>1</td><td>101</td><td> 79</td></tr>\n",
       "\t<tr><th scope=row>39381</th><td>BOOKER T                                                   </td><td>85</td><td>2020</td><td>0.883</td><td>0.0931</td><td>0.600</td><td>1</td><td>101</td><td> 79</td></tr>\n",
       "\t<tr><th scope=row>58263</th><td><span style=white-space:pre-wrap>Kings &amp; Queens                                             </span></td><td>85</td><td>2020</td><td>0.637</td><td>0.1240</td><td>0.690</td><td>1</td><td><span style=white-space:pre-wrap>  6</span></td><td><span style=white-space:pre-wrap>  6</span></td></tr>\n",
       "\t<tr><th scope=row>58275</th><td>Levitating (feat. DaBaby)                                  </td><td>85</td><td>2020</td><td>0.702</td><td>0.0674</td><td>0.825</td><td>2</td><td> 65</td><td> 64</td></tr>\n",
       "\t<tr><th scope=row>58277</th><td>Midnight Sky                                               </td><td>85</td><td>2020</td><td>0.705</td><td>0.2030</td><td>0.814</td><td>1</td><td> 44</td><td> 43</td></tr>\n",
       "\t<tr><th scope=row>58399</th><td>Break My Heart                                             </td><td>85</td><td>2020</td><td>0.730</td><td>0.3490</td><td>0.729</td><td>1</td><td> 24</td><td> 23</td></tr>\n",
       "\t<tr><th scope=row>58403</th><td>Don't Start Now                                            </td><td>85</td><td>2020</td><td>0.793</td><td>0.0951</td><td>0.793</td><td>1</td><td> 24</td><td> 23</td></tr>\n",
       "\t<tr><th scope=row>93711</th><td>La Luz                                                     </td><td>85</td><td>2020</td><td>0.665</td><td>0.5990</td><td>0.697</td><td>2</td><td>150</td><td> 58</td></tr>\n",
       "\t<tr><th scope=row>126556</th><td>Despeinada                                                 </td><td>85</td><td>2020</td><td>0.734</td><td>0.1230</td><td>0.775</td><td>2</td><td> 67</td><td> 48</td></tr>\n",
       "\t<tr><th scope=row>126680</th><td>Azul                                                       </td><td>85</td><td>2020</td><td>0.843</td><td>0.0532</td><td>0.836</td><td>1</td><td>137</td><td> 48</td></tr>\n",
       "\t<tr><th scope=row>143040</th><td>Ponte Pa' Mi                                               </td><td>85</td><td>2020</td><td>0.878</td><td>0.0822</td><td>0.713</td><td>1</td><td>  5</td><td>  4</td></tr>\n",
       "\t<tr><th scope=row>143066</th><td>Tattoo - Remix with Camilo                                 </td><td>85</td><td>2020</td><td>0.848</td><td>0.0521</td><td>0.637</td><td>2</td><td> 20</td><td> 14</td></tr>\n",
       "</tbody>\n",
       "</table>\n"
      ],
      "text/latex": [
       "A data.frame: 165 × 9\n",
       "\\begin{tabular}{r|lllllllll}\n",
       "  & name & popularity & year & danceability & liveness & energy & artist.number & artist.trackcount & artist.trackrankedcount\\\\\n",
       "  & <fct> & <int> & <int> & <dbl> & <dbl> & <dbl> & <int> & <dbl> & <dbl>\\\\\n",
       "\\hline\n",
       "\t20063 & drivers license                         & 100 & 2021 & 0.585 & 0.1050 & 0.436 & 1 &   5 &   5\\\\\n",
       "\t19863 & Mood (feat. iann dior)                  &  96 & 2020 & 0.700 & 0.2720 & 0.722 & 2 &  22 &  22\\\\\n",
       "\t19867 & positions                               &  96 & 2020 & 0.737 & 0.0931 & 0.802 & 1 &  95 &  95\\\\\n",
       "\t19887 & DÁKITI                                  &  95 & 2020 & 0.731 & 0.1130 & 0.573 & 2 & 128 &  86\\\\\n",
       "\t19977 & BICHOTA                                 &  95 & 2020 & 0.863 & 0.1030 & 0.666 & 1 &  77 &  11\\\\\n",
       "\t19869 & 34+35                                   &  94 & 2020 & 0.830 & 0.2480 & 0.585 & 1 &  95 &  95\\\\\n",
       "\t19871 & Whoopty                                 &  94 & 2020 & 0.711 & 0.1500 & 0.598 & 1 &   1 &   1\\\\\n",
       "\t19873 & WITHOUT YOU                             &  94 & 2020 & 0.662 & 0.1340 & 0.413 & 1 &  23 &  23\\\\\n",
       "\t19877 & Therefore I Am                          &  94 & 2020 & 0.889 & 0.0550 & 0.340 & 1 &  37 &  37\\\\\n",
       "\t19929 & LA NOCHE DE ANOCHE                      &  94 & 2020 & 0.856 & 0.0866 & 0.618 & 2 & 109 &  86\\\\\n",
       "\t19879 & What You Know Bout Love                 &  93 & 2020 & 0.709 & 0.1330 & 0.548 & 1 &  23 &  23\\\\\n",
       "\t19901 & you broke me first                      &  93 & 2020 & 0.642 & 0.0906 & 0.374 & 1 &   7 &   7\\\\\n",
       "\t19881 & WAP (feat. Megan Thee Stallion)         &  92 & 2020 & 0.935 & 0.0824 & 0.454 & 2 &  51 &  51\\\\\n",
       "\t19885 & HOLIDAY                                 &  92 & 2020 & 0.810 & 0.0832 & 0.511 & 1 &   6 &   6\\\\\n",
       "\t19909 & Lonely (with benny blanco)              &  92 & 2020 & 0.631 & 0.1160 & 0.239 & 2 & 102 & 102\\\\\n",
       "\t20069 & Anyone                                  &  92 & 2021 & 0.686 & 0.1130 & 0.538 & 1 &  95 &  95\\\\\n",
       "\t39253 & The Business                            &  92 & 2020 & 0.798 & 0.1120 & 0.620 & 1 &  11 &  10\\\\\n",
       "\t76407 & Hecha Pa' Mi                            &  92 & 2020 & 0.725 & 0.1030 & 0.756 & 1 &   1 &   1\\\\\n",
       "\t19471 & Snowman                                 &  91 & 2018 & 0.716 & 0.0928 & 0.512 & 1 &  40 &  38\\\\\n",
       "\t19671 & Watermelon Sugar                        &  91 & 2019 & 0.548 & 0.3350 & 0.816 & 1 &  26 &  26\\\\\n",
       "\t19865 & Good Days                               &  91 & 2020 & 0.436 & 0.6880 & 0.655 & 1 &  37 &  37\\\\\n",
       "\t19875 & For The Night (feat. Lil Baby \\& DaBaby) &  91 & 2020 & 0.823 & 0.1930 & 0.586 & 3 & 120 & 120\\\\\n",
       "\t19893 & ROCKSTAR (feat. Roddy Ricch)            &  91 & 2020 & 0.746 & 0.1010 & 0.690 & 2 &  68 &  64\\\\\n",
       "\t19897 & Heather                                 &  91 & 2020 & 0.357 & 0.3220 & 0.425 & 1 &   8 &   8\\\\\n",
       "\t19925 & Monster (Shawn Mendes \\& Justin Bieber)  &  91 & 2020 & 0.652 & 0.0828 & 0.383 & 2 & 121 & 121\\\\\n",
       "\t19975 & Life Goes On                            &  91 & 2020 & 0.566 & 0.3700 & 0.716 & 1 &  63 &  63\\\\\n",
       "\t19985 & Dynamite                                &  91 & 2020 & 0.746 & 0.0936 & 0.765 & 1 &  63 &  63\\\\\n",
       "\t20019 & DÁKITI                                  &  91 & 2020 & 0.731 & 0.1130 & 0.573 & 2 & 128 &  86\\\\\n",
       "\t39237 & Head \\& Heart (feat. MNEK)               &  91 & 2020 & 0.734 & 0.0489 & 0.874 & 2 &   3 &   3\\\\\n",
       "\t39425 & La Nota                                 &  91 & 2020 & 0.736 & 0.3490 & 0.632 & 3 &  33 &  24\\\\\n",
       "\t⋮ & ⋮ & ⋮ & ⋮ & ⋮ & ⋮ & ⋮ & ⋮ & ⋮ & ⋮\\\\\n",
       "\t19491 & Moonlight                                                   & 85 & 2018 & 0.921 & 0.1020 & 0.537 & 1 &  49 &  49\\\\\n",
       "\t19493 & rockstar (feat. 21 Savage)                                  & 85 & 2018 & 0.585 & 0.1310 & 0.520 & 2 &  91 &  91\\\\\n",
       "\t19507 & Falling                                                     & 85 & 2018 & 0.785 & 0.0887 & 0.431 & 1 &   4 &   4\\\\\n",
       "\t19685 & Streets                                                     & 85 & 2019 & 0.749 & 0.3370 & 0.463 & 1 &  22 &  22\\\\\n",
       "\t19715 & when the party's over                                       & 85 & 2019 & 0.367 & 0.0897 & 0.111 & 1 &  37 &  37\\\\\n",
       "\t19723 & Dior                                                        & 85 & 2019 & 0.548 & 0.4080 & 0.805 & 1 &  23 &  23\\\\\n",
       "\t19777 & Before You Go                                               & 85 & 2019 & 0.459 & 0.0885 & 0.575 & 1 &  17 &  16\\\\\n",
       "\t19785 & Don't Start Now                                             & 85 & 2019 & 0.794 & 0.0952 & 0.793 & 1 &  24 &  23\\\\\n",
       "\t19917 & Tyler Herro                                                 & 85 & 2020 & 0.794 & 0.2470 & 0.756 & 1 &  14 &  14\\\\\n",
       "\t19921 & WHATS POPPIN (feat. DaBaby, Tory Lanez \\& Lil Wayne) - Remix & 85 & 2020 & 0.904 & 0.1850 & 0.723 & 4 & 229 & 226\\\\\n",
       "\t19923 & champagne problems                                          & 85 & 2020 & 0.462 & 0.1130 & 0.240 & 1 & 230 & 230\\\\\n",
       "\t19953 & E-GIRLS ARE RUINING MY LIFE!                                & 85 & 2020 & 0.614 & 0.1030 & 0.937 & 2 &   9 &   9\\\\\n",
       "\t19967 & Go Crazy                                                    & 85 & 2020 & 0.755 & 0.2500 & 0.578 & 2 & 135 & 132\\\\\n",
       "\t19973 & hot girl bummer                                             & 85 & 2020 & 0.782 & 0.3850 & 0.559 & 1 &  31 &  31\\\\\n",
       "\t20013 & SO DONE                                                     & 85 & 2020 & 0.719 & 0.1150 & 0.598 & 1 &  23 &  23\\\\\n",
       "\t20027 & Maniac                                                      & 85 & 2020 & 0.628 & 0.3540 & 0.639 & 1 &   8 &   8\\\\\n",
       "\t20031 & Life Is Good (feat. Drake)                                  & 85 & 2020 & 0.676 & 0.1520 & 0.609 & 2 & 314 & 314\\\\\n",
       "\t39279 & Be Kind (with Halsey)                                       & 85 & 2020 & 0.630 & 0.0541 & 0.633 & 2 &  54 &  54\\\\\n",
       "\t39351 & HACIENDO QUE ME AMAS                                        & 85 & 2020 & 0.584 & 0.0955 & 0.411 & 1 & 101 &  79\\\\\n",
       "\t39381 & BOOKER T                                                    & 85 & 2020 & 0.883 & 0.0931 & 0.600 & 1 & 101 &  79\\\\\n",
       "\t58263 & Kings \\& Queens                                              & 85 & 2020 & 0.637 & 0.1240 & 0.690 & 1 &   6 &   6\\\\\n",
       "\t58275 & Levitating (feat. DaBaby)                                   & 85 & 2020 & 0.702 & 0.0674 & 0.825 & 2 &  65 &  64\\\\\n",
       "\t58277 & Midnight Sky                                                & 85 & 2020 & 0.705 & 0.2030 & 0.814 & 1 &  44 &  43\\\\\n",
       "\t58399 & Break My Heart                                              & 85 & 2020 & 0.730 & 0.3490 & 0.729 & 1 &  24 &  23\\\\\n",
       "\t58403 & Don't Start Now                                             & 85 & 2020 & 0.793 & 0.0951 & 0.793 & 1 &  24 &  23\\\\\n",
       "\t93711 & La Luz                                                      & 85 & 2020 & 0.665 & 0.5990 & 0.697 & 2 & 150 &  58\\\\\n",
       "\t126556 & Despeinada                                                  & 85 & 2020 & 0.734 & 0.1230 & 0.775 & 2 &  67 &  48\\\\\n",
       "\t126680 & Azul                                                        & 85 & 2020 & 0.843 & 0.0532 & 0.836 & 1 & 137 &  48\\\\\n",
       "\t143040 & Ponte Pa' Mi                                                & 85 & 2020 & 0.878 & 0.0822 & 0.713 & 1 &   5 &   4\\\\\n",
       "\t143066 & Tattoo - Remix with Camilo                                  & 85 & 2020 & 0.848 & 0.0521 & 0.637 & 2 &  20 &  14\\\\\n",
       "\\end{tabular}\n"
      ],
      "text/markdown": [
       "\n",
       "A data.frame: 165 × 9\n",
       "\n",
       "| <!--/--> | name &lt;fct&gt; | popularity &lt;int&gt; | year &lt;int&gt; | danceability &lt;dbl&gt; | liveness &lt;dbl&gt; | energy &lt;dbl&gt; | artist.number &lt;int&gt; | artist.trackcount &lt;dbl&gt; | artist.trackrankedcount &lt;dbl&gt; |\n",
       "|---|---|---|---|---|---|---|---|---|---|\n",
       "| 20063 | drivers license                         | 100 | 2021 | 0.585 | 0.1050 | 0.436 | 1 |   5 |   5 |\n",
       "| 19863 | Mood (feat. iann dior)                  |  96 | 2020 | 0.700 | 0.2720 | 0.722 | 2 |  22 |  22 |\n",
       "| 19867 | positions                               |  96 | 2020 | 0.737 | 0.0931 | 0.802 | 1 |  95 |  95 |\n",
       "| 19887 | DÁKITI                                  |  95 | 2020 | 0.731 | 0.1130 | 0.573 | 2 | 128 |  86 |\n",
       "| 19977 | BICHOTA                                 |  95 | 2020 | 0.863 | 0.1030 | 0.666 | 1 |  77 |  11 |\n",
       "| 19869 | 34+35                                   |  94 | 2020 | 0.830 | 0.2480 | 0.585 | 1 |  95 |  95 |\n",
       "| 19871 | Whoopty                                 |  94 | 2020 | 0.711 | 0.1500 | 0.598 | 1 |   1 |   1 |\n",
       "| 19873 | WITHOUT YOU                             |  94 | 2020 | 0.662 | 0.1340 | 0.413 | 1 |  23 |  23 |\n",
       "| 19877 | Therefore I Am                          |  94 | 2020 | 0.889 | 0.0550 | 0.340 | 1 |  37 |  37 |\n",
       "| 19929 | LA NOCHE DE ANOCHE                      |  94 | 2020 | 0.856 | 0.0866 | 0.618 | 2 | 109 |  86 |\n",
       "| 19879 | What You Know Bout Love                 |  93 | 2020 | 0.709 | 0.1330 | 0.548 | 1 |  23 |  23 |\n",
       "| 19901 | you broke me first                      |  93 | 2020 | 0.642 | 0.0906 | 0.374 | 1 |   7 |   7 |\n",
       "| 19881 | WAP (feat. Megan Thee Stallion)         |  92 | 2020 | 0.935 | 0.0824 | 0.454 | 2 |  51 |  51 |\n",
       "| 19885 | HOLIDAY                                 |  92 | 2020 | 0.810 | 0.0832 | 0.511 | 1 |   6 |   6 |\n",
       "| 19909 | Lonely (with benny blanco)              |  92 | 2020 | 0.631 | 0.1160 | 0.239 | 2 | 102 | 102 |\n",
       "| 20069 | Anyone                                  |  92 | 2021 | 0.686 | 0.1130 | 0.538 | 1 |  95 |  95 |\n",
       "| 39253 | The Business                            |  92 | 2020 | 0.798 | 0.1120 | 0.620 | 1 |  11 |  10 |\n",
       "| 76407 | Hecha Pa' Mi                            |  92 | 2020 | 0.725 | 0.1030 | 0.756 | 1 |   1 |   1 |\n",
       "| 19471 | Snowman                                 |  91 | 2018 | 0.716 | 0.0928 | 0.512 | 1 |  40 |  38 |\n",
       "| 19671 | Watermelon Sugar                        |  91 | 2019 | 0.548 | 0.3350 | 0.816 | 1 |  26 |  26 |\n",
       "| 19865 | Good Days                               |  91 | 2020 | 0.436 | 0.6880 | 0.655 | 1 |  37 |  37 |\n",
       "| 19875 | For The Night (feat. Lil Baby &amp; DaBaby) |  91 | 2020 | 0.823 | 0.1930 | 0.586 | 3 | 120 | 120 |\n",
       "| 19893 | ROCKSTAR (feat. Roddy Ricch)            |  91 | 2020 | 0.746 | 0.1010 | 0.690 | 2 |  68 |  64 |\n",
       "| 19897 | Heather                                 |  91 | 2020 | 0.357 | 0.3220 | 0.425 | 1 |   8 |   8 |\n",
       "| 19925 | Monster (Shawn Mendes &amp; Justin Bieber)  |  91 | 2020 | 0.652 | 0.0828 | 0.383 | 2 | 121 | 121 |\n",
       "| 19975 | Life Goes On                            |  91 | 2020 | 0.566 | 0.3700 | 0.716 | 1 |  63 |  63 |\n",
       "| 19985 | Dynamite                                |  91 | 2020 | 0.746 | 0.0936 | 0.765 | 1 |  63 |  63 |\n",
       "| 20019 | DÁKITI                                  |  91 | 2020 | 0.731 | 0.1130 | 0.573 | 2 | 128 |  86 |\n",
       "| 39237 | Head &amp; Heart (feat. MNEK)               |  91 | 2020 | 0.734 | 0.0489 | 0.874 | 2 |   3 |   3 |\n",
       "| 39425 | La Nota                                 |  91 | 2020 | 0.736 | 0.3490 | 0.632 | 3 |  33 |  24 |\n",
       "| ⋮ | ⋮ | ⋮ | ⋮ | ⋮ | ⋮ | ⋮ | ⋮ | ⋮ | ⋮ |\n",
       "| 19491 | Moonlight                                                   | 85 | 2018 | 0.921 | 0.1020 | 0.537 | 1 |  49 |  49 |\n",
       "| 19493 | rockstar (feat. 21 Savage)                                  | 85 | 2018 | 0.585 | 0.1310 | 0.520 | 2 |  91 |  91 |\n",
       "| 19507 | Falling                                                     | 85 | 2018 | 0.785 | 0.0887 | 0.431 | 1 |   4 |   4 |\n",
       "| 19685 | Streets                                                     | 85 | 2019 | 0.749 | 0.3370 | 0.463 | 1 |  22 |  22 |\n",
       "| 19715 | when the party's over                                       | 85 | 2019 | 0.367 | 0.0897 | 0.111 | 1 |  37 |  37 |\n",
       "| 19723 | Dior                                                        | 85 | 2019 | 0.548 | 0.4080 | 0.805 | 1 |  23 |  23 |\n",
       "| 19777 | Before You Go                                               | 85 | 2019 | 0.459 | 0.0885 | 0.575 | 1 |  17 |  16 |\n",
       "| 19785 | Don't Start Now                                             | 85 | 2019 | 0.794 | 0.0952 | 0.793 | 1 |  24 |  23 |\n",
       "| 19917 | Tyler Herro                                                 | 85 | 2020 | 0.794 | 0.2470 | 0.756 | 1 |  14 |  14 |\n",
       "| 19921 | WHATS POPPIN (feat. DaBaby, Tory Lanez &amp; Lil Wayne) - Remix | 85 | 2020 | 0.904 | 0.1850 | 0.723 | 4 | 229 | 226 |\n",
       "| 19923 | champagne problems                                          | 85 | 2020 | 0.462 | 0.1130 | 0.240 | 1 | 230 | 230 |\n",
       "| 19953 | E-GIRLS ARE RUINING MY LIFE!                                | 85 | 2020 | 0.614 | 0.1030 | 0.937 | 2 |   9 |   9 |\n",
       "| 19967 | Go Crazy                                                    | 85 | 2020 | 0.755 | 0.2500 | 0.578 | 2 | 135 | 132 |\n",
       "| 19973 | hot girl bummer                                             | 85 | 2020 | 0.782 | 0.3850 | 0.559 | 1 |  31 |  31 |\n",
       "| 20013 | SO DONE                                                     | 85 | 2020 | 0.719 | 0.1150 | 0.598 | 1 |  23 |  23 |\n",
       "| 20027 | Maniac                                                      | 85 | 2020 | 0.628 | 0.3540 | 0.639 | 1 |   8 |   8 |\n",
       "| 20031 | Life Is Good (feat. Drake)                                  | 85 | 2020 | 0.676 | 0.1520 | 0.609 | 2 | 314 | 314 |\n",
       "| 39279 | Be Kind (with Halsey)                                       | 85 | 2020 | 0.630 | 0.0541 | 0.633 | 2 |  54 |  54 |\n",
       "| 39351 | HACIENDO QUE ME AMAS                                        | 85 | 2020 | 0.584 | 0.0955 | 0.411 | 1 | 101 |  79 |\n",
       "| 39381 | BOOKER T                                                    | 85 | 2020 | 0.883 | 0.0931 | 0.600 | 1 | 101 |  79 |\n",
       "| 58263 | Kings &amp; Queens                                              | 85 | 2020 | 0.637 | 0.1240 | 0.690 | 1 |   6 |   6 |\n",
       "| 58275 | Levitating (feat. DaBaby)                                   | 85 | 2020 | 0.702 | 0.0674 | 0.825 | 2 |  65 |  64 |\n",
       "| 58277 | Midnight Sky                                                | 85 | 2020 | 0.705 | 0.2030 | 0.814 | 1 |  44 |  43 |\n",
       "| 58399 | Break My Heart                                              | 85 | 2020 | 0.730 | 0.3490 | 0.729 | 1 |  24 |  23 |\n",
       "| 58403 | Don't Start Now                                             | 85 | 2020 | 0.793 | 0.0951 | 0.793 | 1 |  24 |  23 |\n",
       "| 93711 | La Luz                                                      | 85 | 2020 | 0.665 | 0.5990 | 0.697 | 2 | 150 |  58 |\n",
       "| 126556 | Despeinada                                                  | 85 | 2020 | 0.734 | 0.1230 | 0.775 | 2 |  67 |  48 |\n",
       "| 126680 | Azul                                                        | 85 | 2020 | 0.843 | 0.0532 | 0.836 | 1 | 137 |  48 |\n",
       "| 143040 | Ponte Pa' Mi                                                | 85 | 2020 | 0.878 | 0.0822 | 0.713 | 1 |   5 |   4 |\n",
       "| 143066 | Tattoo - Remix with Camilo                                  | 85 | 2020 | 0.848 | 0.0521 | 0.637 | 2 |  20 |  14 |\n",
       "\n"
      ],
      "text/plain": [
       "       name                                                        popularity\n",
       "20063  drivers license                                             100       \n",
       "19863  Mood (feat. iann dior)                                       96       \n",
       "19867  positions                                                    96       \n",
       "19887  DÁKITI                                                       95       \n",
       "19977  BICHOTA                                                      95       \n",
       "19869  34+35                                                        94       \n",
       "19871  Whoopty                                                      94       \n",
       "19873  WITHOUT YOU                                                  94       \n",
       "19877  Therefore I Am                                               94       \n",
       "19929  LA NOCHE DE ANOCHE                                           94       \n",
       "19879  What You Know Bout Love                                      93       \n",
       "19901  you broke me first                                           93       \n",
       "19881  WAP (feat. Megan Thee Stallion)                              92       \n",
       "19885  HOLIDAY                                                      92       \n",
       "19909  Lonely (with benny blanco)                                   92       \n",
       "20069  Anyone                                                       92       \n",
       "39253  The Business                                                 92       \n",
       "76407  Hecha Pa' Mi                                                 92       \n",
       "19471  Snowman                                                      91       \n",
       "19671  Watermelon Sugar                                             91       \n",
       "19865  Good Days                                                    91       \n",
       "19875  For The Night (feat. Lil Baby & DaBaby)                      91       \n",
       "19893  ROCKSTAR (feat. Roddy Ricch)                                 91       \n",
       "19897  Heather                                                      91       \n",
       "19925  Monster (Shawn Mendes & Justin Bieber)                       91       \n",
       "19975  Life Goes On                                                 91       \n",
       "19985  Dynamite                                                     91       \n",
       "20019  DÁKITI                                                       91       \n",
       "39237  Head & Heart (feat. MNEK)                                    91       \n",
       "39425  La Nota                                                      91       \n",
       "⋮      ⋮                                                           ⋮         \n",
       "19491  Moonlight                                                   85        \n",
       "19493  rockstar (feat. 21 Savage)                                  85        \n",
       "19507  Falling                                                     85        \n",
       "19685  Streets                                                     85        \n",
       "19715  when the party's over                                       85        \n",
       "19723  Dior                                                        85        \n",
       "19777  Before You Go                                               85        \n",
       "19785  Don't Start Now                                             85        \n",
       "19917  Tyler Herro                                                 85        \n",
       "19921  WHATS POPPIN (feat. DaBaby, Tory Lanez & Lil Wayne) - Remix 85        \n",
       "19923  champagne problems                                          85        \n",
       "19953  E-GIRLS ARE RUINING MY LIFE!                                85        \n",
       "19967  Go Crazy                                                    85        \n",
       "19973  hot girl bummer                                             85        \n",
       "20013  SO DONE                                                     85        \n",
       "20027  Maniac                                                      85        \n",
       "20031  Life Is Good (feat. Drake)                                  85        \n",
       "39279  Be Kind (with Halsey)                                       85        \n",
       "39351  HACIENDO QUE ME AMAS                                        85        \n",
       "39381  BOOKER T                                                    85        \n",
       "58263  Kings & Queens                                              85        \n",
       "58275  Levitating (feat. DaBaby)                                   85        \n",
       "58277  Midnight Sky                                                85        \n",
       "58399  Break My Heart                                              85        \n",
       "58403  Don't Start Now                                             85        \n",
       "93711  La Luz                                                      85        \n",
       "126556 Despeinada                                                  85        \n",
       "126680 Azul                                                        85        \n",
       "143040 Ponte Pa' Mi                                                85        \n",
       "143066 Tattoo - Remix with Camilo                                  85        \n",
       "       year danceability liveness energy artist.number artist.trackcount\n",
       "20063  2021 0.585        0.1050   0.436  1               5              \n",
       "19863  2020 0.700        0.2720   0.722  2              22              \n",
       "19867  2020 0.737        0.0931   0.802  1              95              \n",
       "19887  2020 0.731        0.1130   0.573  2             128              \n",
       "19977  2020 0.863        0.1030   0.666  1              77              \n",
       "19869  2020 0.830        0.2480   0.585  1              95              \n",
       "19871  2020 0.711        0.1500   0.598  1               1              \n",
       "19873  2020 0.662        0.1340   0.413  1              23              \n",
       "19877  2020 0.889        0.0550   0.340  1              37              \n",
       "19929  2020 0.856        0.0866   0.618  2             109              \n",
       "19879  2020 0.709        0.1330   0.548  1              23              \n",
       "19901  2020 0.642        0.0906   0.374  1               7              \n",
       "19881  2020 0.935        0.0824   0.454  2              51              \n",
       "19885  2020 0.810        0.0832   0.511  1               6              \n",
       "19909  2020 0.631        0.1160   0.239  2             102              \n",
       "20069  2021 0.686        0.1130   0.538  1              95              \n",
       "39253  2020 0.798        0.1120   0.620  1              11              \n",
       "76407  2020 0.725        0.1030   0.756  1               1              \n",
       "19471  2018 0.716        0.0928   0.512  1              40              \n",
       "19671  2019 0.548        0.3350   0.816  1              26              \n",
       "19865  2020 0.436        0.6880   0.655  1              37              \n",
       "19875  2020 0.823        0.1930   0.586  3             120              \n",
       "19893  2020 0.746        0.1010   0.690  2              68              \n",
       "19897  2020 0.357        0.3220   0.425  1               8              \n",
       "19925  2020 0.652        0.0828   0.383  2             121              \n",
       "19975  2020 0.566        0.3700   0.716  1              63              \n",
       "19985  2020 0.746        0.0936   0.765  1              63              \n",
       "20019  2020 0.731        0.1130   0.573  2             128              \n",
       "39237  2020 0.734        0.0489   0.874  2               3              \n",
       "39425  2020 0.736        0.3490   0.632  3              33              \n",
       "⋮      ⋮    ⋮            ⋮        ⋮      ⋮             ⋮                \n",
       "19491  2018 0.921        0.1020   0.537  1              49              \n",
       "19493  2018 0.585        0.1310   0.520  2              91              \n",
       "19507  2018 0.785        0.0887   0.431  1               4              \n",
       "19685  2019 0.749        0.3370   0.463  1              22              \n",
       "19715  2019 0.367        0.0897   0.111  1              37              \n",
       "19723  2019 0.548        0.4080   0.805  1              23              \n",
       "19777  2019 0.459        0.0885   0.575  1              17              \n",
       "19785  2019 0.794        0.0952   0.793  1              24              \n",
       "19917  2020 0.794        0.2470   0.756  1              14              \n",
       "19921  2020 0.904        0.1850   0.723  4             229              \n",
       "19923  2020 0.462        0.1130   0.240  1             230              \n",
       "19953  2020 0.614        0.1030   0.937  2               9              \n",
       "19967  2020 0.755        0.2500   0.578  2             135              \n",
       "19973  2020 0.782        0.3850   0.559  1              31              \n",
       "20013  2020 0.719        0.1150   0.598  1              23              \n",
       "20027  2020 0.628        0.3540   0.639  1               8              \n",
       "20031  2020 0.676        0.1520   0.609  2             314              \n",
       "39279  2020 0.630        0.0541   0.633  2              54              \n",
       "39351  2020 0.584        0.0955   0.411  1             101              \n",
       "39381  2020 0.883        0.0931   0.600  1             101              \n",
       "58263  2020 0.637        0.1240   0.690  1               6              \n",
       "58275  2020 0.702        0.0674   0.825  2              65              \n",
       "58277  2020 0.705        0.2030   0.814  1              44              \n",
       "58399  2020 0.730        0.3490   0.729  1              24              \n",
       "58403  2020 0.793        0.0951   0.793  1              24              \n",
       "93711  2020 0.665        0.5990   0.697  2             150              \n",
       "126556 2020 0.734        0.1230   0.775  2              67              \n",
       "126680 2020 0.843        0.0532   0.836  1             137              \n",
       "143040 2020 0.878        0.0822   0.713  1               5              \n",
       "143066 2020 0.848        0.0521   0.637  2              20              \n",
       "       artist.trackrankedcount\n",
       "20063    5                    \n",
       "19863   22                    \n",
       "19867   95                    \n",
       "19887   86                    \n",
       "19977   11                    \n",
       "19869   95                    \n",
       "19871    1                    \n",
       "19873   23                    \n",
       "19877   37                    \n",
       "19929   86                    \n",
       "19879   23                    \n",
       "19901    7                    \n",
       "19881   51                    \n",
       "19885    6                    \n",
       "19909  102                    \n",
       "20069   95                    \n",
       "39253   10                    \n",
       "76407    1                    \n",
       "19471   38                    \n",
       "19671   26                    \n",
       "19865   37                    \n",
       "19875  120                    \n",
       "19893   64                    \n",
       "19897    8                    \n",
       "19925  121                    \n",
       "19975   63                    \n",
       "19985   63                    \n",
       "20019   86                    \n",
       "39237    3                    \n",
       "39425   24                    \n",
       "⋮      ⋮                      \n",
       "19491   49                    \n",
       "19493   91                    \n",
       "19507    4                    \n",
       "19685   22                    \n",
       "19715   37                    \n",
       "19723   23                    \n",
       "19777   16                    \n",
       "19785   23                    \n",
       "19917   14                    \n",
       "19921  226                    \n",
       "19923  230                    \n",
       "19953    9                    \n",
       "19967  132                    \n",
       "19973   31                    \n",
       "20013   23                    \n",
       "20027    8                    \n",
       "20031  314                    \n",
       "39279   54                    \n",
       "39351   79                    \n",
       "39381   79                    \n",
       "58263    6                    \n",
       "58275   64                    \n",
       "58277   43                    \n",
       "58399   23                    \n",
       "58403   23                    \n",
       "93711   58                    \n",
       "126556  48                    \n",
       "126680  48                    \n",
       "143040   4                    \n",
       "143066  14                    "
      ]
     },
     "metadata": {},
     "output_type": "display_data"
    }
   ],
   "source": [
    "radiohit_columns <- c('name','popularity', 'year', 'danceability', 'liveness', 'energy',  'artist.number', 'artist.trackcount', 'artist.trackrankedcount')\n",
    "radiohit_data_subset1 <- radiohit_data[,radiohit_columns]\n",
    "radiohit_data_subset1[order(-radiohit_data_subset1$popularity),]"
   ]
  },
  {
   "cell_type": "code",
   "execution_count": 338,
   "metadata": {},
   "outputs": [],
   "source": [
    "write.csv(updated_data,file = \"../data/updated_originaldata.csv\")"
   ]
  },
  {
   "cell_type": "code",
   "execution_count": null,
   "metadata": {},
   "outputs": [],
   "source": []
  },
  {
   "cell_type": "code",
   "execution_count": 336,
   "metadata": {},
   "outputs": [
    {
     "name": "stdout",
     "output_type": "stream",
     "text": [
      "'data.frame':\t42371 obs. of  31 variables:\n",
      " $ acousticness           : num  0.394 0.255 0.406 0.887 0.938 0.36 0.881 0.955 0.888 0.93 ...\n",
      " $ danceability           : num  0.484 0.405 0.477 0.319 0.269 0.617 0.644 0.627 0.581 0.442 ...\n",
      " $ duration_ms            : int  160187 141987 157093 187333 236800 114987 313093 295093 183440 147907 ...\n",
      " $ energy                 : num  0.265 0.365 0.352 0.201 0.129 0.711 0.212 0.184 0.331 0.399 ...\n",
      " $ explicit               : int  0 0 0 0 0 0 0 0 0 0 ...\n",
      " $ instrumentalness       : num  0.00 4.68e-06 0.00 0.00 4.87e-06 1.59e-06 2.22e-05 1.62e-04 1.50e-05 4.99e-04 ...\n",
      " $ key                    : int  0 6 1 7 7 9 11 1 6 6 ...\n",
      " $ liveness               : num  0.149 0.163 0.122 0.904 0.683 0.0841 0.798 0.0986 0.147 0.912 ...\n",
      " $ loudness               : num  -11.1 -10.2 -14.2 -17.8 -18.2 ...\n",
      " $ mode                   : int  1 0 1 1 0 1 1 1 1 1 ...\n",
      " $ name                   : Factor w/ 137013 levels \"________\",\"-\",..: 131933 37618 30625 114887 56526 48742 111395 122332 126970 15512 ...\n",
      " $ popularity             : int  55 39 34 27 26 30 19 19 19 19 ...\n",
      " $ release_date           : Date, format: \"2008-02-11\" \"2008-02-11\" ...\n",
      " $ speechiness            : num  0.0322 0.0289 0.03 0.0623 0.0576 0.0297 0.0347 0.045 0.243 0.078 ...\n",
      " $ tempo                  : num  113.6 104.5 106.8 117.2 82.3 ...\n",
      " $ valence                : num  0.285 0.588 0.478 0.239 0.16 0.963 0.441 0.299 0.642 0.554 ...\n",
      " $ year                   : num  8 8 8 18 18 8 20 20 20 20 ...\n",
      " $ log_popularity         : num  4.03 3.69 3.56 3.33 3.3 ...\n",
      " $ poprank                : Factor w/ 4 levels \"low_popularity\",..: 2 1 1 1 1 1 1 1 1 1 ...\n",
      " $ language               : Factor w/ 57 levels \"afrikaans\",\"albanian\",..: 32 43 13 13 43 32 8 13 8 13 ...\n",
      " $ language.english       : num  0 0 1 1 0 0 0 1 0 1 ...\n",
      " $ language.catalan       : num  0 0 0 0 0 0 1 0 1 0 ...\n",
      " $ language.german        : num  0 0 0 0 0 0 0 0 0 0 ...\n",
      " $ language.frisian       : num  0 0 0 0 0 0 0 0 0 0 ...\n",
      " $ language.welsh         : num  0 0 0 0 0 0 0 0 0 0 ...\n",
      " $ artist.number          : int  1 1 1 1 1 1 1 1 1 1 ...\n",
      " $ artist.rank_sum        : num  2143 2143 2143 22115 22115 ...\n",
      " $ artist.trackcount      : num  183 183 183 773 773 183 120 120 120 120 ...\n",
      " $ artist.trackrankedcount: num  182 182 182 773 773 182 120 120 120 120 ...\n",
      " $ artist.rank_mean       : num  11.8 11.8 11.8 28.6 28.6 ...\n",
      " $ radio.hit              : num  0 0 0 0 0 0 0 0 0 0 ...\n"
     ]
    }
   ],
   "source": [
    "target.subset <- updated_data[updated_data$year >= 2000,]\n",
    "target.subset$year <- target.subset$year-2000\n",
    "str(target.subset)"
   ]
  },
  {
   "cell_type": "code",
   "execution_count": 337,
   "metadata": {},
   "outputs": [
    {
     "data": {
      "text/plain": [
       "\n",
       "    0     1 \n",
       "42211   160 "
      ]
     },
     "metadata": {},
     "output_type": "display_data"
    }
   ],
   "source": [
    "table(target.subset$radio.hit)"
   ]
  },
  {
   "cell_type": "code",
   "execution_count": 339,
   "metadata": {},
   "outputs": [],
   "source": [
    "release.date <- which(colnames(target.subset)==\"release_date\" )\n",
    "target.subset <- target.subset[,-release.date]"
   ]
  },
  {
   "cell_type": "code",
   "execution_count": 340,
   "metadata": {},
   "outputs": [
    {
     "data": {
      "text/html": [
       "<style>\n",
       ".dl-inline {width: auto; margin:0; padding: 0}\n",
       ".dl-inline>dt, .dl-inline>dd {float: none; width: auto; display: inline-block}\n",
       ".dl-inline>dt::after {content: \":\\0020\"; padding-right: .5ex}\n",
       ".dl-inline>dt:not(:first-of-type) {padding-left: .5ex}\n",
       "</style><dl class=dl-inline><dt>acousticness</dt><dd>0</dd><dt>danceability</dt><dd>0</dd><dt>duration_ms</dt><dd>0</dd><dt>energy</dt><dd>0</dd><dt>explicit</dt><dd>0</dd><dt>instrumentalness</dt><dd>0</dd><dt>key</dt><dd>0</dd><dt>liveness</dt><dd>0</dd><dt>loudness</dt><dd>0</dd><dt>mode</dt><dd>0</dd><dt>name</dt><dd>0</dd><dt>popularity</dt><dd>0</dd><dt>speechiness</dt><dd>0</dd><dt>tempo</dt><dd>0</dd><dt>valence</dt><dd>0</dd><dt>year</dt><dd>0</dd><dt>log_popularity</dt><dd>0</dd><dt>poprank</dt><dd>0</dd><dt>language</dt><dd>0</dd><dt>language.english</dt><dd>0</dd><dt>language.catalan</dt><dd>0</dd><dt>language.german</dt><dd>0</dd><dt>language.frisian</dt><dd>0</dd><dt>language.welsh</dt><dd>0</dd><dt>artist.number</dt><dd>0</dd><dt>artist.rank_sum</dt><dd>0</dd><dt>artist.trackcount</dt><dd>0</dd><dt>artist.trackrankedcount</dt><dd>0</dd><dt>artist.rank_mean</dt><dd>0</dd><dt>radio.hit</dt><dd>0</dd></dl>\n"
      ],
      "text/latex": [
       "\\begin{description*}\n",
       "\\item[acousticness] 0\n",
       "\\item[danceability] 0\n",
       "\\item[duration\\textbackslash{}\\_ms] 0\n",
       "\\item[energy] 0\n",
       "\\item[explicit] 0\n",
       "\\item[instrumentalness] 0\n",
       "\\item[key] 0\n",
       "\\item[liveness] 0\n",
       "\\item[loudness] 0\n",
       "\\item[mode] 0\n",
       "\\item[name] 0\n",
       "\\item[popularity] 0\n",
       "\\item[speechiness] 0\n",
       "\\item[tempo] 0\n",
       "\\item[valence] 0\n",
       "\\item[year] 0\n",
       "\\item[log\\textbackslash{}\\_popularity] 0\n",
       "\\item[poprank] 0\n",
       "\\item[language] 0\n",
       "\\item[language.english] 0\n",
       "\\item[language.catalan] 0\n",
       "\\item[language.german] 0\n",
       "\\item[language.frisian] 0\n",
       "\\item[language.welsh] 0\n",
       "\\item[artist.number] 0\n",
       "\\item[artist.rank\\textbackslash{}\\_sum] 0\n",
       "\\item[artist.trackcount] 0\n",
       "\\item[artist.trackrankedcount] 0\n",
       "\\item[artist.rank\\textbackslash{}\\_mean] 0\n",
       "\\item[radio.hit] 0\n",
       "\\end{description*}\n"
      ],
      "text/markdown": [
       "acousticness\n",
       ":   0danceability\n",
       ":   0duration_ms\n",
       ":   0energy\n",
       ":   0explicit\n",
       ":   0instrumentalness\n",
       ":   0key\n",
       ":   0liveness\n",
       ":   0loudness\n",
       ":   0mode\n",
       ":   0name\n",
       ":   0popularity\n",
       ":   0speechiness\n",
       ":   0tempo\n",
       ":   0valence\n",
       ":   0year\n",
       ":   0log_popularity\n",
       ":   0poprank\n",
       ":   0language\n",
       ":   0language.english\n",
       ":   0language.catalan\n",
       ":   0language.german\n",
       ":   0language.frisian\n",
       ":   0language.welsh\n",
       ":   0artist.number\n",
       ":   0artist.rank_sum\n",
       ":   0artist.trackcount\n",
       ":   0artist.trackrankedcount\n",
       ":   0artist.rank_mean\n",
       ":   0radio.hit\n",
       ":   0\n",
       "\n"
      ],
      "text/plain": [
       "           acousticness            danceability             duration_ms \n",
       "                      0                       0                       0 \n",
       "                 energy                explicit        instrumentalness \n",
       "                      0                       0                       0 \n",
       "                    key                liveness                loudness \n",
       "                      0                       0                       0 \n",
       "                   mode                    name              popularity \n",
       "                      0                       0                       0 \n",
       "            speechiness                   tempo                 valence \n",
       "                      0                       0                       0 \n",
       "                   year          log_popularity                 poprank \n",
       "                      0                       0                       0 \n",
       "               language        language.english        language.catalan \n",
       "                      0                       0                       0 \n",
       "        language.german        language.frisian          language.welsh \n",
       "                      0                       0                       0 \n",
       "          artist.number         artist.rank_sum       artist.trackcount \n",
       "                      0                       0                       0 \n",
       "artist.trackrankedcount        artist.rank_mean               radio.hit \n",
       "                      0                       0                       0 "
      ]
     },
     "metadata": {},
     "output_type": "display_data"
    }
   ],
   "source": [
    "# The following tells us the number of missing values in each column.\n",
    "sapply(target.subset, function(x) sum(is.na(x)))"
   ]
  },
  {
   "cell_type": "code",
   "execution_count": 303,
   "metadata": {},
   "outputs": [
    {
     "data": {
      "text/html": [
       "18"
      ],
      "text/latex": [
       "18"
      ],
      "text/markdown": [
       "18"
      ],
      "text/plain": [
       "[1] 18"
      ]
     },
     "metadata": {},
     "output_type": "display_data"
    }
   ],
   "source": [
    "which(colnames(target.subset)==\"poprank\" )\n",
    "# target.subset <- target.subset[,-18]"
   ]
  },
  {
   "cell_type": "code",
   "execution_count": 305,
   "metadata": {},
   "outputs": [
    {
     "name": "stdout",
     "output_type": "stream",
     "text": [
      "Computing permutation importance.. Progress: 67%. Estimated remaining time: 15 seconds.\n",
      "Computing permutation importance.. Progress: 83%. Estimated remaining time: 6 seconds.\n",
      "Computing permutation importance.. Progress: 83%. Estimated remaining time: 6 seconds.\n",
      "Computing permutation importance.. Progress: 83%. Estimated remaining time: 6 seconds.\n",
      "Computing permutation importance.. Progress: 82%. Estimated remaining time: 6 seconds.\n",
      "Computing permutation importance.. Progress: 83%. Estimated remaining time: 6 seconds.\n",
      "Computing permutation importance.. Progress: 83%. Estimated remaining time: 6 seconds.\n",
      "Computing permutation importance.. Progress: 76%. Estimated remaining time: 9 seconds.\n",
      "Computing permutation importance.. Progress: 77%. Estimated remaining time: 9 seconds.\n",
      "Computing permutation importance.. Progress: 80%. Estimated remaining time: 7 seconds.\n",
      "Computing permutation importance.. Progress: 68%. Estimated remaining time: 14 seconds.\n",
      "Computing permutation importance.. Progress: 60%. Estimated remaining time: 20 seconds.\n",
      "Computing permutation importance.. Progress: 70%. Estimated remaining time: 13 seconds.\n",
      "Computing permutation importance.. Progress: 61%. Estimated remaining time: 20 seconds.\n",
      "Computing permutation importance.. Progress: 51%. Estimated remaining time: 30 seconds.\n",
      "Computing permutation importance.. Progress: 66%. Estimated remaining time: 16 seconds.\n",
      "Computing permutation importance.. Progress: 77%. Estimated remaining time: 9 seconds.\n",
      "Computing permutation importance.. Progress: 77%. Estimated remaining time: 9 seconds.\n",
      "Computing permutation importance.. Progress: 82%. Estimated remaining time: 6 seconds.\n",
      "Computing permutation importance.. Progress: 78%. Estimated remaining time: 8 seconds.\n",
      "Computing permutation importance.. Progress: 75%. Estimated remaining time: 10 seconds.\n",
      "Computing permutation importance.. Progress: 80%. Estimated remaining time: 7 seconds.\n",
      "Computing permutation importance.. Progress: 80%. Estimated remaining time: 7 seconds.\n",
      "Computing permutation importance.. Progress: 80%. Estimated remaining time: 7 seconds.\n",
      "Computing permutation importance.. Progress: 78%. Estimated remaining time: 8 seconds.\n",
      "Computing permutation importance.. Progress: 81%. Estimated remaining time: 7 seconds.\n",
      "Computing permutation importance.. Progress: 79%. Estimated remaining time: 8 seconds.\n",
      "Computing permutation importance.. Progress: 80%. Estimated remaining time: 7 seconds.\n",
      "Computing permutation importance.. Progress: 80%. Estimated remaining time: 7 seconds.\n",
      "Computing permutation importance.. Progress: 80%. Estimated remaining time: 7 seconds.\n",
      "Computing permutation importance.. Progress: 59%. Estimated remaining time: 21 seconds.\n",
      "Computing permutation importance.. Progress: 86%. Estimated remaining time: 5 seconds.\n"
     ]
    },
    {
     "data": {
      "text/plain": [
       "Boruta performed 32 iterations in 35.18916 mins.\n",
       " 26 attributes confirmed important: acousticness, artist.number,\n",
       "artist.rank_mean, artist.rank_sum, artist.trackcount and 21 more;\n",
       " No attributes deemed unimportant."
      ]
     },
     "metadata": {},
     "output_type": "display_data"
    }
   ],
   "source": [
    "# Features Selection - Boruta\n",
    "set.seed(43612)\n",
    "home.features_boruta <- Boruta(log_popularity~.-popularity, data=target.subset[,-18], doTrace=0)\n",
    "home.features_boruta"
   ]
  },
  {
   "cell_type": "code",
   "execution_count": 306,
   "metadata": {},
   "outputs": [
    {
     "data": {
      "image/png": "[encoded data removed]",
      "text/plain": [
       "plot without title"
      ]
     },
     "metadata": {
      "image/png": {
       "height": 480,
       "width": 900
      }
     },
     "output_type": "display_data"
    }
   ],
   "source": [
    "# A graph depicting the essential features.\n",
    "plot(home.features_boruta, xlab=\"\", xaxt=\"n\")\n",
    "lz<-lapply(1:ncol(home.features_boruta$ImpHistory), function(i)\n",
    "home.features_boruta$ImpHistory[is.finite(home.features_boruta$ImpHistory[, i]), i])\n",
    "names(lz)<-colnames(home.features_boruta$ImpHistory)\n",
    "lb<-sort(sapply(lz, median))\n",
    "axis(side=1, las=2, labels=names(lb), at=1:ncol(home.features_boruta$ImpHistory), cex.axis=0.5, font = 4)"
   ]
  },
  {
   "cell_type": "code",
   "execution_count": 307,
   "metadata": {},
   "outputs": [
    {
     "name": "stderr",
     "output_type": "stream",
     "text": [
      "Warning message in TentativeRoughFix(home.features_boruta):\n",
      "“There are no Tentative attributes! Returning original object.”\n"
     ]
    },
    {
     "data": {
      "text/plain": [
       "Boruta performed 32 iterations in 35.18916 mins.\n",
       " 26 attributes confirmed important: acousticness, artist.number,\n",
       "artist.rank_mean, artist.rank_sum, artist.trackcount and 21 more;\n",
       " No attributes deemed unimportant."
      ]
     },
     "metadata": {},
     "output_type": "display_data"
    }
   ],
   "source": [
    "final.boruta<-TentativeRoughFix(home.features_boruta)\n",
    "final.boruta"
   ]
  },
  {
   "cell_type": "code",
   "execution_count": 308,
   "metadata": {},
   "outputs": [
    {
     "data": {
      "text/html": [
       "<style>\n",
       ".dl-inline {width: auto; margin:0; padding: 0}\n",
       ".dl-inline>dt, .dl-inline>dd {float: none; width: auto; display: inline-block}\n",
       ".dl-inline>dt::after {content: \":\\0020\"; padding-right: .5ex}\n",
       ".dl-inline>dt:not(:first-of-type) {padding-left: .5ex}\n",
       "</style><dl class=dl-inline><dt>acousticness</dt><dd>Confirmed</dd><dt>danceability</dt><dd>Confirmed</dd><dt>duration_ms</dt><dd>Confirmed</dd><dt>energy</dt><dd>Confirmed</dd><dt>explicit</dt><dd>Confirmed</dd><dt>instrumentalness</dt><dd>Confirmed</dd><dt>key</dt><dd>Confirmed</dd><dt>liveness</dt><dd>Confirmed</dd><dt>loudness</dt><dd>Confirmed</dd><dt>mode</dt><dd>Confirmed</dd><dt>name</dt><dd>Confirmed</dd><dt>speechiness</dt><dd>Confirmed</dd><dt>tempo</dt><dd>Confirmed</dd><dt>valence</dt><dd>Confirmed</dd><dt>year</dt><dd>Confirmed</dd><dt>language</dt><dd>Confirmed</dd><dt>language.english</dt><dd>Confirmed</dd><dt>language.catalan</dt><dd>Confirmed</dd><dt>language.german</dt><dd>Confirmed</dd><dt>language.frisian</dt><dd>Confirmed</dd><dt>language.welsh</dt><dd>Confirmed</dd><dt>artist.number</dt><dd>Confirmed</dd><dt>artist.rank_sum</dt><dd>Confirmed</dd><dt>artist.trackcount</dt><dd>Confirmed</dd><dt>artist.trackrankedcount</dt><dd>Confirmed</dd><dt>artist.rank_mean</dt><dd>Confirmed</dd></dl>\n",
       "\n",
       "<details>\n",
       "\t<summary style=display:list-item;cursor:pointer>\n",
       "\t\t<strong>Levels</strong>:\n",
       "\t</summary>\n",
       "\t<style>\n",
       "\t.list-inline {list-style: none; margin:0; padding: 0}\n",
       "\t.list-inline>li {display: inline-block}\n",
       "\t.list-inline>li:not(:last-child)::after {content: \"\\00b7\"; padding: 0 .5ex}\n",
       "\t</style>\n",
       "\t<ol class=list-inline><li>'Tentative'</li><li>'Confirmed'</li><li>'Rejected'</li></ol>\n",
       "</details>"
      ],
      "text/latex": [
       "\\begin{description*}\n",
       "\\item[acousticness] Confirmed\n",
       "\\item[danceability] Confirmed\n",
       "\\item[duration\\textbackslash{}\\_ms] Confirmed\n",
       "\\item[energy] Confirmed\n",
       "\\item[explicit] Confirmed\n",
       "\\item[instrumentalness] Confirmed\n",
       "\\item[key] Confirmed\n",
       "\\item[liveness] Confirmed\n",
       "\\item[loudness] Confirmed\n",
       "\\item[mode] Confirmed\n",
       "\\item[name] Confirmed\n",
       "\\item[speechiness] Confirmed\n",
       "\\item[tempo] Confirmed\n",
       "\\item[valence] Confirmed\n",
       "\\item[year] Confirmed\n",
       "\\item[language] Confirmed\n",
       "\\item[language.english] Confirmed\n",
       "\\item[language.catalan] Confirmed\n",
       "\\item[language.german] Confirmed\n",
       "\\item[language.frisian] Confirmed\n",
       "\\item[language.welsh] Confirmed\n",
       "\\item[artist.number] Confirmed\n",
       "\\item[artist.rank\\textbackslash{}\\_sum] Confirmed\n",
       "\\item[artist.trackcount] Confirmed\n",
       "\\item[artist.trackrankedcount] Confirmed\n",
       "\\item[artist.rank\\textbackslash{}\\_mean] Confirmed\n",
       "\\end{description*}\n",
       "\n",
       "\\emph{Levels}: \\begin{enumerate*}\n",
       "\\item 'Tentative'\n",
       "\\item 'Confirmed'\n",
       "\\item 'Rejected'\n",
       "\\end{enumerate*}\n"
      ],
      "text/markdown": [
       "acousticness\n",
       ":   Confirmeddanceability\n",
       ":   Confirmedduration_ms\n",
       ":   Confirmedenergy\n",
       ":   Confirmedexplicit\n",
       ":   Confirmedinstrumentalness\n",
       ":   Confirmedkey\n",
       ":   Confirmedliveness\n",
       ":   Confirmedloudness\n",
       ":   Confirmedmode\n",
       ":   Confirmedname\n",
       ":   Confirmedspeechiness\n",
       ":   Confirmedtempo\n",
       ":   Confirmedvalence\n",
       ":   Confirmedyear\n",
       ":   Confirmedlanguage\n",
       ":   Confirmedlanguage.english\n",
       ":   Confirmedlanguage.catalan\n",
       ":   Confirmedlanguage.german\n",
       ":   Confirmedlanguage.frisian\n",
       ":   Confirmedlanguage.welsh\n",
       ":   Confirmedartist.number\n",
       ":   Confirmedartist.rank_sum\n",
       ":   Confirmedartist.trackcount\n",
       ":   Confirmedartist.trackrankedcount\n",
       ":   Confirmedartist.rank_mean\n",
       ":   Confirmed\n",
       "\n",
       "\n",
       "**Levels**: 1. 'Tentative'\n",
       "2. 'Confirmed'\n",
       "3. 'Rejected'\n",
       "\n",
       "\n"
      ],
      "text/plain": [
       "           acousticness            danceability             duration_ms \n",
       "              Confirmed               Confirmed               Confirmed \n",
       "                 energy                explicit        instrumentalness \n",
       "              Confirmed               Confirmed               Confirmed \n",
       "                    key                liveness                loudness \n",
       "              Confirmed               Confirmed               Confirmed \n",
       "                   mode                    name             speechiness \n",
       "              Confirmed               Confirmed               Confirmed \n",
       "                  tempo                 valence                    year \n",
       "              Confirmed               Confirmed               Confirmed \n",
       "               language        language.english        language.catalan \n",
       "              Confirmed               Confirmed               Confirmed \n",
       "        language.german        language.frisian          language.welsh \n",
       "              Confirmed               Confirmed               Confirmed \n",
       "          artist.number         artist.rank_sum       artist.trackcount \n",
       "              Confirmed               Confirmed               Confirmed \n",
       "artist.trackrankedcount        artist.rank_mean \n",
       "              Confirmed               Confirmed \n",
       "Levels: Tentative Confirmed Rejected"
      ]
     },
     "metadata": {},
     "output_type": "display_data"
    }
   ],
   "source": [
    "final.boruta$finalDecision"
   ]
  },
  {
   "cell_type": "code",
   "execution_count": 309,
   "metadata": {},
   "outputs": [
    {
     "name": "stdout",
     "output_type": "stream",
     "text": [
      "           acousticness            danceability             duration_ms \n",
      "              Confirmed               Confirmed               Confirmed \n",
      "                 energy                explicit        instrumentalness \n",
      "              Confirmed               Confirmed               Confirmed \n",
      "                    key                liveness                loudness \n",
      "              Confirmed               Confirmed               Confirmed \n",
      "                   mode                    name             speechiness \n",
      "              Confirmed               Confirmed               Confirmed \n",
      "                  tempo                 valence                    year \n",
      "              Confirmed               Confirmed               Confirmed \n",
      "               language        language.english        language.catalan \n",
      "              Confirmed               Confirmed               Confirmed \n",
      "        language.german        language.frisian          language.welsh \n",
      "              Confirmed               Confirmed               Confirmed \n",
      "          artist.number         artist.rank_sum       artist.trackcount \n",
      "              Confirmed               Confirmed               Confirmed \n",
      "artist.trackrankedcount        artist.rank_mean \n",
      "              Confirmed               Confirmed \n",
      "Levels: Tentative Confirmed Rejected\n"
     ]
    }
   ],
   "source": [
    "# Report the Boruta \"Confirmed\" & \"Tentative\" features, removing the \"Rejected\" ones\n",
    "print(final.boruta$finalDecision[final.boruta$finalDecision %in% c(\"Confirmed\", \"Tentative\")])"
   ]
  },
  {
   "cell_type": "code",
   "execution_count": 314,
   "metadata": {},
   "outputs": [
    {
     "data": {
      "text/html": [
       "11"
      ],
      "text/latex": [
       "11"
      ],
      "text/markdown": [
       "11"
      ],
      "text/plain": [
       "[1] 11"
      ]
     },
     "metadata": {},
     "output_type": "display_data"
    },
    {
     "data": {
      "text/html": [
       "18"
      ],
      "text/latex": [
       "18"
      ],
      "text/markdown": [
       "18"
      ],
      "text/plain": [
       "[1] 18"
      ]
     },
     "metadata": {},
     "output_type": "display_data"
    },
    {
     "data": {
      "text/html": [
       "19"
      ],
      "text/latex": [
       "19"
      ],
      "text/markdown": [
       "19"
      ],
      "text/plain": [
       "[1] 19"
      ]
     },
     "metadata": {},
     "output_type": "display_data"
    },
    {
     "data": {
      "text/html": [
       "12"
      ],
      "text/latex": [
       "12"
      ],
      "text/markdown": [
       "12"
      ],
      "text/plain": [
       "[1] 12"
      ]
     },
     "metadata": {},
     "output_type": "display_data"
    },
    {
     "data": {
      "text/html": [
       "17"
      ],
      "text/latex": [
       "17"
      ],
      "text/markdown": [
       "17"
      ],
      "text/plain": [
       "[1] 17"
      ]
     },
     "metadata": {},
     "output_type": "display_data"
    }
   ],
   "source": [
    "which(colnames(target.subset)==\"name\" )\n",
    "which(colnames(target.subset)==\"poprank\" )\n",
    "which(colnames(target.subset)==\"language\" )\n",
    "which(colnames(target.subset)==\"popularity\")\n",
    "which(colnames(target.subset)==\"log_popularity\" )"
   ]
  },
  {
   "cell_type": "code",
   "execution_count": 315,
   "metadata": {},
   "outputs": [
    {
     "data": {
      "text/plain": [
       "\n",
       "Recursive feature selection\n",
       "\n",
       "Outer resampling method: Cross-Validated (10 fold) \n",
       "\n",
       "Resampling performance over subset size:\n",
       "\n",
       " Variables   RMSE Rsquared    MAE   RMSESD RsquaredSD    MAESD Selected\n",
       "        10 0.4208   0.9436 0.2149 0.012659   0.003242 0.009841         \n",
       "        20 0.3797   0.9541 0.1847 0.008521   0.001917 0.002214         \n",
       "        24 0.3782   0.9544 0.1829 0.009290   0.002133 0.002459        *\n",
       "\n",
       "The top 5 variables (out of 24):\n",
       "   year, artist.rank_mean, duration_ms, liveness, speechiness\n"
      ]
     },
     "metadata": {},
     "output_type": "display_data"
    }
   ],
   "source": [
    "# RFE is frequently used with random forest models\n",
    "set.seed(43612)\n",
    "control <- rfeControl(functions = rfFuncs, method = \"cv\", number=10)\n",
    "rf.train <- rfe(target.subset[, -c(11,12,17,18,19)], target.subset[, 17], \n",
    "                sizes=c(10, 20, 30, 40), rfeControl=control)\n",
    "rf.train"
   ]
  },
  {
   "cell_type": "code",
   "execution_count": 316,
   "metadata": {},
   "outputs": [
    {
     "data": {
      "image/png": "[encoded data removed]",
      "text/plain": [
       "plot without title"
      ]
     },
     "metadata": {
      "image/png": {
       "height": 480,
       "width": 900
      }
     },
     "output_type": "display_data"
    }
   ],
   "source": [
    "# - the `sizes=` option allows us to specify the number of variables we want to include in the model\n",
    "plot(rf.train, type=c(\"g\", \"o\"), cex=1, col=1:5)"
   ]
  },
  {
   "cell_type": "code",
   "execution_count": 319,
   "metadata": {},
   "outputs": [
    {
     "data": {
      "text/html": [
       "<style>\n",
       ".list-inline {list-style: none; margin:0; padding: 0}\n",
       ".list-inline>li {display: inline-block}\n",
       ".list-inline>li:not(:last-child)::after {content: \"\\00b7\"; padding: 0 .5ex}\n",
       "</style>\n",
       "<ol class=list-inline><li>'acousticness'</li><li>'danceability'</li><li>'duration_ms'</li><li>'energy'</li><li>'explicit'</li><li>'instrumentalness'</li><li>'key'</li><li>'liveness'</li><li>'loudness'</li><li>'mode'</li><li>'speechiness'</li><li>'tempo'</li><li>'valence'</li><li>'year'</li><li>'language.english'</li><li>'language.catalan'</li><li>'language.german'</li><li>'language.frisian'</li><li>'language.welsh'</li><li>'artist.number'</li><li>'artist.rank_sum'</li><li>'artist.trackcount'</li><li>'artist.trackrankedcount'</li><li>'artist.rank_mean'</li></ol>\n"
      ],
      "text/latex": [
       "\\begin{enumerate*}\n",
       "\\item 'acousticness'\n",
       "\\item 'danceability'\n",
       "\\item 'duration\\_ms'\n",
       "\\item 'energy'\n",
       "\\item 'explicit'\n",
       "\\item 'instrumentalness'\n",
       "\\item 'key'\n",
       "\\item 'liveness'\n",
       "\\item 'loudness'\n",
       "\\item 'mode'\n",
       "\\item 'speechiness'\n",
       "\\item 'tempo'\n",
       "\\item 'valence'\n",
       "\\item 'year'\n",
       "\\item 'language.english'\n",
       "\\item 'language.catalan'\n",
       "\\item 'language.german'\n",
       "\\item 'language.frisian'\n",
       "\\item 'language.welsh'\n",
       "\\item 'artist.number'\n",
       "\\item 'artist.rank\\_sum'\n",
       "\\item 'artist.trackcount'\n",
       "\\item 'artist.trackrankedcount'\n",
       "\\item 'artist.rank\\_mean'\n",
       "\\end{enumerate*}\n"
      ],
      "text/markdown": [
       "1. 'acousticness'\n",
       "2. 'danceability'\n",
       "3. 'duration_ms'\n",
       "4. 'energy'\n",
       "5. 'explicit'\n",
       "6. 'instrumentalness'\n",
       "7. 'key'\n",
       "8. 'liveness'\n",
       "9. 'loudness'\n",
       "10. 'mode'\n",
       "11. 'speechiness'\n",
       "12. 'tempo'\n",
       "13. 'valence'\n",
       "14. 'year'\n",
       "15. 'language.english'\n",
       "16. 'language.catalan'\n",
       "17. 'language.german'\n",
       "18. 'language.frisian'\n",
       "19. 'language.welsh'\n",
       "20. 'artist.number'\n",
       "21. 'artist.rank_sum'\n",
       "22. 'artist.trackcount'\n",
       "23. 'artist.trackrankedcount'\n",
       "24. 'artist.rank_mean'\n",
       "\n",
       "\n"
      ],
      "text/plain": [
       " [1] \"acousticness\"            \"danceability\"           \n",
       " [3] \"duration_ms\"             \"energy\"                 \n",
       " [5] \"explicit\"                \"instrumentalness\"       \n",
       " [7] \"key\"                     \"liveness\"               \n",
       " [9] \"loudness\"                \"mode\"                   \n",
       "[11] \"speechiness\"             \"tempo\"                  \n",
       "[13] \"valence\"                 \"year\"                   \n",
       "[15] \"language.english\"        \"language.catalan\"       \n",
       "[17] \"language.german\"         \"language.frisian\"       \n",
       "[19] \"language.welsh\"          \"artist.number\"          \n",
       "[21] \"artist.rank_sum\"         \"artist.trackcount\"      \n",
       "[23] \"artist.trackrankedcount\" \"artist.rank_mean\"       "
      ]
     },
     "metadata": {},
     "output_type": "display_data"
    }
   ],
   "source": [
    "# Common variables chosen by the two techniques:\n",
    "predRFE <- predictors(rf.train)\n",
    "predBoruta <- getSelectedAttributes(final.boruta, withTentative = F)\n",
    "intersect.features <- intersect(predBoruta, predRFE)\n",
    "intersect.features"
   ]
  },
  {
   "cell_type": "code",
   "execution_count": 341,
   "metadata": {},
   "outputs": [
    {
     "name": "stdout",
     "output_type": "stream",
     "text": [
      "'data.frame':\t42371 obs. of  25 variables:\n",
      " $ radio.hit              : num  0 0 0 0 0 0 0 0 0 0 ...\n",
      " $ acousticness           : num  0.394 0.255 0.406 0.887 0.938 0.36 0.881 0.955 0.888 0.93 ...\n",
      " $ danceability           : num  0.484 0.405 0.477 0.319 0.269 0.617 0.644 0.627 0.581 0.442 ...\n",
      " $ duration_ms            : int  160187 141987 157093 187333 236800 114987 313093 295093 183440 147907 ...\n",
      " $ energy                 : num  0.265 0.365 0.352 0.201 0.129 0.711 0.212 0.184 0.331 0.399 ...\n",
      " $ explicit               : int  0 0 0 0 0 0 0 0 0 0 ...\n",
      " $ instrumentalness       : num  0.00 4.68e-06 0.00 0.00 4.87e-06 1.59e-06 2.22e-05 1.62e-04 1.50e-05 4.99e-04 ...\n",
      " $ key                    : int  0 6 1 7 7 9 11 1 6 6 ...\n",
      " $ liveness               : num  0.149 0.163 0.122 0.904 0.683 0.0841 0.798 0.0986 0.147 0.912 ...\n",
      " $ loudness               : num  -11.1 -10.2 -14.2 -17.8 -18.2 ...\n",
      " $ mode                   : int  1 0 1 1 0 1 1 1 1 1 ...\n",
      " $ speechiness            : num  0.0322 0.0289 0.03 0.0623 0.0576 0.0297 0.0347 0.045 0.243 0.078 ...\n",
      " $ tempo                  : num  113.6 104.5 106.8 117.2 82.3 ...\n",
      " $ valence                : num  0.285 0.588 0.478 0.239 0.16 0.963 0.441 0.299 0.642 0.554 ...\n",
      " $ year                   : num  8 8 8 18 18 8 20 20 20 20 ...\n",
      " $ language.english       : num  0 0 1 1 0 0 0 1 0 1 ...\n",
      " $ language.catalan       : num  0 0 0 0 0 0 1 0 1 0 ...\n",
      " $ language.german        : num  0 0 0 0 0 0 0 0 0 0 ...\n",
      " $ language.frisian       : num  0 0 0 0 0 0 0 0 0 0 ...\n",
      " $ language.welsh         : num  0 0 0 0 0 0 0 0 0 0 ...\n",
      " $ artist.number          : int  1 1 1 1 1 1 1 1 1 1 ...\n",
      " $ artist.rank_sum        : num  2143 2143 2143 22115 22115 ...\n",
      " $ artist.trackcount      : num  183 183 183 773 773 183 120 120 120 120 ...\n",
      " $ artist.trackrankedcount: num  182 182 182 773 773 182 120 120 120 120 ...\n",
      " $ artist.rank_mean       : num  11.8 11.8 11.8 28.6 28.6 ...\n"
     ]
    }
   ],
   "source": [
    "selected.features <- c('radio.hit', intersect.features)\n",
    "target.subset_class.radiohit <- target.subset[,selected.features]\n",
    "str(target.subset_class.radiohit)"
   ]
  },
  {
   "cell_type": "code",
   "execution_count": 349,
   "metadata": {},
   "outputs": [],
   "source": [
    "write.csv(target.subset_class.radiohit,file = \"../data/target_class_radiohit.csv\", row.names=FALSE)"
   ]
  },
  {
   "cell_type": "code",
   "execution_count": 343,
   "metadata": {},
   "outputs": [
    {
     "name": "stdout",
     "output_type": "stream",
     "text": [
      "'data.frame':\t42371 obs. of  25 variables:\n",
      " $ poprank                : Factor w/ 4 levels \"low_popularity\",..: 2 1 1 1 1 1 1 1 1 1 ...\n",
      " $ acousticness           : num  0.394 0.255 0.406 0.887 0.938 0.36 0.881 0.955 0.888 0.93 ...\n",
      " $ danceability           : num  0.484 0.405 0.477 0.319 0.269 0.617 0.644 0.627 0.581 0.442 ...\n",
      " $ duration_ms            : int  160187 141987 157093 187333 236800 114987 313093 295093 183440 147907 ...\n",
      " $ energy                 : num  0.265 0.365 0.352 0.201 0.129 0.711 0.212 0.184 0.331 0.399 ...\n",
      " $ explicit               : int  0 0 0 0 0 0 0 0 0 0 ...\n",
      " $ instrumentalness       : num  0.00 4.68e-06 0.00 0.00 4.87e-06 1.59e-06 2.22e-05 1.62e-04 1.50e-05 4.99e-04 ...\n",
      " $ key                    : int  0 6 1 7 7 9 11 1 6 6 ...\n",
      " $ liveness               : num  0.149 0.163 0.122 0.904 0.683 0.0841 0.798 0.0986 0.147 0.912 ...\n",
      " $ loudness               : num  -11.1 -10.2 -14.2 -17.8 -18.2 ...\n",
      " $ mode                   : int  1 0 1 1 0 1 1 1 1 1 ...\n",
      " $ speechiness            : num  0.0322 0.0289 0.03 0.0623 0.0576 0.0297 0.0347 0.045 0.243 0.078 ...\n",
      " $ tempo                  : num  113.6 104.5 106.8 117.2 82.3 ...\n",
      " $ valence                : num  0.285 0.588 0.478 0.239 0.16 0.963 0.441 0.299 0.642 0.554 ...\n",
      " $ year                   : num  8 8 8 18 18 8 20 20 20 20 ...\n",
      " $ language.english       : num  0 0 1 1 0 0 0 1 0 1 ...\n",
      " $ language.catalan       : num  0 0 0 0 0 0 1 0 1 0 ...\n",
      " $ language.german        : num  0 0 0 0 0 0 0 0 0 0 ...\n",
      " $ language.frisian       : num  0 0 0 0 0 0 0 0 0 0 ...\n",
      " $ language.welsh         : num  0 0 0 0 0 0 0 0 0 0 ...\n",
      " $ artist.number          : int  1 1 1 1 1 1 1 1 1 1 ...\n",
      " $ artist.rank_sum        : num  2143 2143 2143 22115 22115 ...\n",
      " $ artist.trackcount      : num  183 183 183 773 773 183 120 120 120 120 ...\n",
      " $ artist.trackrankedcount: num  182 182 182 773 773 182 120 120 120 120 ...\n",
      " $ artist.rank_mean       : num  11.8 11.8 11.8 28.6 28.6 ...\n"
     ]
    }
   ],
   "source": [
    "selected.features <- c('poprank', intersect.features)\n",
    "target.subset_class.poprank <- target.subset[,selected.features]\n",
    "str(target.subset_class.poprank)"
   ]
  },
  {
   "cell_type": "code",
   "execution_count": 348,
   "metadata": {},
   "outputs": [],
   "source": [
    "write.csv(target.subset_class.poprank,file = \"../data/target_class_poprank.csv\", row.names=FALSE)"
   ]
  },
  {
   "cell_type": "code",
   "execution_count": 345,
   "metadata": {},
   "outputs": [
    {
     "name": "stdout",
     "output_type": "stream",
     "text": [
      "'data.frame':\t42371 obs. of  25 variables:\n",
      " $ popularity             : int  55 39 34 27 26 30 19 19 19 19 ...\n",
      " $ acousticness           : num  0.394 0.255 0.406 0.887 0.938 0.36 0.881 0.955 0.888 0.93 ...\n",
      " $ danceability           : num  0.484 0.405 0.477 0.319 0.269 0.617 0.644 0.627 0.581 0.442 ...\n",
      " $ duration_ms            : int  160187 141987 157093 187333 236800 114987 313093 295093 183440 147907 ...\n",
      " $ energy                 : num  0.265 0.365 0.352 0.201 0.129 0.711 0.212 0.184 0.331 0.399 ...\n",
      " $ explicit               : int  0 0 0 0 0 0 0 0 0 0 ...\n",
      " $ instrumentalness       : num  0.00 4.68e-06 0.00 0.00 4.87e-06 1.59e-06 2.22e-05 1.62e-04 1.50e-05 4.99e-04 ...\n",
      " $ key                    : int  0 6 1 7 7 9 11 1 6 6 ...\n",
      " $ liveness               : num  0.149 0.163 0.122 0.904 0.683 0.0841 0.798 0.0986 0.147 0.912 ...\n",
      " $ loudness               : num  -11.1 -10.2 -14.2 -17.8 -18.2 ...\n",
      " $ mode                   : int  1 0 1 1 0 1 1 1 1 1 ...\n",
      " $ speechiness            : num  0.0322 0.0289 0.03 0.0623 0.0576 0.0297 0.0347 0.045 0.243 0.078 ...\n",
      " $ tempo                  : num  113.6 104.5 106.8 117.2 82.3 ...\n",
      " $ valence                : num  0.285 0.588 0.478 0.239 0.16 0.963 0.441 0.299 0.642 0.554 ...\n",
      " $ year                   : num  8 8 8 18 18 8 20 20 20 20 ...\n",
      " $ language.english       : num  0 0 1 1 0 0 0 1 0 1 ...\n",
      " $ language.catalan       : num  0 0 0 0 0 0 1 0 1 0 ...\n",
      " $ language.german        : num  0 0 0 0 0 0 0 0 0 0 ...\n",
      " $ language.frisian       : num  0 0 0 0 0 0 0 0 0 0 ...\n",
      " $ language.welsh         : num  0 0 0 0 0 0 0 0 0 0 ...\n",
      " $ artist.number          : int  1 1 1 1 1 1 1 1 1 1 ...\n",
      " $ artist.rank_sum        : num  2143 2143 2143 22115 22115 ...\n",
      " $ artist.trackcount      : num  183 183 183 773 773 183 120 120 120 120 ...\n",
      " $ artist.trackrankedcount: num  182 182 182 773 773 182 120 120 120 120 ...\n",
      " $ artist.rank_mean       : num  11.8 11.8 11.8 28.6 28.6 ...\n"
     ]
    }
   ],
   "source": [
    "selected.features <- c('popularity', intersect.features)\n",
    "target.subset_numeric.popularity <- target.subset[,selected.features]\n",
    "str(target.subset_numeric.popularity)"
   ]
  },
  {
   "cell_type": "code",
   "execution_count": 347,
   "metadata": {},
   "outputs": [],
   "source": [
    "write.csv(target.subset_numeric.popularity,file = \"../data/target_numeric_popularity.csv\", row.names=FALSE)"
   ]
  },
  {
   "cell_type": "code",
   "execution_count": 300,
   "metadata": {},
   "outputs": [
    {
     "data": {
      "text/html": [
       "42371"
      ],
      "text/latex": [
       "42371"
      ],
      "text/markdown": [
       "42371"
      ],
      "text/plain": [
       "[1] 42371"
      ]
     },
     "metadata": {},
     "output_type": "display_data"
    },
    {
     "ename": "ERROR",
     "evalue": "Error in sample.int(length(x), size, replace, prob): cannot take a sample larger than the population when 'replace = FALSE'\n",
     "output_type": "error",
     "traceback": [
      "Error in sample.int(length(x), size, replace, prob): cannot take a sample larger than the population when 'replace = FALSE'\nTraceback:\n",
      "1. sample(target.subset, size = 0.75 * data_size, replace = FALSE)",
      "2. x[sample.int(length(x), size, replace, prob)]",
      "3. `[.data.frame`(x, sample.int(length(x), size, replace, prob))",
      "4. sample.int(length(x), size, replace, prob)"
     ]
    }
   ],
   "source": [
    "# Split Data\n",
    "set.seed(123)\n",
    "data_size <- nrow(target.subset)\n",
    "data_size\n",
    "train_index = sample(target.subset, size = 0.75*data_size, replace = FALSE)\n",
    "# target.subset_train <- target.subset[train_index,]\n",
    "# target.subset_train$type ='train'\n",
    "# target.subset_test <- target.subset[-train_index,]\n",
    "# target.subset_test$type = 'test'\n",
    "# str(target.subset_test)"
   ]
  },
  {
   "cell_type": "code",
   "execution_count": 299,
   "metadata": {},
   "outputs": [],
   "source": [
    "write.csv(target.subset_selected,file = \"../data/target_dataset.csv\")"
   ]
  },
  {
   "cell_type": "code",
   "execution_count": null,
   "metadata": {},
   "outputs": [],
   "source": []
  }
 ],
 "metadata": {
  "kernelspec": {
   "display_name": "R",
   "language": "R",
   "name": "ir"
  },
  "language_info": {
   "codemirror_mode": "r",
   "file_extension": ".r",
   "mimetype": "text/x-r-source",
   "name": "R",
   "pygments_lexer": "r",
   "version": "4.0.2"
  }
 },
 "nbformat": 4,
 "nbformat_minor": 4
}
