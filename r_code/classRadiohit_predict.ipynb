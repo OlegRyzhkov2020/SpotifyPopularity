{
 "cells": [
  {
   "cell_type": "markdown",
   "metadata": {},
   "source": [
    "---\n",
    "title: \"Spotify Project\"\n",
    "subtitle: \"Class prediction model\"\n",
    "author: \"Oleg Ryzhkov (oryzhkov@chicagobooth.edu)\"\n",
    "date: March 14, 2021\n",
    "output: CART class prediction \n",
    "---"
   ]
  },
  {
   "cell_type": "code",
   "execution_count": 2,
   "metadata": {},
   "outputs": [],
   "source": [
    "library(Hmisc)\n",
    "library(caret) \n",
    "library(purrr)\n",
    "library(dplyr)\n",
    "library(mboost)\n",
    "library(kernlab)\n",
    "library(caTools)\n",
    "library(randomForest)\n",
    "library(pROC) # for AUC calculations\n",
    "library(dplyr) # for data manipulation\n",
    "library(DMwR)   # for smote implementation"
   ]
  },
  {
   "cell_type": "code",
   "execution_count": 3,
   "metadata": {},
   "outputs": [
    {
     "data": {
      "text/plain": [
       "\n",
       "    0     1 \n",
       "42211   160 "
      ]
     },
     "metadata": {},
     "output_type": "display_data"
    }
   ],
   "source": [
    "# Load dataset and look at class proportion\n",
    "target.subset <- read.csv('../data/target_class_radiohit.csv')\n",
    "table(target.subset$radio.hit)"
   ]
  },
  {
   "cell_type": "code",
   "execution_count": 4,
   "metadata": {},
   "outputs": [
    {
     "name": "stdout",
     "output_type": "stream",
     "text": [
      "'data.frame':\t42371 obs. of  25 variables:\n",
      " $ radio.hit              : Factor w/ 2 levels \"Class_0\",\"Class_1\": 1 1 1 1 1 1 1 1 1 1 ...\n",
      " $ acousticness           : num  0.394 0.255 0.406 0.887 0.938 0.36 0.881 0.955 0.888 0.93 ...\n",
      " $ danceability           : num  0.484 0.405 0.477 0.319 0.269 0.617 0.644 0.627 0.581 0.442 ...\n",
      " $ duration_ms            : int  160187 141987 157093 187333 236800 114987 313093 295093 183440 147907 ...\n",
      " $ energy                 : num  0.265 0.365 0.352 0.201 0.129 0.711 0.212 0.184 0.331 0.399 ...\n",
      " $ explicit               : int  0 0 0 0 0 0 0 0 0 0 ...\n",
      " $ instrumentalness       : num  0.00 4.68e-06 0.00 0.00 4.87e-06 1.59e-06 2.22e-05 1.62e-04 1.50e-05 4.99e-04 ...\n",
      " $ key                    : int  0 6 1 7 7 9 11 1 6 6 ...\n",
      " $ liveness               : num  0.149 0.163 0.122 0.904 0.683 0.0841 0.798 0.0986 0.147 0.912 ...\n",
      " $ loudness               : num  -11.1 -10.2 -14.2 -17.8 -18.2 ...\n",
      " $ mode                   : int  1 0 1 1 0 1 1 1 1 1 ...\n",
      " $ speechiness            : num  0.0322 0.0289 0.03 0.0623 0.0576 0.0297 0.0347 0.045 0.243 0.078 ...\n",
      " $ tempo                  : num  113.6 104.5 106.8 117.2 82.3 ...\n",
      " $ valence                : num  0.285 0.588 0.478 0.239 0.16 0.963 0.441 0.299 0.642 0.554 ...\n",
      " $ year                   : int  8 8 8 18 18 8 20 20 20 20 ...\n",
      " $ language.english       : int  0 0 1 1 0 0 0 1 0 1 ...\n",
      " $ language.catalan       : int  0 0 0 0 0 0 1 0 1 0 ...\n",
      " $ language.german        : int  0 0 0 0 0 0 0 0 0 0 ...\n",
      " $ language.frisian       : int  0 0 0 0 0 0 0 0 0 0 ...\n",
      " $ language.welsh         : int  0 0 0 0 0 0 0 0 0 0 ...\n",
      " $ artist.number          : int  1 1 1 1 1 1 1 1 1 1 ...\n",
      " $ artist.rank_sum        : int  2143 2143 2143 22115 22115 2143 4154 4154 4154 4154 ...\n",
      " $ artist.trackcount      : int  183 183 183 773 773 183 120 120 120 120 ...\n",
      " $ artist.trackrankedcount: int  182 182 182 773 773 182 120 120 120 120 ...\n",
      " $ artist.rank_mean       : num  11.8 11.8 11.8 28.6 28.6 ...\n"
     ]
    }
   ],
   "source": [
    "target.subset$radio.hit <- as.factor(target.subset$radio.hit)\n",
    "levels(target.subset$radio.hit)[levels(target.subset$radio.hit)==\"0\"] <- \"Class_0\"\n",
    "levels(target.subset$radio.hit)[levels(target.subset$radio.hit)==\"1\"] <- \"Class_1\"\n",
    "str(target.subset)"
   ]
  },
  {
   "cell_type": "code",
   "execution_count": 6,
   "metadata": {},
   "outputs": [
    {
     "data": {
      "text/html": [
       "<style>\n",
       ".list-inline {list-style: none; margin:0; padding: 0}\n",
       ".list-inline>li {display: inline-block}\n",
       ".list-inline>li:not(:last-child)::after {content: \"\\00b7\"; padding: 0 .5ex}\n",
       "</style>\n",
       "<ol class=list-inline><li>'radio.hit'</li><li>'acousticness'</li><li>'danceability'</li><li>'duration_ms'</li><li>'energy'</li><li>'explicit'</li><li>'instrumentalness'</li><li>'key'</li><li>'liveness'</li><li>'loudness'</li><li>'mode'</li><li>'speechiness'</li><li>'tempo'</li><li>'valence'</li><li>'year'</li><li>'language.english'</li><li>'language.catalan'</li><li>'language.german'</li><li>'language.frisian'</li><li>'language.welsh'</li><li>'artist.number'</li><li>'artist.trackcount'</li><li>'artist.trackrankedcount'</li></ol>\n"
      ],
      "text/latex": [
       "\\begin{enumerate*}\n",
       "\\item 'radio.hit'\n",
       "\\item 'acousticness'\n",
       "\\item 'danceability'\n",
       "\\item 'duration\\_ms'\n",
       "\\item 'energy'\n",
       "\\item 'explicit'\n",
       "\\item 'instrumentalness'\n",
       "\\item 'key'\n",
       "\\item 'liveness'\n",
       "\\item 'loudness'\n",
       "\\item 'mode'\n",
       "\\item 'speechiness'\n",
       "\\item 'tempo'\n",
       "\\item 'valence'\n",
       "\\item 'year'\n",
       "\\item 'language.english'\n",
       "\\item 'language.catalan'\n",
       "\\item 'language.german'\n",
       "\\item 'language.frisian'\n",
       "\\item 'language.welsh'\n",
       "\\item 'artist.number'\n",
       "\\item 'artist.trackcount'\n",
       "\\item 'artist.trackrankedcount'\n",
       "\\end{enumerate*}\n"
      ],
      "text/markdown": [
       "1. 'radio.hit'\n",
       "2. 'acousticness'\n",
       "3. 'danceability'\n",
       "4. 'duration_ms'\n",
       "5. 'energy'\n",
       "6. 'explicit'\n",
       "7. 'instrumentalness'\n",
       "8. 'key'\n",
       "9. 'liveness'\n",
       "10. 'loudness'\n",
       "11. 'mode'\n",
       "12. 'speechiness'\n",
       "13. 'tempo'\n",
       "14. 'valence'\n",
       "15. 'year'\n",
       "16. 'language.english'\n",
       "17. 'language.catalan'\n",
       "18. 'language.german'\n",
       "19. 'language.frisian'\n",
       "20. 'language.welsh'\n",
       "21. 'artist.number'\n",
       "22. 'artist.trackcount'\n",
       "23. 'artist.trackrankedcount'\n",
       "\n",
       "\n"
      ],
      "text/plain": [
       " [1] \"radio.hit\"               \"acousticness\"           \n",
       " [3] \"danceability\"            \"duration_ms\"            \n",
       " [5] \"energy\"                  \"explicit\"               \n",
       " [7] \"instrumentalness\"        \"key\"                    \n",
       " [9] \"liveness\"                \"loudness\"               \n",
       "[11] \"mode\"                    \"speechiness\"            \n",
       "[13] \"tempo\"                   \"valence\"                \n",
       "[15] \"year\"                    \"language.english\"       \n",
       "[17] \"language.catalan\"        \"language.german\"        \n",
       "[19] \"language.frisian\"        \"language.welsh\"         \n",
       "[21] \"artist.number\"           \"artist.trackcount\"      \n",
       "[23] \"artist.trackrankedcount\""
      ]
     },
     "metadata": {},
     "output_type": "display_data"
    }
   ],
   "source": [
    "# Drop columns containg artists ranking data\n",
    "artist.rank_mean <- which(colnames(target.subset) == 'artist.rank_mean') # column number 7\n",
    "artist.rank_sum <- which(colnames(target.subset) == 'artist.rank_sum') # column number 7\n",
    "target.subset <- target.subset[,-c(artist.rank_mean, artist.rank_sum)]\n",
    "colnames(target.subset)"
   ]
  },
  {
   "cell_type": "code",
   "execution_count": 7,
   "metadata": {},
   "outputs": [
    {
     "name": "stdout",
     "output_type": "stream",
     "text": [
      "Target subset Radiohit, training data:"
     ]
    },
    {
     "data": {
      "text/plain": [
       "\n",
       "Class_0 Class_1 \n",
       "  25327      96 "
      ]
     },
     "metadata": {},
     "output_type": "display_data"
    },
    {
     "name": "stdout",
     "output_type": "stream",
     "text": [
      "\n",
      "Target subset Radiohit, test data:"
     ]
    },
    {
     "data": {
      "text/plain": [
       "\n",
       "Class_0 Class_1 \n",
       "  16884      64 "
      ]
     },
     "metadata": {},
     "output_type": "display_data"
    }
   ],
   "source": [
    "# Split Data\n",
    "set.seed(123)\n",
    "in.train = createDataPartition(target.subset$radio.hit, p=0.6, list=FALSE)\n",
    "train.df = target.subset[in.train,]\n",
    "cat('Target subset Radiohit, training data:')\n",
    "table(train.df$radio.hit)\n",
    "test.df = target.subset[-in.train,]\n",
    "cat('\\nTarget subset Radiohit, test data:')\n",
    "table(test.df$radio.hit)"
   ]
  },
  {
   "cell_type": "markdown",
   "metadata": {},
   "source": [
    "### Initial Fit"
   ]
  },
  {
   "cell_type": "code",
   "execution_count": 8,
   "metadata": {},
   "outputs": [],
   "source": [
    "# Set up control function for training\n",
    "ctrl <- trainControl(method = \"repeatedcv\",\n",
    "                     number = 5,\n",
    "                     repeats = 1,\n",
    "                     summaryFunction = twoClassSummary,\n",
    "                     search = \"random\",\n",
    "                     classProbs = TRUE)"
   ]
  },
  {
   "cell_type": "code",
   "execution_count": 9,
   "metadata": {},
   "outputs": [
    {
     "data": {
      "text/plain": [
       "Boosted Logistic Regression \n",
       "\n",
       "25423 samples\n",
       "   22 predictor\n",
       "    2 classes: 'Class_0', 'Class_1' \n",
       "\n",
       "No pre-processing\n",
       "Resampling: Cross-Validated (5 fold, repeated 1 times) \n",
       "Summary of sample sizes: 20339, 20339, 20338, 20338, 20338 \n",
       "Resampling results across tuning parameters:\n",
       "\n",
       "  nIter  ROC        Sens       Spec      \n",
       "   1     0.5000000  1.0000000  0.00000000\n",
       "  14     0.8836783  1.0000000  0.00000000\n",
       "  34     0.8742338  0.9998813  0.00000000\n",
       "  39     0.8688479  0.9993288  0.00000000\n",
       "  43     0.8783368  0.9994472  0.01052632\n",
       "  51     0.8581984  0.9994077  0.02052632\n",
       "  59     0.8703341  0.9995262  0.00000000\n",
       "  82     0.8773591  0.9997624  0.00000000\n",
       "  87     0.8811972  0.9994867  0.02000000\n",
       "  97     0.8817618  0.9991708  0.00000000\n",
       "\n",
       "ROC was used to select the optimal model using the largest value.\n",
       "The final value used for the model was nIter = 14."
      ]
     },
     "metadata": {},
     "output_type": "display_data"
    }
   ],
   "source": [
    "# Build a standard classifier using\n",
    "# logistic regression (method LogitBoost)\n",
    "set.seed(1)\n",
    "\n",
    "log_fit.all <- train(radio.hit ~ .,\n",
    "                  data = train.df,\n",
    "                  method = \"LogitBoost\",\n",
    "                  verbose = FALSE,\n",
    "                  metric = \"ROC\",\n",
    "                  trControl = ctrl,\n",
    "                  tuneLength = 10)\n",
    "log_fit.all"
   ]
  },
  {
   "cell_type": "code",
   "execution_count": 10,
   "metadata": {},
   "outputs": [
    {
     "data": {
      "text/plain": [
       "Random Forest \n",
       "\n",
       "25423 samples\n",
       "   22 predictor\n",
       "    2 classes: 'Class_0', 'Class_1' \n",
       "\n",
       "No pre-processing\n",
       "Resampling: Cross-Validated (5 fold, repeated 1 times) \n",
       "Summary of sample sizes: 20339, 20339, 20338, 20338, 20338 \n",
       "Resampling results across tuning parameters:\n",
       "\n",
       "  min.node.size  mtry  splitrule   ROC        Sens       Spec\n",
       "   1              7    extratrees  0.9101371  0.9998026  0   \n",
       "   1             14    extratrees  0.9148824  0.9998815  0   \n",
       "   2              9    extratrees  0.9195640  0.9998815  0   \n",
       "   7             10    extratrees  0.9246590  1.0000000  0   \n",
       "  10              5    gini        0.9188286  1.0000000  0   \n",
       "  11             15    gini        0.8995338  0.9999605  0   \n",
       "  14              5    extratrees  0.9277773  1.0000000  0   \n",
       "  14             21    extratrees  0.9217636  1.0000000  0   \n",
       "  18              5    gini        0.9045757  1.0000000  0   \n",
       "  19              9    gini        0.9078694  1.0000000  0   \n",
       "\n",
       "ROC was used to select the optimal model using the largest value.\n",
       "The final values used for the model were mtry = 5, splitrule = extratrees\n",
       " and min.node.size = 14."
      ]
     },
     "metadata": {},
     "output_type": "display_data"
    }
   ],
   "source": [
    "# Build a standard classifier using ranger\n",
    "set.seed(1)\n",
    "\n",
    "rf_fit.all <- train(radio.hit ~ .,\n",
    "                  data = train.df,\n",
    "                  method = \"ranger\",\n",
    "                  verbose = FALSE,\n",
    "                  metric = \"ROC\",\n",
    "                  trControl = ctrl,\n",
    "                  tuneLength = 10)\n",
    "rf_fit.all"
   ]
  },
  {
   "cell_type": "markdown",
   "metadata": {},
   "source": [
    "### Examine results on test data"
   ]
  },
  {
   "cell_type": "code",
   "execution_count": 11,
   "metadata": {},
   "outputs": [],
   "source": [
    "# Build custom AUC function to extract AUC\n",
    "# from the caret model object\n",
    "test_roc <- function(model, data) {\n",
    "  roc(data$radio.hit,\n",
    "      predict(model, data, type = \"prob\")[, \"Class_1\"])\n",
    "}"
   ]
  },
  {
   "cell_type": "code",
   "execution_count": 12,
   "metadata": {},
   "outputs": [
    {
     "name": "stderr",
     "output_type": "stream",
     "text": [
      "Setting levels: control = Class_0, case = Class_1\n",
      "\n",
      "Setting direction: controls < cases\n",
      "\n",
      "Setting levels: control = Class_0, case = Class_1\n",
      "\n",
      "Setting direction: controls < cases\n",
      "\n"
     ]
    },
    {
     "name": "stdout",
     "output_type": "stream",
     "text": [
      "\n",
      "Initial models, AUC results:\n"
     ]
    },
    {
     "data": {
      "text/html": [
       "<dl>\n",
       "\t<dt>$log_all</dt>\n",
       "\t\t<dd>0.833580423773987</dd>\n",
       "\t<dt>$rf_all</dt>\n",
       "\t\t<dd>0.895992044983416</dd>\n",
       "</dl>\n"
      ],
      "text/latex": [
       "\\begin{description}\n",
       "\\item[\\$log\\_all] 0.833580423773987\n",
       "\\item[\\$rf\\_all] 0.895992044983416\n",
       "\\end{description}\n"
      ],
      "text/markdown": [
       "$log_all\n",
       ":   0.833580423773987\n",
       "$rf_all\n",
       ":   0.895992044983416\n",
       "\n",
       "\n"
      ],
      "text/plain": [
       "$log_all\n",
       "Area under the curve: 0.8336\n",
       "\n",
       "$rf_all\n",
       "Area under the curve: 0.896\n"
      ]
     },
     "metadata": {},
     "output_type": "display_data"
    }
   ],
   "source": [
    "# Examine results for the test set.\n",
    "initial.model_list <- list(\n",
    "                    log_all = log_fit.all,\n",
    "                    rf_all = rf_fit.all)\n",
    "\n",
    "initial.model_list_roc <- initial.model_list %>%\n",
    "  map(test_roc, data = test.df)\n",
    "\n",
    "cat('\\nInitial models, AUC results:\\n')\n",
    "initial.model_list_roc %>% map(auc)"
   ]
  },
  {
   "cell_type": "markdown",
   "metadata": {},
   "source": [
    "### Weighted and sampling methods\n",
    "* incorporating weights into the model can be handled by using the weights argument in the train function\n",
    "* sampling methods can be implemented using the sampling argument in the trainControl function"
   ]
  },
  {
   "cell_type": "code",
   "execution_count": 13,
   "metadata": {},
   "outputs": [
    {
     "data": {
      "text/plain": [
       "Random Forest \n",
       "\n",
       "25423 samples\n",
       "   22 predictor\n",
       "    2 classes: 'Class_0', 'Class_1' \n",
       "\n",
       "No pre-processing\n",
       "Resampling: Cross-Validated (5 fold, repeated 1 times) \n",
       "Summary of sample sizes: 20339, 20338, 20338, 20338, 20339 \n",
       "Addtional sampling using down-sampling\n",
       "\n",
       "Resampling results across tuning parameters:\n",
       "\n",
       "  min.node.size  mtry  splitrule   ROC        Sens       Spec     \n",
       "   6             14    extratrees  0.9369769  0.8450276  0.9368421\n",
       "  10              7    gini        0.9332748  0.8764949  0.8952632\n",
       "  10              9    extratrees  0.9415858  0.8323528  0.9368421\n",
       "  13             18    gini        0.9219097  0.8729021  0.8536842\n",
       "  14             10    gini        0.9266571  0.8751530  0.8963158\n",
       "  16              5    extratrees  0.9365324  0.8200347  0.9263158\n",
       "  17             10    gini        0.9319879  0.8813907  0.8852632\n",
       "  19             12    extratrees  0.9382545  0.8376444  0.8847368\n",
       "  19             20    gini        0.9236845  0.8668224  0.9263158\n",
       "  20              7    extratrees  0.9401012  0.8390651  0.9373684\n",
       "\n",
       "ROC was used to select the optimal model using the largest value.\n",
       "The final values used for the model were mtry = 9, splitrule = extratrees\n",
       " and min.node.size = 10."
      ]
     },
     "metadata": {},
     "output_type": "display_data"
    }
   ],
   "source": [
    "# Build down-sampled model\n",
    "ctrl$sampling <- \"down\"\n",
    "down.all_rf.fit <- train(radio.hit ~ .,\n",
    "                  data = train.df,\n",
    "                  method = \"ranger\",\n",
    "                  verbose = FALSE,\n",
    "                  metric = \"ROC\",\n",
    "                  trControl = ctrl,\n",
    "                  tuneLength = 10)\n",
    "down.all_rf.fit"
   ]
  },
  {
   "cell_type": "code",
   "execution_count": 15,
   "metadata": {},
   "outputs": [
    {
     "data": {
      "text/plain": [
       "Random Forest \n",
       "\n",
       "25423 samples\n",
       "   22 predictor\n",
       "    2 classes: 'Class_0', 'Class_1' \n",
       "\n",
       "No pre-processing\n",
       "Resampling: Cross-Validated (5 fold, repeated 1 times) \n",
       "Summary of sample sizes: 20339, 20339, 20338, 20338, 20338 \n",
       "Addtional sampling using SMOTE\n",
       "\n",
       "Resampling results across tuning parameters:\n",
       "\n",
       "  min.node.size  mtry  splitrule   ROC        Sens       Spec     \n",
       "   1              4    gini        0.9249533  0.9409328  0.7094737\n",
       "   2             13    gini        0.9277407  0.9321675  0.7489474\n",
       "   4              5    extratrees  0.9357343  0.9159398  0.7515789\n",
       "   8              8    gini        0.9337043  0.9393140  0.7305263\n",
       "   9              3    gini        0.9369350  0.9479606  0.6684211\n",
       "  10              6    gini        0.9353640  0.9372607  0.7205263\n",
       "  12              8    gini        0.9254113  0.9421959  0.6778947\n",
       "  16              6    extratrees  0.9365890  0.9134516  0.7405263\n",
       "  18              7    gini        0.9321521  0.9409722  0.7100000\n",
       "  18             14    gini        0.9228507  0.9371427  0.7500000\n",
       "\n",
       "ROC was used to select the optimal model using the largest value.\n",
       "The final values used for the model were mtry = 3, splitrule = gini\n",
       " and min.node.size = 9."
      ]
     },
     "metadata": {},
     "output_type": "display_data"
    }
   ],
   "source": [
    "# Build smote model\n",
    "ctrl$sampling <- \"smote\"\n",
    "smote.all_rf.fit <- train(radio.hit ~ .,\n",
    "                   data = train.df,\n",
    "                  method = \"ranger\",\n",
    "                  verbose = FALSE,\n",
    "                  metric = \"ROC\",\n",
    "                  trControl = ctrl,\n",
    "                  tuneLength = 10)\n",
    "smote.all_rf.fit"
   ]
  },
  {
   "cell_type": "code",
   "execution_count": 16,
   "metadata": {},
   "outputs": [
    {
     "name": "stderr",
     "output_type": "stream",
     "text": [
      "Setting levels: control = Class_0, case = Class_1\n",
      "\n",
      "Setting direction: controls < cases\n",
      "\n",
      "Setting levels: control = Class_0, case = Class_1\n",
      "\n",
      "Setting direction: controls < cases\n",
      "\n",
      "Setting levels: control = Class_0, case = Class_1\n",
      "\n",
      "Setting direction: controls < cases\n",
      "\n",
      "Setting levels: control = Class_0, case = Class_1\n",
      "\n",
      "Setting direction: controls < cases\n",
      "\n"
     ]
    },
    {
     "name": "stdout",
     "output_type": "stream",
     "text": [
      "\n",
      "Selected models, AUC results:\n"
     ]
    },
    {
     "data": {
      "text/html": [
       "<dl>\n",
       "\t<dt>$log_all</dt>\n",
       "\t\t<dd>0.833580423773987</dd>\n",
       "\t<dt>$rf_all</dt>\n",
       "\t\t<dd>0.895992044983416</dd>\n",
       "\t<dt>$down_sample_rf</dt>\n",
       "\t\t<dd>0.916219682835821</dd>\n",
       "\t<dt>$smote_sample_rf</dt>\n",
       "\t\t<dd>0.921494647299218</dd>\n",
       "</dl>\n"
      ],
      "text/latex": [
       "\\begin{description}\n",
       "\\item[\\$log\\_all] 0.833580423773987\n",
       "\\item[\\$rf\\_all] 0.895992044983416\n",
       "\\item[\\$down\\_sample\\_rf] 0.916219682835821\n",
       "\\item[\\$smote\\_sample\\_rf] 0.921494647299218\n",
       "\\end{description}\n"
      ],
      "text/markdown": [
       "$log_all\n",
       ":   0.833580423773987\n",
       "$rf_all\n",
       ":   0.895992044983416\n",
       "$down_sample_rf\n",
       ":   0.916219682835821\n",
       "$smote_sample_rf\n",
       ":   0.921494647299218\n",
       "\n",
       "\n"
      ],
      "text/plain": [
       "$log_all\n",
       "Area under the curve: 0.8336\n",
       "\n",
       "$rf_all\n",
       "Area under the curve: 0.896\n",
       "\n",
       "$down_sample_rf\n",
       "Area under the curve: 0.9162\n",
       "\n",
       "$smote_sample_rf\n",
       "Area under the curve: 0.9215\n"
      ]
     },
     "metadata": {},
     "output_type": "display_data"
    }
   ],
   "source": [
    "# Examine results for the test set.\n",
    "selected.model_list <- list(\n",
    "                    log_all = log_fit.all,\n",
    "                    rf_all = rf_fit.all,\n",
    "                    down_sample_rf = down.all_rf.fit,\n",
    "                    smote_sample_rf = smote.all_rf.fit)\n",
    "\n",
    "selected.model_list_roc <- selected.model_list %>%\n",
    "  map(test_roc, data = test.df)\n",
    "\n",
    "cat('\\nSelected models, AUC results:\\n')\n",
    "selected.model_list_roc %>% map(auc)"
   ]
  },
  {
   "cell_type": "code",
   "execution_count": 24,
   "metadata": {},
   "outputs": [],
   "source": [
    "all.results_list_roc <- list(NA)\n",
    "num_mod <- 1\n",
    "\n",
    "for(the_roc in selected.model_list_roc){\n",
    "  all.results_list_roc[[num_mod]] <- \n",
    "    tibble(tpr = the_roc$sensitivities,\n",
    "               fpr = 1 - the_roc$specificities,\n",
    "               Selected_models = names(selected.model_list)[num_mod])\n",
    "  num_mod <- num_mod + 1\n",
    "}"
   ]
  },
  {
   "cell_type": "code",
   "execution_count": 25,
   "metadata": {},
   "outputs": [
    {
     "data": {
      "image/png": "[encoded data removed]",
      "text/plain": [
       "plot without title"
      ]
     },
     "metadata": {
      "image/png": {
       "height": 420,
       "width": 420
      }
     },
     "output_type": "display_data"
    }
   ],
   "source": [
    "all.results_df_roc <- bind_rows(all.results_list_roc)\n",
    "nmethod = length(selected.model_list)\n",
    "# Plot ROC curve for all models\n",
    "custom_col <- c(\"#000000\", \"#009E73\", \"#0072B2\", \"#D55E00\")\n",
    "\n",
    "ggplot(aes(x = fpr,  y = tpr, group = Selected_models), data = all.results_df_roc) +\n",
    "  geom_line(aes(color = Selected_models), size = 1) +\n",
    "  scale_color_manual(values = custom_col) +\n",
    "  geom_abline(intercept = 0, slope = 1, color = \"gray\", size = 1) +\n",
    "  theme_bw(base_size = 18)\n",
    "# legend(\"bottomright\",legend=names(rfSelected.model_list),col=1:nmethod,lty=rep(1,nmethod), lwd=2)"
   ]
  },
  {
   "cell_type": "code",
   "execution_count": 31,
   "metadata": {},
   "outputs": [
    {
     "data": {
      "text/plain": [
       "       Actual\n",
       "Predict     0     1\n",
       "      0 15965    23\n",
       "      1   919    41"
      ]
     },
     "metadata": {},
     "output_type": "display_data"
    }
   ],
   "source": [
    "# Confusion matrix for the best model\n",
    "predict.test <- predict(smote.all_rf.fit, test.df)\n",
    "actual.test <- test.df$radio.hit\n",
    "tb_smote <- table(Predict=predict.test, Actual = actual.test)\n",
    "rownames(tb_smote) = c(\"0\", \"1\")\n",
    "colnames(tb_smote) = c(\"0\", \"1\")\n",
    "tb_smote"
   ]
  },
  {
   "cell_type": "code",
   "execution_count": null,
   "metadata": {},
   "outputs": [],
   "source": []
  }
 ],
 "metadata": {
  "kernelspec": {
   "display_name": "R",
   "language": "R",
   "name": "ir"
  },
  "language_info": {
   "codemirror_mode": "r",
   "file_extension": ".r",
   "mimetype": "text/x-r-source",
   "name": "R",
   "pygments_lexer": "r",
   "version": "4.0.2"
  }
 },
 "nbformat": 4,
 "nbformat_minor": 4
}
