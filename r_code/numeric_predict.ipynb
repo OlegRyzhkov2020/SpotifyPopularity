{
 "cells": [
  {
   "cell_type": "markdown",
   "metadata": {},
   "source": [
    "---\n",
    "title: \"Spotify Project\"\n",
    "subtitle: \"Numeric prediction model\"\n",
    "author: \"Oleg Ryzhkov (oryzhkov@chicagobooth.edu)\"\n",
    "date: March 13, 2021\n",
    "output: neural network model \n",
    "---"
   ]
  },
  {
   "cell_type": "markdown",
   "metadata": {},
   "source": [
    "Load the H2O R package.\n",
    "\n",
    "- R installation instructions are at http://h2o.ai/download  "
   ]
  },
  {
   "cell_type": "code",
   "execution_count": 3,
   "metadata": {},
   "outputs": [],
   "source": [
    "library(h2o)"
   ]
  },
  {
   "cell_type": "code",
   "execution_count": 4,
   "metadata": {},
   "outputs": [
    {
     "name": "stdout",
     "output_type": "stream",
     "text": [
      " Connection successful!\n",
      "\n",
      "R is connected to the H2O cluster: \n",
      "    H2O cluster uptime:         7 days 12 hours \n",
      "    H2O cluster timezone:       America/Chicago \n",
      "    H2O data parsing timezone:  UTC \n",
      "    H2O cluster version:        3.32.0.1 \n",
      "    H2O cluster version age:    5 months and 4 days !!! \n",
      "    H2O cluster name:           H2O_started_from_R_olegryzhkov_tpd759 \n",
      "    H2O cluster total nodes:    1 \n",
      "    H2O cluster total memory:   1.71 GB \n",
      "    H2O cluster total cores:    8 \n",
      "    H2O cluster allowed cores:  1 \n",
      "    H2O cluster healthy:        TRUE \n",
      "    H2O Connection ip:          localhost \n",
      "    H2O Connection port:        54321 \n",
      "    H2O Connection proxy:       NA \n",
      "    H2O Internal Security:      FALSE \n",
      "    H2O API Extensions:         Amazon S3, XGBoost, Algos, AutoML, Core V3, TargetEncoder, Core V4 \n",
      "    R Version:                  R version 4.0.2 (2020-06-22) \n"
     ]
    },
    {
     "name": "stderr",
     "output_type": "stream",
     "text": [
      "Warning message in h2o.clusterInfo():\n",
      "“\n",
      "Your H2O cluster version is too old (5 months and 4 days)!\n",
      "Please download and install the latest version from http://h2o.ai/download/”\n"
     ]
    },
    {
     "name": "stdout",
     "output_type": "stream",
     "text": [
      "\n"
     ]
    }
   ],
   "source": [
    "# Start up a 1-node H2O server on your local machine, \n",
    "# and allow it to use all CPU cores and up to 8GB of memory.\n",
    "\n",
    "h2o.init(nthreads=-1, max_mem_size=\"8G\")\n",
    "h2o.no_progress()"
   ]
  },
  {
   "cell_type": "markdown",
   "metadata": {},
   "source": [
    "The `h2o.deeplearning` function fits H2O's \n",
    "Deep Learning models from within R.\n",
    "```{r}\n",
    "help(h2o.deeplearning)\n",
    "```\n",
    "\n",
    "While H2O Deep Learning has many parameters, it is quite easy to use.\n",
    "Most often we can use the default parameters for many of the inputs.\n",
    "We should change the following parameters:\n",
    "\n",
    "- the number and sizes of hidden layers;\n",
    "- the number of epochs and the activation function;\n",
    "- add some regularization technique.\n",
    "  \n",
    "  \n",
    "We will apply it to `target_numeric_popularity` data, which\n",
    "we got cleaning and transforming the original dataset."
   ]
  },
  {
   "cell_type": "code",
   "execution_count": 15,
   "metadata": {},
   "outputs": [
    {
     "data": {
      "text/html": [
       "<style>\n",
       ".list-inline {list-style: none; margin:0; padding: 0}\n",
       ".list-inline>li {display: inline-block}\n",
       ".list-inline>li:not(:last-child)::after {content: \"\\00b7\"; padding: 0 .5ex}\n",
       "</style>\n",
       "<ol class=list-inline><li>795</li><li>3</li></ol>\n"
      ],
      "text/latex": [
       "\\begin{enumerate*}\n",
       "\\item 795\n",
       "\\item 3\n",
       "\\end{enumerate*}\n"
      ],
      "text/markdown": [
       "1. 795\n",
       "2. 3\n",
       "\n",
       "\n"
      ],
      "text/plain": [
       "[1] 795   3"
      ]
     },
     "metadata": {},
     "output_type": "display_data"
    },
    {
     "data": {
      "text/html": [
       "<table>\n",
       "<caption>A data.frame: 6 × 3</caption>\n",
       "<thead>\n",
       "\t<tr><th></th><th scope=col>C1</th><th scope=col>C2</th><th scope=col>C3</th></tr>\n",
       "\t<tr><th></th><th scope=col>&lt;fct&gt;</th><th scope=col>&lt;fct&gt;</th><th scope=col>&lt;fct&gt;</th></tr>\n",
       "</thead>\n",
       "<tbody>\n",
       "\t<tr><th scope=row>1</th><td>&lt;!DOCTYPE</td><td><span style=white-space:pre-wrap>html&gt;             </span></td><td><span style=white-space:pre-wrap>NA                                           </span></td></tr>\n",
       "\t<tr><th scope=row>2</th><td><span style=white-space:pre-wrap>&lt;html    </span></td><td><span style=white-space:pre-wrap>lang=\"en\"         </span></td><td><span style=white-space:pre-wrap>&gt;                                            </span></td></tr>\n",
       "\t<tr><th scope=row>3</th><td><span style=white-space:pre-wrap>&lt;head&gt;   </span></td><td><span style=white-space:pre-wrap>NA                </span></td><td><span style=white-space:pre-wrap>NA                                           </span></td></tr>\n",
       "\t<tr><th scope=row>4</th><td><span style=white-space:pre-wrap>&lt;meta    </span></td><td><span style=white-space:pre-wrap>charset=\"utf-8\"&gt;  </span></td><td><span style=white-space:pre-wrap>NA                                           </span></td></tr>\n",
       "\t<tr><th scope=row>5</th><td><span style=white-space:pre-wrap>&lt;link    </span></td><td>rel=\"dns-prefetch\"</td><td><span style=white-space:pre-wrap>href=\"https://github.githubassets.com\"&gt;      </span></td></tr>\n",
       "\t<tr><th scope=row>6</th><td><span style=white-space:pre-wrap>&lt;link    </span></td><td>rel=\"dns-prefetch\"</td><td>href=\"https://avatars.githubusercontent.com\"&gt;</td></tr>\n",
       "</tbody>\n",
       "</table>\n"
      ],
      "text/latex": [
       "A data.frame: 6 × 3\n",
       "\\begin{tabular}{r|lll}\n",
       "  & C1 & C2 & C3\\\\\n",
       "  & <fct> & <fct> & <fct>\\\\\n",
       "\\hline\n",
       "\t1 & <!DOCTYPE & html>              & NA                                           \\\\\n",
       "\t2 & <html     & lang=\"en\"          & >                                            \\\\\n",
       "\t3 & <head>    & NA                 & NA                                           \\\\\n",
       "\t4 & <meta     & charset=\"utf-8\">   & NA                                           \\\\\n",
       "\t5 & <link     & rel=\"dns-prefetch\" & href=\"https://github.githubassets.com\">      \\\\\n",
       "\t6 & <link     & rel=\"dns-prefetch\" & href=\"https://avatars.githubusercontent.com\">\\\\\n",
       "\\end{tabular}\n"
      ],
      "text/markdown": [
       "\n",
       "A data.frame: 6 × 3\n",
       "\n",
       "| <!--/--> | C1 &lt;fct&gt; | C2 &lt;fct&gt; | C3 &lt;fct&gt; |\n",
       "|---|---|---|---|\n",
       "| 1 | &lt;!DOCTYPE | html&gt;              | NA                                            |\n",
       "| 2 | &lt;html     | lang=\"en\"          | &gt;                                             |\n",
       "| 3 | &lt;head&gt;    | NA                 | NA                                            |\n",
       "| 4 | &lt;meta     | charset=\"utf-8\"&gt;   | NA                                            |\n",
       "| 5 | &lt;link     | rel=\"dns-prefetch\" | href=\"https://github.githubassets.com\"&gt;       |\n",
       "| 6 | &lt;link     | rel=\"dns-prefetch\" | href=\"https://avatars.githubusercontent.com\"&gt; |\n",
       "\n"
      ],
      "text/plain": [
       "  C1        C2                 C3                                           \n",
       "1 <!DOCTYPE html>              NA                                           \n",
       "2 <html     lang=\"en\"          >                                            \n",
       "3 <head>    NA                 NA                                           \n",
       "4 <meta     charset=\"utf-8\">   NA                                           \n",
       "5 <link     rel=\"dns-prefetch\" href=\"https://github.githubassets.com\">      \n",
       "6 <link     rel=\"dns-prefetch\" href=\"https://avatars.githubusercontent.com\">"
      ]
     },
     "metadata": {},
     "output_type": "display_data"
    }
   ],
   "source": [
    "# download the file if it does not exist\n",
    "# if (!file.exists(\"target_numeric_popularity.csv\"))\n",
    "#   download.file('https://github.com/OlegRyzhkov2020/SpotifyPopularity/blob/main/data/target_numeric_popularity.csv', 'target_numeric_popularity.csv')\n",
    "\n",
    "target.df <- h2o.importFile('https://github.com/OlegRyzhkov2020/SpotifyPopularity/blob/main/data/target_numeric_popularity.csv') \n",
    "dim(target.df)\n",
    "head(target.df)"
   ]
  },
  {
   "cell_type": "code",
   "execution_count": 16,
   "metadata": {},
   "outputs": [
    {
     "name": "stdout",
     "output_type": "stream",
     "text": [
      "Class 'H2OFrame' <environment: 0x7fe304039190> \n",
      " - attr(*, \"op\")= chr \"Parse\"\n",
      " - attr(*, \"id\")= chr \"target_numeric_popularity.hex_sid_9f3c_3\"\n",
      " - attr(*, \"eval\")= logi FALSE\n",
      " - attr(*, \"nrow\")= int 795\n",
      " - attr(*, \"ncol\")= int 3\n",
      " - attr(*, \"types\")=List of 3\n",
      "  ..$ : chr \"enum\"\n",
      "  ..$ : chr \"enum\"\n",
      "  ..$ : chr \"enum\"\n",
      " - attr(*, \"data\")='data.frame':\t10 obs. of  3 variables:\n",
      "  ..$ C1: Factor w/ 174 levels \"\\n            data-targets=\",..: 8 57 55 68 66 66 66 66 66 66\n",
      "  ..$ C2: Factor w/ 258 levels \"\\n    data-commit-hovercards-enabled\\n    data-discussion-hovercards-enabled\\n    data-issue-and-pr-hovercards-\"| __truncated__,..: 175 190 NA 25 226 226 226 226 119 119\n",
      "  ..$ C3: Factor w/ 262 levels \"#79b8ff;width:\",..: NA 5 NA NA 158 148 151 164 192 192\n"
     ]
    }
   ],
   "source": [
    "str(target.df)"
   ]
  },
  {
   "cell_type": "code",
   "execution_count": null,
   "metadata": {},
   "outputs": [],
   "source": []
  }
 ],
 "metadata": {
  "kernelspec": {
   "display_name": "R",
   "language": "R",
   "name": "ir"
  },
  "language_info": {
   "codemirror_mode": "r",
   "file_extension": ".r",
   "mimetype": "text/x-r-source",
   "name": "R",
   "pygments_lexer": "r",
   "version": "4.0.2"
  }
 },
 "nbformat": 4,
 "nbformat_minor": 4
}
