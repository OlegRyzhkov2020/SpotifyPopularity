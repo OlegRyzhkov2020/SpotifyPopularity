{
 "cells": [
  {
   "cell_type": "markdown",
   "metadata": {},
   "source": [
    "---\n",
    "title: \"Spotify Project\"\n",
    "subtitle: \"Numeric prediction model\"\n",
    "author: \"Oleg Ryzhkov (oryzhkov@chicagobooth.edu)\"\n",
    "date: March 13, 2021\n",
    "output: neural network model numeric prediction \n",
    "---"
   ]
  },
  {
   "cell_type": "markdown",
   "metadata": {},
   "source": [
    "Load the H2O R package.\n",
    "\n",
    "- R installation instructions are at http://h2o.ai/download  "
   ]
  },
  {
   "cell_type": "code",
   "execution_count": 2,
   "metadata": {},
   "outputs": [],
   "source": [
    "library(h2o)"
   ]
  },
  {
   "cell_type": "code",
   "execution_count": 3,
   "metadata": {},
   "outputs": [
    {
     "name": "stdout",
     "output_type": "stream",
     "text": [
      " Connection successful!\n",
      "\n",
      "R is connected to the H2O cluster: \n",
      "    H2O cluster uptime:         7 days 12 hours \n",
      "    H2O cluster timezone:       America/Chicago \n",
      "    H2O data parsing timezone:  UTC \n",
      "    H2O cluster version:        3.32.0.1 \n",
      "    H2O cluster version age:    5 months and 4 days !!! \n",
      "    H2O cluster name:           H2O_started_from_R_olegryzhkov_tpd759 \n",
      "    H2O cluster total nodes:    1 \n",
      "    H2O cluster total memory:   1.71 GB \n",
      "    H2O cluster total cores:    8 \n",
      "    H2O cluster allowed cores:  1 \n",
      "    H2O cluster healthy:        TRUE \n",
      "    H2O Connection ip:          localhost \n",
      "    H2O Connection port:        54321 \n",
      "    H2O Connection proxy:       NA \n",
      "    H2O Internal Security:      FALSE \n",
      "    H2O API Extensions:         Amazon S3, XGBoost, Algos, AutoML, Core V3, TargetEncoder, Core V4 \n",
      "    R Version:                  R version 4.0.2 (2020-06-22) \n"
     ]
    },
    {
     "name": "stderr",
     "output_type": "stream",
     "text": [
      "Warning message in h2o.clusterInfo():\n",
      "“\n",
      "Your H2O cluster version is too old (5 months and 4 days)!\n",
      "Please download and install the latest version from http://h2o.ai/download/”\n"
     ]
    },
    {
     "name": "stdout",
     "output_type": "stream",
     "text": [
      "\n"
     ]
    }
   ],
   "source": [
    "# Start up a 1-node H2O server on your local machine, \n",
    "# and allow it to use all CPU cores and up to 8GB of memory.\n",
    "\n",
    "h2o.init(nthreads=-1, max_mem_size=\"8G\")\n",
    "h2o.no_progress()"
   ]
  },
  {
   "cell_type": "markdown",
   "metadata": {},
   "source": [
    "The `h2o.deeplearning` function fits H2O's \n",
    "Deep Learning models from within R.\n",
    "```{r}\n",
    "help(h2o.deeplearning)\n",
    "```\n",
    "\n",
    "While H2O Deep Learning has many parameters, it is quite easy to use.\n",
    "Most often we can use the default parameters for many of the inputs.\n",
    "We should change the following parameters:\n",
    "\n",
    "- the number and sizes of hidden layers;\n",
    "- the number of epochs and the activation function;\n",
    "- add some regularization technique.\n",
    "  \n",
    "  \n",
    "We will apply it to `target_numeric_popularity` data, which\n",
    "we got cleaning and transforming the original dataset."
   ]
  },
  {
   "cell_type": "code",
   "execution_count": 39,
   "metadata": {},
   "outputs": [
    {
     "data": {
      "text/html": [
       "<style>\n",
       ".list-inline {list-style: none; margin:0; padding: 0}\n",
       ".list-inline>li {display: inline-block}\n",
       ".list-inline>li:not(:last-child)::after {content: \"\\00b7\"; padding: 0 .5ex}\n",
       "</style>\n",
       "<ol class=list-inline><li>42371</li><li>25</li></ol>\n"
      ],
      "text/latex": [
       "\\begin{enumerate*}\n",
       "\\item 42371\n",
       "\\item 25\n",
       "\\end{enumerate*}\n"
      ],
      "text/markdown": [
       "1. 42371\n",
       "2. 25\n",
       "\n",
       "\n"
      ],
      "text/plain": [
       "[1] 42371    25"
      ]
     },
     "metadata": {},
     "output_type": "display_data"
    },
    {
     "data": {
      "text/html": [
       "<table>\n",
       "<caption>A data.frame: 6 × 25</caption>\n",
       "<thead>\n",
       "\t<tr><th></th><th scope=col>popularity</th><th scope=col>acousticness</th><th scope=col>danceability</th><th scope=col>duration_ms</th><th scope=col>energy</th><th scope=col>explicit</th><th scope=col>instrumentalness</th><th scope=col>key</th><th scope=col>liveness</th><th scope=col>loudness</th><th scope=col>⋯</th><th scope=col>language.english</th><th scope=col>language.catalan</th><th scope=col>language.german</th><th scope=col>language.frisian</th><th scope=col>language.welsh</th><th scope=col>artist.number</th><th scope=col>artist.rank_sum</th><th scope=col>artist.trackcount</th><th scope=col>artist.trackrankedcount</th><th scope=col>artist.rank_mean</th></tr>\n",
       "\t<tr><th></th><th scope=col>&lt;dbl&gt;</th><th scope=col>&lt;dbl&gt;</th><th scope=col>&lt;dbl&gt;</th><th scope=col>&lt;dbl&gt;</th><th scope=col>&lt;dbl&gt;</th><th scope=col>&lt;dbl&gt;</th><th scope=col>&lt;dbl&gt;</th><th scope=col>&lt;dbl&gt;</th><th scope=col>&lt;dbl&gt;</th><th scope=col>&lt;dbl&gt;</th><th scope=col>⋯</th><th scope=col>&lt;dbl&gt;</th><th scope=col>&lt;dbl&gt;</th><th scope=col>&lt;dbl&gt;</th><th scope=col>&lt;dbl&gt;</th><th scope=col>&lt;dbl&gt;</th><th scope=col>&lt;dbl&gt;</th><th scope=col>&lt;dbl&gt;</th><th scope=col>&lt;dbl&gt;</th><th scope=col>&lt;dbl&gt;</th><th scope=col>&lt;dbl&gt;</th></tr>\n",
       "</thead>\n",
       "<tbody>\n",
       "\t<tr><th scope=row>1</th><td>55</td><td>0.394</td><td>0.484</td><td>160187</td><td>0.265</td><td>0</td><td>0.00e+00</td><td>0</td><td>0.1490</td><td>-11.101</td><td>⋯</td><td>0</td><td>0</td><td>0</td><td>0</td><td>0</td><td>1</td><td> 2143</td><td>183</td><td>182</td><td>11.77</td></tr>\n",
       "\t<tr><th scope=row>2</th><td>39</td><td>0.255</td><td>0.405</td><td>141987</td><td>0.365</td><td>0</td><td>4.68e-06</td><td>6</td><td>0.1630</td><td>-10.226</td><td>⋯</td><td>0</td><td>0</td><td>0</td><td>0</td><td>0</td><td>1</td><td> 2143</td><td>183</td><td>182</td><td>11.77</td></tr>\n",
       "\t<tr><th scope=row>3</th><td>34</td><td>0.406</td><td>0.477</td><td>157093</td><td>0.352</td><td>0</td><td>0.00e+00</td><td>1</td><td>0.1220</td><td>-14.165</td><td>⋯</td><td>1</td><td>0</td><td>0</td><td>0</td><td>0</td><td>1</td><td> 2143</td><td>183</td><td>182</td><td>11.77</td></tr>\n",
       "\t<tr><th scope=row>4</th><td>27</td><td>0.887</td><td>0.319</td><td>187333</td><td>0.201</td><td>0</td><td>0.00e+00</td><td>7</td><td>0.9040</td><td>-17.796</td><td>⋯</td><td>1</td><td>0</td><td>0</td><td>0</td><td>0</td><td>1</td><td>22115</td><td>773</td><td>773</td><td>28.61</td></tr>\n",
       "\t<tr><th scope=row>5</th><td>26</td><td>0.938</td><td>0.269</td><td>236800</td><td>0.129</td><td>0</td><td>4.87e-06</td><td>7</td><td>0.6830</td><td>-18.168</td><td>⋯</td><td>0</td><td>0</td><td>0</td><td>0</td><td>0</td><td>1</td><td>22115</td><td>773</td><td>773</td><td>28.61</td></tr>\n",
       "\t<tr><th scope=row>6</th><td>30</td><td>0.360</td><td>0.617</td><td>114987</td><td>0.711</td><td>0</td><td>1.59e-06</td><td>9</td><td>0.0841</td><td> -6.433</td><td>⋯</td><td>0</td><td>0</td><td>0</td><td>0</td><td>0</td><td>1</td><td> 2143</td><td>183</td><td>182</td><td>11.77</td></tr>\n",
       "</tbody>\n",
       "</table>\n"
      ],
      "text/latex": [
       "A data.frame: 6 × 25\n",
       "\\begin{tabular}{r|lllllllllllllllllllll}\n",
       "  & popularity & acousticness & danceability & duration\\_ms & energy & explicit & instrumentalness & key & liveness & loudness & ⋯ & language.english & language.catalan & language.german & language.frisian & language.welsh & artist.number & artist.rank\\_sum & artist.trackcount & artist.trackrankedcount & artist.rank\\_mean\\\\\n",
       "  & <dbl> & <dbl> & <dbl> & <dbl> & <dbl> & <dbl> & <dbl> & <dbl> & <dbl> & <dbl> & ⋯ & <dbl> & <dbl> & <dbl> & <dbl> & <dbl> & <dbl> & <dbl> & <dbl> & <dbl> & <dbl>\\\\\n",
       "\\hline\n",
       "\t1 & 55 & 0.394 & 0.484 & 160187 & 0.265 & 0 & 0.00e+00 & 0 & 0.1490 & -11.101 & ⋯ & 0 & 0 & 0 & 0 & 0 & 1 &  2143 & 183 & 182 & 11.77\\\\\n",
       "\t2 & 39 & 0.255 & 0.405 & 141987 & 0.365 & 0 & 4.68e-06 & 6 & 0.1630 & -10.226 & ⋯ & 0 & 0 & 0 & 0 & 0 & 1 &  2143 & 183 & 182 & 11.77\\\\\n",
       "\t3 & 34 & 0.406 & 0.477 & 157093 & 0.352 & 0 & 0.00e+00 & 1 & 0.1220 & -14.165 & ⋯ & 1 & 0 & 0 & 0 & 0 & 1 &  2143 & 183 & 182 & 11.77\\\\\n",
       "\t4 & 27 & 0.887 & 0.319 & 187333 & 0.201 & 0 & 0.00e+00 & 7 & 0.9040 & -17.796 & ⋯ & 1 & 0 & 0 & 0 & 0 & 1 & 22115 & 773 & 773 & 28.61\\\\\n",
       "\t5 & 26 & 0.938 & 0.269 & 236800 & 0.129 & 0 & 4.87e-06 & 7 & 0.6830 & -18.168 & ⋯ & 0 & 0 & 0 & 0 & 0 & 1 & 22115 & 773 & 773 & 28.61\\\\\n",
       "\t6 & 30 & 0.360 & 0.617 & 114987 & 0.711 & 0 & 1.59e-06 & 9 & 0.0841 &  -6.433 & ⋯ & 0 & 0 & 0 & 0 & 0 & 1 &  2143 & 183 & 182 & 11.77\\\\\n",
       "\\end{tabular}\n"
      ],
      "text/markdown": [
       "\n",
       "A data.frame: 6 × 25\n",
       "\n",
       "| <!--/--> | popularity &lt;dbl&gt; | acousticness &lt;dbl&gt; | danceability &lt;dbl&gt; | duration_ms &lt;dbl&gt; | energy &lt;dbl&gt; | explicit &lt;dbl&gt; | instrumentalness &lt;dbl&gt; | key &lt;dbl&gt; | liveness &lt;dbl&gt; | loudness &lt;dbl&gt; | ⋯ ⋯ | language.english &lt;dbl&gt; | language.catalan &lt;dbl&gt; | language.german &lt;dbl&gt; | language.frisian &lt;dbl&gt; | language.welsh &lt;dbl&gt; | artist.number &lt;dbl&gt; | artist.rank_sum &lt;dbl&gt; | artist.trackcount &lt;dbl&gt; | artist.trackrankedcount &lt;dbl&gt; | artist.rank_mean &lt;dbl&gt; |\n",
       "|---|---|---|---|---|---|---|---|---|---|---|---|---|---|---|---|---|---|---|---|---|---|\n",
       "| 1 | 55 | 0.394 | 0.484 | 160187 | 0.265 | 0 | 0.00e+00 | 0 | 0.1490 | -11.101 | ⋯ | 0 | 0 | 0 | 0 | 0 | 1 |  2143 | 183 | 182 | 11.77 |\n",
       "| 2 | 39 | 0.255 | 0.405 | 141987 | 0.365 | 0 | 4.68e-06 | 6 | 0.1630 | -10.226 | ⋯ | 0 | 0 | 0 | 0 | 0 | 1 |  2143 | 183 | 182 | 11.77 |\n",
       "| 3 | 34 | 0.406 | 0.477 | 157093 | 0.352 | 0 | 0.00e+00 | 1 | 0.1220 | -14.165 | ⋯ | 1 | 0 | 0 | 0 | 0 | 1 |  2143 | 183 | 182 | 11.77 |\n",
       "| 4 | 27 | 0.887 | 0.319 | 187333 | 0.201 | 0 | 0.00e+00 | 7 | 0.9040 | -17.796 | ⋯ | 1 | 0 | 0 | 0 | 0 | 1 | 22115 | 773 | 773 | 28.61 |\n",
       "| 5 | 26 | 0.938 | 0.269 | 236800 | 0.129 | 0 | 4.87e-06 | 7 | 0.6830 | -18.168 | ⋯ | 0 | 0 | 0 | 0 | 0 | 1 | 22115 | 773 | 773 | 28.61 |\n",
       "| 6 | 30 | 0.360 | 0.617 | 114987 | 0.711 | 0 | 1.59e-06 | 9 | 0.0841 |  -6.433 | ⋯ | 0 | 0 | 0 | 0 | 0 | 1 |  2143 | 183 | 182 | 11.77 |\n",
       "\n"
      ],
      "text/plain": [
       "  popularity acousticness danceability duration_ms energy explicit\n",
       "1 55         0.394        0.484        160187      0.265  0       \n",
       "2 39         0.255        0.405        141987      0.365  0       \n",
       "3 34         0.406        0.477        157093      0.352  0       \n",
       "4 27         0.887        0.319        187333      0.201  0       \n",
       "5 26         0.938        0.269        236800      0.129  0       \n",
       "6 30         0.360        0.617        114987      0.711  0       \n",
       "  instrumentalness key liveness loudness ⋯ language.english language.catalan\n",
       "1 0.00e+00         0   0.1490   -11.101  ⋯ 0                0               \n",
       "2 4.68e-06         6   0.1630   -10.226  ⋯ 0                0               \n",
       "3 0.00e+00         1   0.1220   -14.165  ⋯ 1                0               \n",
       "4 0.00e+00         7   0.9040   -17.796  ⋯ 1                0               \n",
       "5 4.87e-06         7   0.6830   -18.168  ⋯ 0                0               \n",
       "6 1.59e-06         9   0.0841    -6.433  ⋯ 0                0               \n",
       "  language.german language.frisian language.welsh artist.number artist.rank_sum\n",
       "1 0               0                0              1              2143          \n",
       "2 0               0                0              1              2143          \n",
       "3 0               0                0              1              2143          \n",
       "4 0               0                0              1             22115          \n",
       "5 0               0                0              1             22115          \n",
       "6 0               0                0              1              2143          \n",
       "  artist.trackcount artist.trackrankedcount artist.rank_mean\n",
       "1 183               182                     11.77           \n",
       "2 183               182                     11.77           \n",
       "3 183               182                     11.77           \n",
       "4 773               773                     28.61           \n",
       "5 773               773                     28.61           \n",
       "6 183               182                     11.77           "
      ]
     },
     "metadata": {},
     "output_type": "display_data"
    }
   ],
   "source": [
    "# download the file if it does not exist\n",
    "\n",
    "target.df <- h2o.importFile('https://raw.githubusercontent.com/OlegRyzhkov2020/SpotifyPopularity/main/data/target_numeric_popularity.csv') \n",
    "dim(target.df)\n",
    "head(target.df)"
   ]
  },
  {
   "cell_type": "code",
   "execution_count": null,
   "metadata": {},
   "outputs": [],
   "source": []
  }
 ],
 "metadata": {
  "kernelspec": {
   "display_name": "R",
   "language": "R",
   "name": "ir"
  },
  "language_info": {
   "codemirror_mode": "r",
   "file_extension": ".r",
   "mimetype": "text/x-r-source",
   "name": "R",
   "pygments_lexer": "r",
   "version": "4.0.2"
  }
 },
 "nbformat": 4,
 "nbformat_minor": 4
}
