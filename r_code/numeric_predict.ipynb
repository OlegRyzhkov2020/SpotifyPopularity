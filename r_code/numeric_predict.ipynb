{
 "cells": [
  {
   "cell_type": "markdown",
   "metadata": {},
   "source": [
    "---\n",
    "title: \"Spotify Project\"\n",
    "subtitle: \"Numeric prediction model\"\n",
    "author: \"Oleg Ryzhkov (oryzhkov@chicagobooth.edu)\"\n",
    "date: March 13, 2021\n",
    "output: neural network model \n",
    "---"
   ]
  },
  {
   "cell_type": "markdown",
   "metadata": {},
   "source": [
    "Load the H2O R package.\n",
    "\n",
    "- R installation instructions are at http://h2o.ai/download  "
   ]
  },
  {
   "cell_type": "code",
   "execution_count": 3,
   "metadata": {},
   "outputs": [],
   "source": [
    "library(h2o)"
   ]
  },
  {
   "cell_type": "code",
   "execution_count": 4,
   "metadata": {},
   "outputs": [
    {
     "name": "stdout",
     "output_type": "stream",
     "text": [
      " Connection successful!\n",
      "\n",
      "R is connected to the H2O cluster: \n",
      "    H2O cluster uptime:         7 days 12 hours \n",
      "    H2O cluster timezone:       America/Chicago \n",
      "    H2O data parsing timezone:  UTC \n",
      "    H2O cluster version:        3.32.0.1 \n",
      "    H2O cluster version age:    5 months and 4 days !!! \n",
      "    H2O cluster name:           H2O_started_from_R_olegryzhkov_tpd759 \n",
      "    H2O cluster total nodes:    1 \n",
      "    H2O cluster total memory:   1.71 GB \n",
      "    H2O cluster total cores:    8 \n",
      "    H2O cluster allowed cores:  1 \n",
      "    H2O cluster healthy:        TRUE \n",
      "    H2O Connection ip:          localhost \n",
      "    H2O Connection port:        54321 \n",
      "    H2O Connection proxy:       NA \n",
      "    H2O Internal Security:      FALSE \n",
      "    H2O API Extensions:         Amazon S3, XGBoost, Algos, AutoML, Core V3, TargetEncoder, Core V4 \n",
      "    R Version:                  R version 4.0.2 (2020-06-22) \n"
     ]
    },
    {
     "name": "stderr",
     "output_type": "stream",
     "text": [
      "Warning message in h2o.clusterInfo():\n",
      "“\n",
      "Your H2O cluster version is too old (5 months and 4 days)!\n",
      "Please download and install the latest version from http://h2o.ai/download/”\n"
     ]
    },
    {
     "name": "stdout",
     "output_type": "stream",
     "text": [
      "\n"
     ]
    }
   ],
   "source": [
    "# Start up a 1-node H2O server on your local machine, \n",
    "# and allow it to use all CPU cores and up to 8GB of memory.\n",
    "\n",
    "h2o.init(nthreads=-1, max_mem_size=\"8G\")\n",
    "h2o.no_progress()"
   ]
  },
  {
   "cell_type": "markdown",
   "metadata": {},
   "source": [
    "The `h2o.deeplearning` function fits H2O's \n",
    "Deep Learning models from within R.\n",
    "```{r}\n",
    "help(h2o.deeplearning)\n",
    "```\n",
    "\n",
    "While H2O Deep Learning has many parameters, it is quite easy to use.\n",
    "Most often we can use the default parameters for many of the inputs.\n",
    "We should change the following parameters:\n",
    "\n",
    "- the number and sizes of hidden layers;\n",
    "- the number of epochs and the activation function;\n",
    "- add some regularization technique.\n",
    "  \n",
    "  \n",
    "We will apply it to `target_numeric_popularity` data, which\n",
    "we got cleaning and transforming the original dataset."
   ]
  },
  {
   "cell_type": "code",
   "execution_count": null,
   "metadata": {},
   "outputs": [],
   "source": [
    "# download the file if it does not exist\n",
    "if (!file.exists(\"UsedCars.csv\"))\n",
    "  download.file('https://github.com/ChicagoBoothML/MLClassData/raw/master/UsedCars/UsedCars.csv', 'UsedCars.csv')\n",
    "\n",
    "df <- h2o.importFile('UsedCars.csv') \n",
    "dim( df )\n",
    "df"
   ]
  }
 ],
 "metadata": {
  "kernelspec": {
   "display_name": "R",
   "language": "R",
   "name": "ir"
  },
  "language_info": {
   "codemirror_mode": "r",
   "file_extension": ".r",
   "mimetype": "text/x-r-source",
   "name": "R",
   "pygments_lexer": "r",
   "version": "4.0.2"
  }
 },
 "nbformat": 4,
 "nbformat_minor": 4
}
