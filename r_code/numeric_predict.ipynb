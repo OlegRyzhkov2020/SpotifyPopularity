{
 "cells": [
  {
   "cell_type": "markdown",
   "metadata": {},
   "source": [
    "---\n",
    "title: \"Spotify Project\"\n",
    "subtitle: \"Numeric prediction model\"\n",
    "author: \"Oleg Ryzhkov (oryzhkov@chicagobooth.edu)\"\n",
    "date: March 13, 2021\n",
    "output: neural network model numeric prediction \n",
    "---"
   ]
  },
  {
   "cell_type": "markdown",
   "metadata": {},
   "source": [
    "Load the H2O R package.\n",
    "\n",
    "- R installation instructions are at http://h2o.ai/download  "
   ]
  },
  {
   "cell_type": "code",
   "execution_count": 2,
   "metadata": {},
   "outputs": [],
   "source": [
    "library(h2o)"
   ]
  },
  {
   "cell_type": "code",
   "execution_count": 3,
   "metadata": {},
   "outputs": [
    {
     "name": "stdout",
     "output_type": "stream",
     "text": [
      " Connection successful!\n",
      "\n",
      "R is connected to the H2O cluster: \n",
      "    H2O cluster uptime:         7 days 12 hours \n",
      "    H2O cluster timezone:       America/Chicago \n",
      "    H2O data parsing timezone:  UTC \n",
      "    H2O cluster version:        3.32.0.1 \n",
      "    H2O cluster version age:    5 months and 4 days !!! \n",
      "    H2O cluster name:           H2O_started_from_R_olegryzhkov_tpd759 \n",
      "    H2O cluster total nodes:    1 \n",
      "    H2O cluster total memory:   1.71 GB \n",
      "    H2O cluster total cores:    8 \n",
      "    H2O cluster allowed cores:  1 \n",
      "    H2O cluster healthy:        TRUE \n",
      "    H2O Connection ip:          localhost \n",
      "    H2O Connection port:        54321 \n",
      "    H2O Connection proxy:       NA \n",
      "    H2O Internal Security:      FALSE \n",
      "    H2O API Extensions:         Amazon S3, XGBoost, Algos, AutoML, Core V3, TargetEncoder, Core V4 \n",
      "    R Version:                  R version 4.0.2 (2020-06-22) \n"
     ]
    },
    {
     "name": "stderr",
     "output_type": "stream",
     "text": [
      "Warning message in h2o.clusterInfo():\n",
      "“\n",
      "Your H2O cluster version is too old (5 months and 4 days)!\n",
      "Please download and install the latest version from http://h2o.ai/download/”\n"
     ]
    },
    {
     "name": "stdout",
     "output_type": "stream",
     "text": [
      "\n"
     ]
    }
   ],
   "source": [
    "# Start up a 1-node H2O server on your local machine, \n",
    "# and allow it to use all CPU cores and up to 8GB of memory.\n",
    "\n",
    "h2o.init(nthreads=-1, max_mem_size=\"8G\")\n",
    "h2o.no_progress()"
   ]
  },
  {
   "cell_type": "markdown",
   "metadata": {},
   "source": [
    "The `h2o.deeplearning` function fits H2O's \n",
    "Deep Learning models from within R.\n",
    "```{r}\n",
    "help(h2o.deeplearning)\n",
    "```\n",
    "\n",
    "While H2O Deep Learning has many parameters, it is quite easy to use.\n",
    "Most often we can use the default parameters for many of the inputs.\n",
    "We should change the following parameters:\n",
    "\n",
    "- the number and sizes of hidden layers;\n",
    "- the number of epochs and the activation function;\n",
    "- add some regularization technique.\n",
    "  \n",
    "  \n",
    "We will apply it to `target_numeric_popularity` data, which\n",
    "we got cleaning and transforming the original dataset."
   ]
  },
  {
   "cell_type": "code",
   "execution_count": 24,
   "metadata": {},
   "outputs": [
    {
     "data": {
      "text/html": [
       "<table>\n",
       "<caption>A data.frame: 6 × 25</caption>\n",
       "<thead>\n",
       "\t<tr><th></th><th scope=col>popularity</th><th scope=col>acousticness</th><th scope=col>danceability</th><th scope=col>duration_ms</th><th scope=col>energy</th><th scope=col>explicit</th><th scope=col>instrumentalness</th><th scope=col>key</th><th scope=col>liveness</th><th scope=col>loudness</th><th scope=col>⋯</th><th scope=col>language.english</th><th scope=col>language.catalan</th><th scope=col>language.german</th><th scope=col>language.frisian</th><th scope=col>language.welsh</th><th scope=col>artist.number</th><th scope=col>artist.rank_sum</th><th scope=col>artist.trackcount</th><th scope=col>artist.trackrankedcount</th><th scope=col>artist.rank_mean</th></tr>\n",
       "\t<tr><th></th><th scope=col>&lt;int&gt;</th><th scope=col>&lt;dbl&gt;</th><th scope=col>&lt;dbl&gt;</th><th scope=col>&lt;int&gt;</th><th scope=col>&lt;dbl&gt;</th><th scope=col>&lt;int&gt;</th><th scope=col>&lt;dbl&gt;</th><th scope=col>&lt;int&gt;</th><th scope=col>&lt;dbl&gt;</th><th scope=col>&lt;dbl&gt;</th><th scope=col>⋯</th><th scope=col>&lt;int&gt;</th><th scope=col>&lt;int&gt;</th><th scope=col>&lt;int&gt;</th><th scope=col>&lt;int&gt;</th><th scope=col>&lt;int&gt;</th><th scope=col>&lt;int&gt;</th><th scope=col>&lt;int&gt;</th><th scope=col>&lt;int&gt;</th><th scope=col>&lt;int&gt;</th><th scope=col>&lt;dbl&gt;</th></tr>\n",
       "</thead>\n",
       "<tbody>\n",
       "\t<tr><th scope=row>1</th><td>55</td><td>0.394</td><td>0.484</td><td>160187</td><td>0.265</td><td>0</td><td>0.00e+00</td><td>0</td><td>0.1490</td><td>-11.101</td><td>⋯</td><td>0</td><td>0</td><td>0</td><td>0</td><td>0</td><td>1</td><td> 2143</td><td>183</td><td>182</td><td>11.77</td></tr>\n",
       "\t<tr><th scope=row>2</th><td>39</td><td>0.255</td><td>0.405</td><td>141987</td><td>0.365</td><td>0</td><td>4.68e-06</td><td>6</td><td>0.1630</td><td>-10.226</td><td>⋯</td><td>0</td><td>0</td><td>0</td><td>0</td><td>0</td><td>1</td><td> 2143</td><td>183</td><td>182</td><td>11.77</td></tr>\n",
       "\t<tr><th scope=row>3</th><td>34</td><td>0.406</td><td>0.477</td><td>157093</td><td>0.352</td><td>0</td><td>0.00e+00</td><td>1</td><td>0.1220</td><td>-14.165</td><td>⋯</td><td>1</td><td>0</td><td>0</td><td>0</td><td>0</td><td>1</td><td> 2143</td><td>183</td><td>182</td><td>11.77</td></tr>\n",
       "\t<tr><th scope=row>4</th><td>27</td><td>0.887</td><td>0.319</td><td>187333</td><td>0.201</td><td>0</td><td>0.00e+00</td><td>7</td><td>0.9040</td><td>-17.796</td><td>⋯</td><td>1</td><td>0</td><td>0</td><td>0</td><td>0</td><td>1</td><td>22115</td><td>773</td><td>773</td><td>28.61</td></tr>\n",
       "\t<tr><th scope=row>5</th><td>26</td><td>0.938</td><td>0.269</td><td>236800</td><td>0.129</td><td>0</td><td>4.87e-06</td><td>7</td><td>0.6830</td><td>-18.168</td><td>⋯</td><td>0</td><td>0</td><td>0</td><td>0</td><td>0</td><td>1</td><td>22115</td><td>773</td><td>773</td><td>28.61</td></tr>\n",
       "\t<tr><th scope=row>6</th><td>30</td><td>0.360</td><td>0.617</td><td>114987</td><td>0.711</td><td>0</td><td>1.59e-06</td><td>9</td><td>0.0841</td><td> -6.433</td><td>⋯</td><td>0</td><td>0</td><td>0</td><td>0</td><td>0</td><td>1</td><td> 2143</td><td>183</td><td>182</td><td>11.77</td></tr>\n",
       "</tbody>\n",
       "</table>\n"
      ],
      "text/latex": [
       "A data.frame: 6 × 25\n",
       "\\begin{tabular}{r|lllllllllllllllllllll}\n",
       "  & popularity & acousticness & danceability & duration\\_ms & energy & explicit & instrumentalness & key & liveness & loudness & ⋯ & language.english & language.catalan & language.german & language.frisian & language.welsh & artist.number & artist.rank\\_sum & artist.trackcount & artist.trackrankedcount & artist.rank\\_mean\\\\\n",
       "  & <int> & <dbl> & <dbl> & <int> & <dbl> & <int> & <dbl> & <int> & <dbl> & <dbl> & ⋯ & <int> & <int> & <int> & <int> & <int> & <int> & <int> & <int> & <int> & <dbl>\\\\\n",
       "\\hline\n",
       "\t1 & 55 & 0.394 & 0.484 & 160187 & 0.265 & 0 & 0.00e+00 & 0 & 0.1490 & -11.101 & ⋯ & 0 & 0 & 0 & 0 & 0 & 1 &  2143 & 183 & 182 & 11.77\\\\\n",
       "\t2 & 39 & 0.255 & 0.405 & 141987 & 0.365 & 0 & 4.68e-06 & 6 & 0.1630 & -10.226 & ⋯ & 0 & 0 & 0 & 0 & 0 & 1 &  2143 & 183 & 182 & 11.77\\\\\n",
       "\t3 & 34 & 0.406 & 0.477 & 157093 & 0.352 & 0 & 0.00e+00 & 1 & 0.1220 & -14.165 & ⋯ & 1 & 0 & 0 & 0 & 0 & 1 &  2143 & 183 & 182 & 11.77\\\\\n",
       "\t4 & 27 & 0.887 & 0.319 & 187333 & 0.201 & 0 & 0.00e+00 & 7 & 0.9040 & -17.796 & ⋯ & 1 & 0 & 0 & 0 & 0 & 1 & 22115 & 773 & 773 & 28.61\\\\\n",
       "\t5 & 26 & 0.938 & 0.269 & 236800 & 0.129 & 0 & 4.87e-06 & 7 & 0.6830 & -18.168 & ⋯ & 0 & 0 & 0 & 0 & 0 & 1 & 22115 & 773 & 773 & 28.61\\\\\n",
       "\t6 & 30 & 0.360 & 0.617 & 114987 & 0.711 & 0 & 1.59e-06 & 9 & 0.0841 &  -6.433 & ⋯ & 0 & 0 & 0 & 0 & 0 & 1 &  2143 & 183 & 182 & 11.77\\\\\n",
       "\\end{tabular}\n"
      ],
      "text/markdown": [
       "\n",
       "A data.frame: 6 × 25\n",
       "\n",
       "| <!--/--> | popularity &lt;int&gt; | acousticness &lt;dbl&gt; | danceability &lt;dbl&gt; | duration_ms &lt;int&gt; | energy &lt;dbl&gt; | explicit &lt;int&gt; | instrumentalness &lt;dbl&gt; | key &lt;int&gt; | liveness &lt;dbl&gt; | loudness &lt;dbl&gt; | ⋯ ⋯ | language.english &lt;int&gt; | language.catalan &lt;int&gt; | language.german &lt;int&gt; | language.frisian &lt;int&gt; | language.welsh &lt;int&gt; | artist.number &lt;int&gt; | artist.rank_sum &lt;int&gt; | artist.trackcount &lt;int&gt; | artist.trackrankedcount &lt;int&gt; | artist.rank_mean &lt;dbl&gt; |\n",
       "|---|---|---|---|---|---|---|---|---|---|---|---|---|---|---|---|---|---|---|---|---|---|\n",
       "| 1 | 55 | 0.394 | 0.484 | 160187 | 0.265 | 0 | 0.00e+00 | 0 | 0.1490 | -11.101 | ⋯ | 0 | 0 | 0 | 0 | 0 | 1 |  2143 | 183 | 182 | 11.77 |\n",
       "| 2 | 39 | 0.255 | 0.405 | 141987 | 0.365 | 0 | 4.68e-06 | 6 | 0.1630 | -10.226 | ⋯ | 0 | 0 | 0 | 0 | 0 | 1 |  2143 | 183 | 182 | 11.77 |\n",
       "| 3 | 34 | 0.406 | 0.477 | 157093 | 0.352 | 0 | 0.00e+00 | 1 | 0.1220 | -14.165 | ⋯ | 1 | 0 | 0 | 0 | 0 | 1 |  2143 | 183 | 182 | 11.77 |\n",
       "| 4 | 27 | 0.887 | 0.319 | 187333 | 0.201 | 0 | 0.00e+00 | 7 | 0.9040 | -17.796 | ⋯ | 1 | 0 | 0 | 0 | 0 | 1 | 22115 | 773 | 773 | 28.61 |\n",
       "| 5 | 26 | 0.938 | 0.269 | 236800 | 0.129 | 0 | 4.87e-06 | 7 | 0.6830 | -18.168 | ⋯ | 0 | 0 | 0 | 0 | 0 | 1 | 22115 | 773 | 773 | 28.61 |\n",
       "| 6 | 30 | 0.360 | 0.617 | 114987 | 0.711 | 0 | 1.59e-06 | 9 | 0.0841 |  -6.433 | ⋯ | 0 | 0 | 0 | 0 | 0 | 1 |  2143 | 183 | 182 | 11.77 |\n",
       "\n"
      ],
      "text/plain": [
       "  popularity acousticness danceability duration_ms energy explicit\n",
       "1 55         0.394        0.484        160187      0.265  0       \n",
       "2 39         0.255        0.405        141987      0.365  0       \n",
       "3 34         0.406        0.477        157093      0.352  0       \n",
       "4 27         0.887        0.319        187333      0.201  0       \n",
       "5 26         0.938        0.269        236800      0.129  0       \n",
       "6 30         0.360        0.617        114987      0.711  0       \n",
       "  instrumentalness key liveness loudness ⋯ language.english language.catalan\n",
       "1 0.00e+00         0   0.1490   -11.101  ⋯ 0                0               \n",
       "2 4.68e-06         6   0.1630   -10.226  ⋯ 0                0               \n",
       "3 0.00e+00         1   0.1220   -14.165  ⋯ 1                0               \n",
       "4 0.00e+00         7   0.9040   -17.796  ⋯ 1                0               \n",
       "5 4.87e-06         7   0.6830   -18.168  ⋯ 0                0               \n",
       "6 1.59e-06         9   0.0841    -6.433  ⋯ 0                0               \n",
       "  language.german language.frisian language.welsh artist.number artist.rank_sum\n",
       "1 0               0                0              1              2143          \n",
       "2 0               0                0              1              2143          \n",
       "3 0               0                0              1              2143          \n",
       "4 0               0                0              1             22115          \n",
       "5 0               0                0              1             22115          \n",
       "6 0               0                0              1              2143          \n",
       "  artist.trackcount artist.trackrankedcount artist.rank_mean\n",
       "1 183               182                     11.77           \n",
       "2 183               182                     11.77           \n",
       "3 183               182                     11.77           \n",
       "4 773               773                     28.61           \n",
       "5 773               773                     28.61           \n",
       "6 183               182                     11.77           "
      ]
     },
     "metadata": {},
     "output_type": "display_data"
    }
   ],
   "source": [
    "target.df <- read.csv('../data/target_numeric_popularity.csv')\n",
    "head(target.df)"
   ]
  },
  {
   "cell_type": "code",
   "execution_count": 33,
   "metadata": {},
   "outputs": [
    {
     "name": "stdout",
     "output_type": "stream",
     "text": [
      "\n",
      "ERROR: Unexpected HTTP Status code: 404 Not Found (url = http://localhost:54321/3/ImportFiles?path=target.csv&pattern=)\n",
      "\n",
      "water.exceptions.H2ONotFoundArgumentException\n",
      " [1] \"water.exceptions.H2ONotFoundArgumentException: File target.csv does not exist\"                               \n",
      " [2] \"    water.persist.PersistNFS.importFiles(PersistNFS.java:127)\"                                               \n",
      " [3] \"    water.persist.PersistManager.importFiles(PersistManager.java:386)\"                                       \n",
      " [4] \"    water.api.ImportFilesHandler.importFiles(ImportFilesHandler.java:25)\"                                    \n",
      " [5] \"    jdk.internal.reflect.GeneratedMethodAccessor16.invoke(Unknown Source)\"                                   \n",
      " [6] \"    java.base/jdk.internal.reflect.DelegatingMethodAccessorImpl.invoke(DelegatingMethodAccessorImpl.java:43)\"\n",
      " [7] \"    java.base/java.lang.reflect.Method.invoke(Method.java:567)\"                                              \n",
      " [8] \"    water.api.Handler.handle(Handler.java:60)\"                                                               \n",
      " [9] \"    water.api.RequestServer.serve(RequestServer.java:470)\"                                                   \n",
      "[10] \"    water.api.RequestServer.doGeneric(RequestServer.java:301)\"                                               \n",
      "[11] \"    water.api.RequestServer.doGet(RequestServer.java:225)\"                                                   \n",
      "[12] \"    javax.servlet.http.HttpServlet.service(HttpServlet.java:687)\"                                            \n",
      "[13] \"    javax.servlet.http.HttpServlet.service(HttpServlet.java:790)\"                                            \n",
      "[14] \"    org.eclipse.jetty.servlet.ServletHolder.handle(ServletHolder.java:865)\"                                  \n",
      "[15] \"    org.eclipse.jetty.servlet.ServletHandler.doHandle(ServletHandler.java:535)\"                              \n",
      "[16] \"    org.eclipse.jetty.server.handler.ScopedHandler.nextHandle(ScopedHandler.java:255)\"                       \n",
      "[17] \"    org.eclipse.jetty.server.handler.ContextHandler.doHandle(ContextHandler.java:1317)\"                      \n",
      "[18] \"    org.eclipse.jetty.server.handler.ScopedHandler.nextScope(ScopedHandler.java:203)\"                        \n",
      "[19] \"    org.eclipse.jetty.servlet.ServletHandler.doScope(ServletHandler.java:473)\"                               \n",
      "[20] \"    org.eclipse.jetty.server.handler.ScopedHandler.nextScope(ScopedHandler.java:201)\"                        \n",
      "[21] \"    org.eclipse.jetty.server.handler.ContextHandler.doScope(ContextHandler.java:1219)\"                       \n",
      "[22] \"    org.eclipse.jetty.server.handler.ScopedHandler.handle(ScopedHandler.java:144)\"                           \n",
      "[23] \"    org.eclipse.jetty.server.handler.HandlerCollection.handle(HandlerCollection.java:126)\"                   \n",
      "[24] \"    org.eclipse.jetty.server.handler.HandlerWrapper.handle(HandlerWrapper.java:132)\"                         \n",
      "[25] \"    water.webserver.jetty9.Jetty9ServerAdapter$LoginHandler.handle(Jetty9ServerAdapter.java:130)\"            \n",
      "[26] \"    org.eclipse.jetty.server.handler.HandlerCollection.handle(HandlerCollection.java:126)\"                   \n",
      "[27] \"    org.eclipse.jetty.server.handler.HandlerWrapper.handle(HandlerWrapper.java:132)\"                         \n",
      "[28] \"    org.eclipse.jetty.server.Server.handle(Server.java:531)\"                                                 \n",
      "[29] \"    org.eclipse.jetty.server.HttpChannel.handle(HttpChannel.java:352)\"                                       \n",
      "[30] \"    org.eclipse.jetty.server.HttpConnection.onFillable(HttpConnection.java:260)\"                             \n",
      "[31] \"    org.eclipse.jetty.io.AbstractConnection$ReadCallback.succeeded(AbstractConnection.java:281)\"             \n",
      "[32] \"    org.eclipse.jetty.io.FillInterest.fillable(FillInterest.java:102)\"                                       \n",
      "[33] \"    org.eclipse.jetty.io.ChannelEndPoint$2.run(ChannelEndPoint.java:118)\"                                    \n",
      "[34] \"    org.eclipse.jetty.util.thread.strategy.EatWhatYouKill.runTask(EatWhatYouKill.java:333)\"                  \n",
      "[35] \"    org.eclipse.jetty.util.thread.strategy.EatWhatYouKill.doProduce(EatWhatYouKill.java:310)\"                \n",
      "[36] \"    org.eclipse.jetty.util.thread.strategy.EatWhatYouKill.tryProduce(EatWhatYouKill.java:168)\"               \n",
      "[37] \"    org.eclipse.jetty.util.thread.strategy.EatWhatYouKill.run(EatWhatYouKill.java:126)\"                      \n",
      "[38] \"    org.eclipse.jetty.util.thread.ReservedThreadExecutor$ReservedThread.run(ReservedThreadExecutor.java:366)\"\n",
      "[39] \"    org.eclipse.jetty.util.thread.QueuedThreadPool.runJob(QueuedThreadPool.java:762)\"                        \n",
      "[40] \"    org.eclipse.jetty.util.thread.QueuedThreadPool$2.run(QueuedThreadPool.java:680)\"                         \n",
      "[41] \"    java.base/java.lang.Thread.run(Thread.java:830)\"                                                         \n",
      "\n"
     ]
    },
    {
     "ename": "ERROR",
     "evalue": "Error in .h2o.doSafeREST(h2oRestApiVersion = h2oRestApiVersion, urlSuffix = page, : \n\nERROR MESSAGE:\n\nFile target.csv does not exist\n\n\n",
     "output_type": "error",
     "traceback": [
      "Error in .h2o.doSafeREST(h2oRestApiVersion = h2oRestApiVersion, urlSuffix = page, : \n\nERROR MESSAGE:\n\nFile target.csv does not exist\n\n\nTraceback:\n",
      "1. h2o.importFile(\"target.csv\")",
      "2. h2o.importFolder(path, pattern = \"\", destination_frame = destination_frame, \n .     parse, header, sep, col.names, col.types, na.strings = na.strings, \n .     decrypt_tool = decrypt_tool, skipped_columns = skipped_columns, \n .     custom_non_data_line_markers = custom_non_data_line_markers, \n .     partition_by)",
      "3. .h2o.__remoteSend(.h2o.__IMPORT, path = path, pattern = pattern)",
      "4. .h2o.doSafeREST(h2oRestApiVersion = h2oRestApiVersion, urlSuffix = page, \n .     parms = .params, method = method)",
      "5. stop(msg)"
     ]
    }
   ],
   "source": [
    "# download the file if it does not exist\n",
    "# if (!file.exists(\"target_numeric_popularity.csv\"))\n",
    "#     download.file('https://raw.githubusercontent.com/OlegRyzhkov2020/SpotifyPopularity/main/data/target_numeric_popularity.csv', 'target_numeric_popularity.csv')\n",
    "\n",
    "target.df <- h2o.importFile('target.csv') \n",
    "dim(target.df)\n",
    "head(target.df)"
   ]
  },
  {
   "cell_type": "code",
   "execution_count": 30,
   "metadata": {},
   "outputs": [
    {
     "data": {
      "text/html": [
       "<style>\n",
       ".list-inline {list-style: none; margin:0; padding: 0}\n",
       ".list-inline>li {display: inline-block}\n",
       ".list-inline>li:not(:last-child)::after {content: \"\\00b7\"; padding: 0 .5ex}\n",
       "</style>\n",
       "<ol class=list-inline><li>20063</li><li>11</li></ol>\n"
      ],
      "text/latex": [
       "\\begin{enumerate*}\n",
       "\\item 20063\n",
       "\\item 11\n",
       "\\end{enumerate*}\n"
      ],
      "text/markdown": [
       "1. 20063\n",
       "2. 11\n",
       "\n",
       "\n"
      ],
      "text/plain": [
       "[1] 20063    11"
      ]
     },
     "metadata": {},
     "output_type": "display_data"
    },
    {
     "data": {
      "text/plain": [
       "  price trim isOneOwner mileage year  color displacement     fuel region\n",
       "1  2988  320          f  193296 1995  Black          3.2 Gasoline    SoA\n",
       "2  6595  320          f  129948 1995  other          3.2 Gasoline    Mid\n",
       "3  7993  320          f  140428 1997  White          3.2 Gasoline    Mid\n",
       "4  5995  420          f  113622 1999 Silver          4.2 Gasoline    Mid\n",
       "5  3000  420          f  167673 1999 Silver          4.2 Gasoline    SoA\n",
       "6  7400  430          f   82419 2002  White          4.3 Gasoline    Mid\n",
       "  soundSystem wheelType\n",
       "1        unsp     Alloy\n",
       "2     Premium     Alloy\n",
       "3        Bose     Alloy\n",
       "4        unsp     Alloy\n",
       "5        unsp     Alloy\n",
       "6        Bose     Alloy\n",
       "\n",
       "[20063 rows x 11 columns] "
      ]
     },
     "metadata": {},
     "output_type": "display_data"
    }
   ],
   "source": [
    "# download the file if it does not exist\n",
    "if (!file.exists(\"UsedCars.csv\"))\n",
    "  download.file('https://raw.githubusercontent.com/ChicagoBoothML/MLClassData/master/UsedCars/UsedCars.csv', 'UsedCars.csv')\n",
    "\n",
    "df <- h2o.importFile(\"UsedCars.csv\") \n",
    "dim( df )\n",
    "df"
   ]
  },
  {
   "cell_type": "code",
   "execution_count": 13,
   "metadata": {},
   "outputs": [
    {
     "data": {
      "text/html": [
       "<pre class=language-r><code>function (name, pos = -1L, envir = as.environment(pos), all.names = FALSE, \n",
       "<span style=white-space:pre-wrap>    pattern, sorted = TRUE) </span>\n",
       "{\n",
       "<span style=white-space:pre-wrap>    if (!missing(name)) {</span>\n",
       "<span style=white-space:pre-wrap>        pos &lt;- tryCatch(name, error = function(e) e)</span>\n",
       "<span style=white-space:pre-wrap>        if (inherits(pos, \"error\")) {</span>\n",
       "<span style=white-space:pre-wrap>            name &lt;- substitute(name)</span>\n",
       "<span style=white-space:pre-wrap>            if (!is.character(name)) </span>\n",
       "<span style=white-space:pre-wrap>                name &lt;- deparse(name)</span>\n",
       "<span style=white-space:pre-wrap>            warning(gettextf(\"%s converted to character string\", </span>\n",
       "<span style=white-space:pre-wrap>                sQuote(name)), domain = NA)</span>\n",
       "<span style=white-space:pre-wrap>            pos &lt;- name</span>\n",
       "<span style=white-space:pre-wrap>        }</span>\n",
       "<span style=white-space:pre-wrap>    }</span>\n",
       "<span style=white-space:pre-wrap>    all.names &lt;- .Internal(ls(envir, all.names, sorted))</span>\n",
       "<span style=white-space:pre-wrap>    if (!missing(pattern)) {</span>\n",
       "<span style=white-space:pre-wrap>        if ((ll &lt;- length(grep(\"[\", pattern, fixed = TRUE))) &amp;&amp; </span>\n",
       "<span style=white-space:pre-wrap>            ll != length(grep(\"]\", pattern, fixed = TRUE))) {</span>\n",
       "<span style=white-space:pre-wrap>            if (pattern == \"[\") {</span>\n",
       "<span style=white-space:pre-wrap>                pattern &lt;- \"\\\\[\"</span>\n",
       "<span style=white-space:pre-wrap>                warning(\"replaced regular expression pattern '[' by  '\\\\\\\\['\")</span>\n",
       "<span style=white-space:pre-wrap>            }</span>\n",
       "<span style=white-space:pre-wrap>            else if (length(grep(\"[^\\\\\\\\]\\\\[&lt;-\", pattern))) {</span>\n",
       "<span style=white-space:pre-wrap>                pattern &lt;- sub(\"\\\\[&lt;-\", \"\\\\\\\\\\\\[&lt;-\", pattern)</span>\n",
       "<span style=white-space:pre-wrap>                warning(\"replaced '[&lt;-' by '\\\\\\\\[&lt;-' in regular expression pattern\")</span>\n",
       "<span style=white-space:pre-wrap>            }</span>\n",
       "<span style=white-space:pre-wrap>        }</span>\n",
       "<span style=white-space:pre-wrap>        grep(pattern, all.names, value = TRUE)</span>\n",
       "<span style=white-space:pre-wrap>    }</span>\n",
       "<span style=white-space:pre-wrap>    else all.names</span>\n",
       "}</code></pre>"
      ],
      "text/latex": [
       "\\begin{minted}{r}\n",
       "function (name, pos = -1L, envir = as.environment(pos), all.names = FALSE, \n",
       "    pattern, sorted = TRUE) \n",
       "\\{\n",
       "    if (!missing(name)) \\{\n",
       "        pos <- tryCatch(name, error = function(e) e)\n",
       "        if (inherits(pos, \"error\")) \\{\n",
       "            name <- substitute(name)\n",
       "            if (!is.character(name)) \n",
       "                name <- deparse(name)\n",
       "            warning(gettextf(\"\\%s converted to character string\", \n",
       "                sQuote(name)), domain = NA)\n",
       "            pos <- name\n",
       "        \\}\n",
       "    \\}\n",
       "    all.names <- .Internal(ls(envir, all.names, sorted))\n",
       "    if (!missing(pattern)) \\{\n",
       "        if ((ll <- length(grep(\"{[}\", pattern, fixed = TRUE))) \\&\\& \n",
       "            ll != length(grep(\"{]}\", pattern, fixed = TRUE))) \\{\n",
       "            if (pattern == \"{[}\") \\{\n",
       "                pattern <- \"\\textbackslash{}\\textbackslash{}{[}\"\n",
       "                warning(\"replaced regular expression pattern '{[}' by  '\\textbackslash{}\\textbackslash{}\\textbackslash{}\\textbackslash{}{[}'\")\n",
       "            \\}\n",
       "            else if (length(grep(\"{[}\\textasciicircum{}\\textbackslash{}\\textbackslash{}\\textbackslash{}\\textbackslash{}{]}\\textbackslash{}\\textbackslash{}{[}<-\", pattern))) \\{\n",
       "                pattern <- sub(\"\\textbackslash{}\\textbackslash{}{[}<-\", \"\\textbackslash{}\\textbackslash{}\\textbackslash{}\\textbackslash{}\\textbackslash{}\\textbackslash{}{[}<-\", pattern)\n",
       "                warning(\"replaced '{[}<-' by '\\textbackslash{}\\textbackslash{}\\textbackslash{}\\textbackslash{}{[}<-' in regular expression pattern\")\n",
       "            \\}\n",
       "        \\}\n",
       "        grep(pattern, all.names, value = TRUE)\n",
       "    \\}\n",
       "    else all.names\n",
       "\\}\n",
       "\\end{minted}"
      ],
      "text/markdown": [
       "```r\n",
       "function (name, pos = -1L, envir = as.environment(pos), all.names = FALSE, \n",
       "    pattern, sorted = TRUE) \n",
       "{\n",
       "    if (!missing(name)) {\n",
       "        pos <- tryCatch(name, error = function(e) e)\n",
       "        if (inherits(pos, \"error\")) {\n",
       "            name <- substitute(name)\n",
       "            if (!is.character(name)) \n",
       "                name <- deparse(name)\n",
       "            warning(gettextf(\"%s converted to character string\", \n",
       "                sQuote(name)), domain = NA)\n",
       "            pos <- name\n",
       "        }\n",
       "    }\n",
       "    all.names <- .Internal(ls(envir, all.names, sorted))\n",
       "    if (!missing(pattern)) {\n",
       "        if ((ll <- length(grep(\"[\", pattern, fixed = TRUE))) && \n",
       "            ll != length(grep(\"]\", pattern, fixed = TRUE))) {\n",
       "            if (pattern == \"[\") {\n",
       "                pattern <- \"\\\\[\"\n",
       "                warning(\"replaced regular expression pattern '[' by  '\\\\\\\\['\")\n",
       "            }\n",
       "            else if (length(grep(\"[^\\\\\\\\]\\\\[<-\", pattern))) {\n",
       "                pattern <- sub(\"\\\\[<-\", \"\\\\\\\\\\\\[<-\", pattern)\n",
       "                warning(\"replaced '[<-' by '\\\\\\\\[<-' in regular expression pattern\")\n",
       "            }\n",
       "        }\n",
       "        grep(pattern, all.names, value = TRUE)\n",
       "    }\n",
       "    else all.names\n",
       "}\n",
       "```"
      ],
      "text/plain": [
       "function (name, pos = -1L, envir = as.environment(pos), all.names = FALSE, \n",
       "    pattern, sorted = TRUE) \n",
       "{\n",
       "    if (!missing(name)) {\n",
       "        pos <- tryCatch(name, error = function(e) e)\n",
       "        if (inherits(pos, \"error\")) {\n",
       "            name <- substitute(name)\n",
       "            if (!is.character(name)) \n",
       "                name <- deparse(name)\n",
       "            warning(gettextf(\"%s converted to character string\", \n",
       "                sQuote(name)), domain = NA)\n",
       "            pos <- name\n",
       "        }\n",
       "    }\n",
       "    all.names <- .Internal(ls(envir, all.names, sorted))\n",
       "    if (!missing(pattern)) {\n",
       "        if ((ll <- length(grep(\"[\", pattern, fixed = TRUE))) && \n",
       "            ll != length(grep(\"]\", pattern, fixed = TRUE))) {\n",
       "            if (pattern == \"[\") {\n",
       "                pattern <- \"\\\\[\"\n",
       "                warning(\"replaced regular expression pattern '[' by  '\\\\\\\\['\")\n",
       "            }\n",
       "            else if (length(grep(\"[^\\\\\\\\]\\\\[<-\", pattern))) {\n",
       "                pattern <- sub(\"\\\\[<-\", \"\\\\\\\\\\\\[<-\", pattern)\n",
       "                warning(\"replaced '[<-' by '\\\\\\\\[<-' in regular expression pattern\")\n",
       "            }\n",
       "        }\n",
       "        grep(pattern, all.names, value = TRUE)\n",
       "    }\n",
       "    else all.names\n",
       "}\n",
       "<bytecode: 0x7fc08e508ce8>\n",
       "<environment: namespace:base>"
      ]
     },
     "metadata": {},
     "output_type": "display_data"
    }
   ],
   "source": []
  },
  {
   "cell_type": "code",
   "execution_count": null,
   "metadata": {},
   "outputs": [],
   "source": []
  }
 ],
 "metadata": {
  "kernelspec": {
   "display_name": "R",
   "language": "R",
   "name": "ir"
  },
  "language_info": {
   "codemirror_mode": "r",
   "file_extension": ".r",
   "mimetype": "text/x-r-source",
   "name": "R",
   "pygments_lexer": "r",
   "version": "4.0.2"
  }
 },
 "nbformat": 4,
 "nbformat_minor": 4
}
